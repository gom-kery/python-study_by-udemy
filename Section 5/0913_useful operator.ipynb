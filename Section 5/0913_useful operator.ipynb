{
 "cells": [
  {
   "cell_type": "markdown",
   "id": "d9262757",
   "metadata": {},
   "source": [
    "# Range() 함수"
   ]
  },
  {
   "cell_type": "code",
   "execution_count": 5,
   "id": "86d9f21a",
   "metadata": {},
   "outputs": [
    {
     "name": "stdout",
     "output_type": "stream",
     "text": [
      "0\n",
      "1\n",
      "2\n"
     ]
    }
   ],
   "source": [
    "for num in range(3):\n",
    "    print(num)"
   ]
  },
  {
   "cell_type": "code",
   "execution_count": 4,
   "id": "d167ac3d",
   "metadata": {},
   "outputs": [
    {
     "name": "stdout",
     "output_type": "stream",
     "text": [
      "1\n",
      "2\n",
      "3\n",
      "4\n"
     ]
    }
   ],
   "source": [
    "for num in range(1,5):\n",
    "    print(num)"
   ]
  },
  {
   "cell_type": "code",
   "execution_count": 7,
   "id": "f4c3c67b",
   "metadata": {},
   "outputs": [
    {
     "name": "stdout",
     "output_type": "stream",
     "text": [
      "0\n",
      "3\n",
      "6\n"
     ]
    }
   ],
   "source": [
    "for num3 in range(0,8,3):\n",
    "    print(num3)"
   ]
  },
  {
   "cell_type": "code",
   "execution_count": 8,
   "id": "ff3e83f4",
   "metadata": {},
   "outputs": [
    {
     "data": {
      "text/plain": [
       "[1, 2, 3, 4]"
      ]
     },
     "execution_count": 8,
     "metadata": {},
     "output_type": "execute_result"
    }
   ],
   "source": [
    "list(range(1,5))"
   ]
  },
  {
   "cell_type": "code",
   "execution_count": 9,
   "id": "d74dc89e",
   "metadata": {},
   "outputs": [
    {
     "data": {
      "text/plain": [
       "range(1, 5)"
      ]
     },
     "execution_count": 9,
     "metadata": {},
     "output_type": "execute_result"
    }
   ],
   "source": [
    "range(1,5)"
   ]
  },
  {
   "cell_type": "markdown",
   "id": "7507269a",
   "metadata": {},
   "source": [
    "# enumerate()"
   ]
  },
  {
   "cell_type": "markdown",
   "id": "f1d8e50a",
   "metadata": {},
   "source": [
    "인덱스의 순서에 따라 문자열이 출력되는 반복문"
   ]
  },
  {
   "cell_type": "code",
   "execution_count": 18,
   "id": "f19a7f44",
   "metadata": {
    "scrolled": true
   },
   "outputs": [
    {
     "name": "stdout",
     "output_type": "stream",
     "text": [
      "0 번째 글자 : w\n",
      "0 번째 글자 : a\n",
      "0 번째 글자 : r\n",
      "0 번째 글자 : c\n",
      "0 번째 글자 : r\n",
      "0 번째 글자 : a\n",
      "0 번째 글자 : f\n",
      "0 번째 글자 : t\n",
      "0 번째 글자 : 3\n"
     ]
    }
   ],
   "source": [
    "count = 0\n",
    "\n",
    "for text in \"warcraft3\":\n",
    "    print(f'{count} 번째 글자 : {text}')        # 이렇게만 실행하면 {count}는 0만 출력되지만 문자열은 정상적으로 출력됨\n",
    " #   count += 1                                 #  {count} 를 +1 씩 해주면 인덱스의 숫자 동일하게 출력."
   ]
  },
  {
   "cell_type": "markdown",
   "id": "d06eb253",
   "metadata": {},
   "source": [
    "### 같은 인덱스 순서로 결과를 출력하지만 다른 방식으로 작성가능한 코드"
   ]
  },
  {
   "cell_type": "code",
   "execution_count": 17,
   "id": "9c1a7ffd",
   "metadata": {},
   "outputs": [
    {
     "name": "stdout",
     "output_type": "stream",
     "text": [
      "w\n",
      "a\n",
      "r\n",
      "c\n",
      "r\n",
      "a\n",
      "f\n",
      "t\n",
      "3\n"
     ]
    }
   ],
   "source": [
    "count1 = 0\n",
    "game = \"warcraft3\"           # 문자열을 변수에 할당\n",
    "\n",
    "for text1 in game:\n",
    "    print(game[count1])      # 이렇게만 실행하면 w만 8번 출력됨.\n",
    "    count1 += 1              #  count1 을 +1 씩 해주면 글자가 순서대로 출력됨. "
   ]
  },
  {
   "cell_type": "markdown",
   "id": "0a606f55",
   "metadata": {},
   "source": [
    "### enumerate() 함수를 사용하면\n",
    "### '변수 = 0 설정' 및 '변수 += 1' 과 같은 코드를 모두 생략하고 \n",
    "단순하게 표현 가능"
   ]
  },
  {
   "cell_type": "markdown",
   "id": "9128696c",
   "metadata": {},
   "source": [
    "### 대신 range와 마찬가지로 enumerate() 단독으로는 사용 불가"
   ]
  },
  {
   "cell_type": "code",
   "execution_count": 22,
   "id": "f4ff27cc",
   "metadata": {},
   "outputs": [
    {
     "data": {
      "text/plain": [
       "<enumerate at 0x1e5c5490d00>"
      ]
     },
     "execution_count": 22,
     "metadata": {},
     "output_type": "execute_result"
    }
   ],
   "source": [
    "enumerate(\"wow\")"
   ]
  },
  {
   "cell_type": "markdown",
   "id": "1ef4da36",
   "metadata": {},
   "source": [
    "0x1e5c5490d00 메모리에서 enumerate를 기다리고 있습니다."
   ]
  },
  {
   "cell_type": "code",
   "execution_count": 19,
   "id": "f120f0f3",
   "metadata": {},
   "outputs": [
    {
     "name": "stdout",
     "output_type": "stream",
     "text": [
      "(0, 'w')\n",
      "(1, 'a')\n",
      "(2, 'r')\n",
      "(3, 'c')\n",
      "(4, 'r')\n",
      "(5, 'a')\n",
      "(6, 'f')\n",
      "(7, 'e')\n",
      "(8, '4')\n"
     ]
    }
   ],
   "source": [
    "game1 = \"warcrafe4\"\n",
    "\n",
    "for text2 in enumerate(game1):\n",
    "    print(text2)"
   ]
  },
  {
   "cell_type": "markdown",
   "id": "cd3cb2eb",
   "metadata": {},
   "source": [
    "tuple 형태로 출력되고 <br>\n",
    "이를 unpacking 하는 방식으로 요소를 따로 출력할 수 있음"
   ]
  },
  {
   "cell_type": "code",
   "execution_count": 23,
   "id": "63e94582",
   "metadata": {},
   "outputs": [
    {
     "name": "stdout",
     "output_type": "stream",
     "text": [
      "w\n",
      "a\n",
      "r\n",
      "c\n",
      "r\n",
      "a\n",
      "f\n",
      "e\n",
      "4\n"
     ]
    }
   ],
   "source": [
    "game1 = \"warcrafe4\"\n",
    "\n",
    "for index,items in enumerate(game1):      # text2를 결과물의 tuple 형태인 index,items 로 변경\n",
    "#    print(index)\n",
    "    print(items)"
   ]
  },
  {
   "cell_type": "markdown",
   "id": "cf18544f",
   "metadata": {},
   "source": [
    "# zip()\n",
    "2개 이상의 리스트에 대응되는 항목을 하나의 pair로 만들어 tuple로 반환 <br>\n",
    "대응되지 않는 = 남는 항목은 출력되지 않음"
   ]
  },
  {
   "cell_type": "code",
   "execution_count": 25,
   "id": "6cf8fa86",
   "metadata": {},
   "outputs": [
    {
     "name": "stdout",
     "output_type": "stream",
     "text": [
      "(1, '8월')\n",
      "(2, '5월')\n",
      "(3, '2월')\n"
     ]
    }
   ],
   "source": [
    "no = [1,2,3,4]\n",
    "birth = ['8월','5월','2월']\n",
    "\n",
    "for birth_list in zip(no,birth):\n",
    "    print(birth_list)\n"
   ]
  },
  {
   "cell_type": "markdown",
   "id": "d6618bcf",
   "metadata": {},
   "source": [
    "list가 아닌 tuple을 사용해도 정상적으로 동작"
   ]
  },
  {
   "cell_type": "code",
   "execution_count": 26,
   "id": "d4281551",
   "metadata": {},
   "outputs": [
    {
     "name": "stdout",
     "output_type": "stream",
     "text": [
      "(1, '8월')\n",
      "(2, '5월')\n",
      "(3, '2월')\n"
     ]
    }
   ],
   "source": [
    "no = (1,2,3,4)\n",
    "birth = ('8월','5월','2월')\n",
    "\n",
    "for birth_list in zip(no,birth):\n",
    "    print(birth_list)"
   ]
  },
  {
   "cell_type": "markdown",
   "id": "2f1fb812",
   "metadata": {},
   "source": [
    "리스트/튜플/문자열이 아닌것을 합친다면? <br>\n",
    "아래와 같이 정상 동작함"
   ]
  },
  {
   "cell_type": "code",
   "execution_count": 30,
   "id": "f903ae4a",
   "metadata": {},
   "outputs": [
    {
     "name": "stdout",
     "output_type": "stream",
     "text": [
      "('1', '8월', 13, '홍')\n",
      "('2', '5월', 25, '하')\n",
      "('3', '2월', 31, '아')\n"
     ]
    }
   ],
   "source": [
    "no = '1234'\n",
    "birth = ('8월','5월','2월')\n",
    "days = [13,25,31]\n",
    "name = {'홍':'길동','하':'루방','아':'무개'}\n",
    "\n",
    "for birth_list in zip(no,birth,days,name):\n",
    "    print(birth_list)"
   ]
  },
  {
   "cell_type": "markdown",
   "id": "bb385930",
   "metadata": {},
   "source": [
    "# min() / max()"
   ]
  },
  {
   "cell_type": "code",
   "execution_count": 2,
   "id": "86832b5d",
   "metadata": {},
   "outputs": [
    {
     "data": {
      "text/plain": [
       "1"
      ]
     },
     "execution_count": 2,
     "metadata": {},
     "output_type": "execute_result"
    }
   ],
   "source": [
    "ml = [1,2,14,21,10]\n",
    "ms = \"ajhwjhkjaw\"\n",
    "mt = (1,5,\"가\",\"50000\")\n",
    "md = {'홍':'길동','하':'루방','아':'무개'}\n",
    "\n",
    "min(ml)"
   ]
  },
  {
   "cell_type": "code",
   "execution_count": 32,
   "id": "45434b1f",
   "metadata": {},
   "outputs": [
    {
     "data": {
      "text/plain": [
       "21"
      ]
     },
     "execution_count": 32,
     "metadata": {},
     "output_type": "execute_result"
    }
   ],
   "source": [
    "max(ml)"
   ]
  },
  {
   "cell_type": "code",
   "execution_count": 33,
   "id": "9b3384a2",
   "metadata": {},
   "outputs": [
    {
     "data": {
      "text/plain": [
       "'아'"
      ]
     },
     "execution_count": 33,
     "metadata": {},
     "output_type": "execute_result"
    }
   ],
   "source": [
    "min(md)"
   ]
  },
  {
   "cell_type": "code",
   "execution_count": 34,
   "id": "582a2a2a",
   "metadata": {},
   "outputs": [
    {
     "data": {
      "text/plain": [
       "'홍'"
      ]
     },
     "execution_count": 34,
     "metadata": {},
     "output_type": "execute_result"
    }
   ],
   "source": [
    "max(md)"
   ]
  },
  {
   "cell_type": "code",
   "execution_count": 35,
   "id": "e405ccea",
   "metadata": {},
   "outputs": [
    {
     "ename": "TypeError",
     "evalue": "'<' not supported between instances of 'str' and 'int'",
     "output_type": "error",
     "traceback": [
      "\u001b[1;31m---------------------------------------------------------------------------\u001b[0m",
      "\u001b[1;31mTypeError\u001b[0m                                 Traceback (most recent call last)",
      "Input \u001b[1;32mIn [35]\u001b[0m, in \u001b[0;36m<cell line: 1>\u001b[1;34m()\u001b[0m\n\u001b[1;32m----> 1\u001b[0m \u001b[38;5;28;43mmin\u001b[39;49m\u001b[43m(\u001b[49m\u001b[43mmt\u001b[49m\u001b[43m)\u001b[49m\n",
      "\u001b[1;31mTypeError\u001b[0m: '<' not supported between instances of 'str' and 'int'"
     ]
    }
   ],
   "source": [
    "min(mt)"
   ]
  },
  {
   "cell_type": "code",
   "execution_count": 36,
   "id": "94c2901a",
   "metadata": {},
   "outputs": [
    {
     "ename": "TypeError",
     "evalue": "'>' not supported between instances of 'str' and 'int'",
     "output_type": "error",
     "traceback": [
      "\u001b[1;31m---------------------------------------------------------------------------\u001b[0m",
      "\u001b[1;31mTypeError\u001b[0m                                 Traceback (most recent call last)",
      "Input \u001b[1;32mIn [36]\u001b[0m, in \u001b[0;36m<cell line: 1>\u001b[1;34m()\u001b[0m\n\u001b[1;32m----> 1\u001b[0m \u001b[38;5;28;43mmax\u001b[39;49m\u001b[43m(\u001b[49m\u001b[43mmt\u001b[49m\u001b[43m)\u001b[49m\n",
      "\u001b[1;31mTypeError\u001b[0m: '>' not supported between instances of 'str' and 'int'"
     ]
    }
   ],
   "source": [
    "max(mt)"
   ]
  },
  {
   "cell_type": "code",
   "execution_count": 37,
   "id": "0b43ad78",
   "metadata": {},
   "outputs": [
    {
     "data": {
      "text/plain": [
       "'a'"
      ]
     },
     "execution_count": 37,
     "metadata": {},
     "output_type": "execute_result"
    }
   ],
   "source": [
    "min(ms)"
   ]
  },
  {
   "cell_type": "code",
   "execution_count": 38,
   "id": "345a7d62",
   "metadata": {},
   "outputs": [
    {
     "data": {
      "text/plain": [
       "'w'"
      ]
     },
     "execution_count": 38,
     "metadata": {},
     "output_type": "execute_result"
    }
   ],
   "source": [
    "max(ms)"
   ]
  },
  {
   "cell_type": "markdown",
   "id": "301b78d4",
   "metadata": {},
   "source": [
    "# input()"
   ]
  },
  {
   "cell_type": "code",
   "execution_count": null,
   "id": "167b81e1",
   "metadata": {},
   "outputs": [],
   "source": [
    "input(\"원하는 메뉴를 선택하세요. :\")"
   ]
  },
  {
   "cell_type": "code",
   "execution_count": 3,
   "id": "be3d86af",
   "metadata": {},
   "outputs": [
    {
     "name": "stdout",
     "output_type": "stream",
     "text": [
      "{'홍': '길동', '하': '루방', '아': '무개'}무개\n"
     ]
    },
    {
     "data": {
      "text/plain": [
       "'무개'"
      ]
     },
     "execution_count": 3,
     "metadata": {},
     "output_type": "execute_result"
    }
   ],
   "source": [
    "gn = \"주문하려는 메뉴를 선택하세요 :\"\n",
    "\n",
    "input(md)"
   ]
  },
  {
   "cell_type": "code",
   "execution_count": 4,
   "id": "559d229c",
   "metadata": {},
   "outputs": [
    {
     "data": {
      "text/plain": [
       "str"
      ]
     },
     "execution_count": 4,
     "metadata": {},
     "output_type": "execute_result"
    }
   ],
   "source": [
    "type(gn)"
   ]
  },
  {
   "cell_type": "code",
   "execution_count": null,
   "id": "3a489ce8",
   "metadata": {},
   "outputs": [],
   "source": []
  }
 ],
 "metadata": {
  "kernelspec": {
   "display_name": "Python 3 (ipykernel)",
   "language": "python",
   "name": "python3"
  },
  "language_info": {
   "codemirror_mode": {
    "name": "ipython",
    "version": 3
   },
   "file_extension": ".py",
   "mimetype": "text/x-python",
   "name": "python",
   "nbconvert_exporter": "python",
   "pygments_lexer": "ipython3",
   "version": "3.9.12"
  }
 },
 "nbformat": 4,
 "nbformat_minor": 5
}
