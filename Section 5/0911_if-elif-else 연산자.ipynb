{
 "cells": [
  {
   "cell_type": "markdown",
   "id": "aae7c7a5",
   "metadata": {},
   "source": [
    "# if 문"
   ]
  },
  {
   "cell_type": "code",
   "execution_count": 2,
   "id": "13f26396",
   "metadata": {},
   "outputs": [
    {
     "name": "stdout",
     "output_type": "stream",
     "text": [
      "It's True\n"
     ]
    }
   ],
   "source": [
    "if True:\n",
    "    print(\"It's True\")"
   ]
  },
  {
   "cell_type": "markdown",
   "id": "df5cd5fa",
   "metadata": {},
   "source": [
    "## if elif else 를 사용해서 아래와 같이 만들었다"
   ]
  },
  {
   "cell_type": "code",
   "execution_count": 22,
   "id": "fdf1c5cf",
   "metadata": {},
   "outputs": [
    {
     "name": "stdout",
     "output_type": "stream",
     "text": [
      "\n",
      " >> 게임이 실행됩니다.\n"
     ]
    }
   ],
   "source": [
    "account_state = 1\n",
    "\n",
    "if account_state >= 1:\n",
    "    print(\"\\n >> 게임이 실행됩니다. 계정이 1달 이내로 만료됩니다.\")\n",
    "    \n",
    "elif 0 < account_state and account_state < 1:\n",
    "    print(\"\\n >> 계정이 곧 만료됩니다. 요금 결제가 필요합니다.\")\n",
    "else:\n",
    "    print(\"\\n >> 계정이 만료되어 게임을 실행할 수 없습니다\")"
   ]
  },
  {
   "cell_type": "code",
   "execution_count": 23,
   "id": "9d90df02",
   "metadata": {},
   "outputs": [
    {
     "data": {
      "text/plain": [
       "int"
      ]
     },
     "execution_count": 23,
     "metadata": {},
     "output_type": "execute_result"
    }
   ],
   "source": [
    "type(account_state)"
   ]
  },
  {
   "cell_type": "markdown",
   "id": "0b6f15e5",
   "metadata": {},
   "source": [
    "###  위와 같이 만들고 나니 account_state 값을 받아서 상황에 따라 다른 결과를 출력하게 만들고 싶어졌다"
   ]
  },
  {
   "cell_type": "markdown",
   "id": "d3a18cdf",
   "metadata": {},
   "source": [
    "google에 찾아보니 input() 함수를 사용하면 원하는 값을 입력받을 수 있다는 것을 알았고 \n",
    "account_state에 input 함수를 적용하였다"
   ]
  },
  {
   "cell_type": "code",
   "execution_count": 28,
   "id": "97a54c81",
   "metadata": {
    "scrolled": true
   },
   "outputs": [
    {
     "name": "stdout",
     "output_type": "stream",
     "text": [
      "0~10 사이의 숫자를 입력하세요 :5\n"
     ]
    },
    {
     "ename": "TypeError",
     "evalue": "'>=' not supported between instances of 'str' and 'int'",
     "output_type": "error",
     "traceback": [
      "\u001b[1;31m---------------------------------------------------------------------------\u001b[0m",
      "\u001b[1;31mTypeError\u001b[0m                                 Traceback (most recent call last)",
      "Input \u001b[1;32mIn [28]\u001b[0m, in \u001b[0;36m<cell line: 3>\u001b[1;34m()\u001b[0m\n\u001b[0;32m      1\u001b[0m account_state \u001b[38;5;241m=\u001b[39m \u001b[38;5;28minput\u001b[39m(\u001b[38;5;124m\"\u001b[39m\u001b[38;5;124m0~10 사이의 숫자를 입력하세요 :\u001b[39m\u001b[38;5;124m\"\u001b[39m)\n\u001b[1;32m----> 3\u001b[0m \u001b[38;5;28;01mif\u001b[39;00m \u001b[43maccount_state\u001b[49m\u001b[43m \u001b[49m\u001b[38;5;241;43m>\u001b[39;49m\u001b[38;5;241;43m=\u001b[39;49m\u001b[43m \u001b[49m\u001b[38;5;241;43m1\u001b[39;49m:\n\u001b[0;32m      4\u001b[0m     \u001b[38;5;28mprint\u001b[39m(\u001b[38;5;124m\"\u001b[39m\u001b[38;5;130;01m\\n\u001b[39;00m\u001b[38;5;124m >> 게임이 실행됩니다. 계정이 1달 이내로 만료됩니다.\u001b[39m\u001b[38;5;124m\"\u001b[39m)\n\u001b[0;32m      6\u001b[0m \u001b[38;5;28;01melif\u001b[39;00m \u001b[38;5;241m0\u001b[39m \u001b[38;5;241m<\u001b[39m account_state \u001b[38;5;129;01mand\u001b[39;00m account_state \u001b[38;5;241m<\u001b[39m \u001b[38;5;241m1\u001b[39m:\n",
      "\u001b[1;31mTypeError\u001b[0m: '>=' not supported between instances of 'str' and 'int'"
     ]
    }
   ],
   "source": [
    "account_state = input(\"0~10 사이의 숫자를 입력하세요 :\")\n",
    "\n",
    "if account_state >= 1:\n",
    "    print(\"\\n >> 게임이 실행됩니다. 계정이 1달 이내로 만료됩니다.\")\n",
    "    \n",
    "elif 0 < account_state and account_state < 1:\n",
    "    print(\"\\n >> 계정이 곧 만료됩니다. 요금 결제가 필요합니다.\")\n",
    "else:\n",
    "    print(\"\\n >> 계정이 만료되어 게임을 실행할 수 없습니다\")"
   ]
  },
  {
   "cell_type": "markdown",
   "id": "c110bbbb",
   "metadata": {},
   "source": [
    "----------------------------------\n",
    "0~10 사이의 숫자를 입력하세요 :5\n",
    "---------------------------------------------------------------------------\n",
    "\n",
    "숫자를 입력했더니 '>=' 연산자는 int와 str 사이에서 지원하지 않는다는\n",
    "에러 메세지가 출력되었다\n",
    "\n",
    "TypeError: '>=' not supported between instances of 'str' and 'int'\n",
    "----------------------------------"
   ]
  },
  {
   "cell_type": "code",
   "execution_count": 25,
   "id": "d8935867",
   "metadata": {},
   "outputs": [
    {
     "data": {
      "text/plain": [
       "str"
      ]
     },
     "execution_count": 25,
     "metadata": {},
     "output_type": "execute_result"
    }
   ],
   "source": [
    "type(account_state)"
   ]
  },
  {
   "cell_type": "markdown",
   "id": "465cf321",
   "metadata": {},
   "source": [
    "## type() 함수로 확인해보니, 숫자를 입력했지만 글자를 받은 것으로 확인되었다\n",
    "\n",
    "좀 더 찾아보니 input으로 받은 모든 데이터는 문자열로 처리한다고 한다 <br>\n",
    "이를 해결하기 위해서는 \n",
    "str을 int로 변환하는 과정을 거쳐야한다고 한다"
   ]
  },
  {
   "cell_type": "code",
   "execution_count": 33,
   "id": "cb27091e",
   "metadata": {},
   "outputs": [
    {
     "name": "stdout",
     "output_type": "stream",
     "text": [
      "0~10 사이의 숫자를 입력해주세요 : 11\n",
      "\n",
      " >> 게임이 실행됩니다. 게임 시간이 충분합니다\n"
     ]
    }
   ],
   "source": [
    "num1 = input(\"0~10 사이의 숫자를 입력해주세요 : \")\n",
    "account_state = int(num1)\n",
    "\n",
    "if account_state >= 1 and account_state <= 10:\n",
    "    print(\"\\n >> 게임이 실행됩니다. 계정이 1달 이내로 만료됩니다.\")\n",
    "    \n",
    "elif 0 < account_state and account_state < 1:\n",
    "    print(\"\\n >> 계정이 곧 만료됩니다. 요금 결제가 필요합니다.\")\n",
    "elif account_state > 10:\n",
    "    print(\"\\n >> 게임이 실행됩니다. 게임 시간이 충분합니다\")\n",
    "else:\n",
    "    print(\"\\n >> 계정이 만료되어 게임을 실행할 수 없습니다\")"
   ]
  },
  {
   "cell_type": "markdown",
   "id": "60ed6fcc",
   "metadata": {},
   "source": [
    "원하는 숫자를 넣었을 때 원하는 결과가 나왔고 <br>\n",
    "1~10 사이의 숫자가 넣었을 때와 11 이상을 숫자를 넣었을 때, <br> 다른 메세지가 나올 수 있도록 elif 조건을 추가했다. <br><br>"
   ]
  },
  {
   "cell_type": "code",
   "execution_count": 34,
   "id": "100d1108",
   "metadata": {
    "scrolled": true
   },
   "outputs": [
    {
     "name": "stdout",
     "output_type": "stream",
     "text": [
      "0~10 사이의 숫자를 입력해주세요 : 0.7\n"
     ]
    },
    {
     "ename": "ValueError",
     "evalue": "invalid literal for int() with base 10: '0.7'",
     "output_type": "error",
     "traceback": [
      "\u001b[1;31m---------------------------------------------------------------------------\u001b[0m",
      "\u001b[1;31mValueError\u001b[0m                                Traceback (most recent call last)",
      "Input \u001b[1;32mIn [34]\u001b[0m, in \u001b[0;36m<cell line: 2>\u001b[1;34m()\u001b[0m\n\u001b[0;32m      1\u001b[0m num1 \u001b[38;5;241m=\u001b[39m \u001b[38;5;28minput\u001b[39m(\u001b[38;5;124m\"\u001b[39m\u001b[38;5;124m0~10 사이의 숫자를 입력해주세요 : \u001b[39m\u001b[38;5;124m\"\u001b[39m)\n\u001b[1;32m----> 2\u001b[0m account_state \u001b[38;5;241m=\u001b[39m \u001b[38;5;28;43mint\u001b[39;49m\u001b[43m(\u001b[49m\u001b[43mnum1\u001b[49m\u001b[43m)\u001b[49m\n\u001b[0;32m      4\u001b[0m \u001b[38;5;28;01mif\u001b[39;00m account_state \u001b[38;5;241m>\u001b[39m\u001b[38;5;241m=\u001b[39m \u001b[38;5;241m1\u001b[39m \u001b[38;5;129;01mand\u001b[39;00m account_state \u001b[38;5;241m<\u001b[39m\u001b[38;5;241m=\u001b[39m \u001b[38;5;241m10\u001b[39m:\n\u001b[0;32m      5\u001b[0m     \u001b[38;5;28mprint\u001b[39m(\u001b[38;5;124m\"\u001b[39m\u001b[38;5;130;01m\\n\u001b[39;00m\u001b[38;5;124m >> 게임이 실행됩니다. 계정이 1달 이내로 만료됩니다.\u001b[39m\u001b[38;5;124m\"\u001b[39m)\n",
      "\u001b[1;31mValueError\u001b[0m: invalid literal for int() with base 10: '0.7'"
     ]
    }
   ],
   "source": [
    "num1 = input(\"0~10 사이의 숫자를 입력해주세요 : \")\n",
    "account_state = int(num1)\n",
    "\n",
    "if account_state >= 1 and account_state <= 10:\n",
    "    print(\"\\n >> 게임이 실행됩니다. 계정이 1달 이내로 만료됩니다.\")\n",
    "    \n",
    "elif 0 < account_state and account_state < 1:\n",
    "    print(\"\\n >> 계정이 곧 만료됩니다. 요금 결제가 필요합니다.\")\n",
    "elif account_state > 10:\n",
    "    print(\"\\n >> 게임이 실행됩니다. 게임 시간이 충분합니다\")\n",
    "else:\n",
    "    print(\"\\n >> 계정이 만료되어 게임을 실행할 수 없습니다\")"
   ]
  },
  {
   "cell_type": "markdown",
   "id": "c57d2b16",
   "metadata": {},
   "source": [
    "## 다만 소수점을 입력했을 때에 데이터 유형이 맞지 않아 에러가 발생한다\n",
    "\n",
    "## invalid literal for int() with base 10: '0.7'"
   ]
  },
  {
   "cell_type": "markdown",
   "id": "99cf91bb",
   "metadata": {},
   "source": [
    "아래와 같이 소수점을 받는 input을 추가했지만 위에 데이터가 없으면 에러가 발생된다"
   ]
  },
  {
   "cell_type": "markdown",
   "id": "7386a785",
   "metadata": {},
   "source": [
    "# 'account_state가 정수가 아니라면' \n",
    "<br> 이라는 조건으로  != int(account_state) 등을 써보았지만 정상적으로 동작되지 않음. <br>\n",
    "\n",
    " ## input을 float으로 형변환하면 \n",
    "<br> 어떨까 하고 적용해보니 정상적으로 동작이 되었다."
   ]
  },
  {
   "cell_type": "code",
   "execution_count": 4,
   "id": "fe454248",
   "metadata": {},
   "outputs": [
    {
     "name": "stdout",
     "output_type": "stream",
     "text": [
      "0~10 사이의 숫자를 입력해주세요 : 0\n",
      "\n",
      " >> 계정이 만료되어 게임을 실행할 수 없습니다\n"
     ]
    }
   ],
   "source": [
    "num1 = input(\"0~10 사이의 숫자를 입력해주세요 : \")\n",
    "account_state = float(num1)\n",
    "\n",
    "\n",
    "if account_state >= 1 and account_state <= 10:\n",
    "    print(\"\\n >> 게임이 실행됩니다. 계정이 1달 이내로 만료됩니다.\")\n",
    "    \n",
    "elif 0 < account_state and account_state < 1:\n",
    "    print(\"\\n >> 계정이 곧 만료됩니다. 요금 결제가 필요합니다.\")\n",
    "\n",
    "elif account_state > 10:\n",
    "    print(\"\\n >> 게임이 실행됩니다. 게임 시간이 충분합니다\")\n",
    "\n",
    "else:\n",
    "    print(\"\\n >> 계정이 만료되어 게임을 실행할 수 없습니다\")"
   ]
  },
  {
   "cell_type": "markdown",
   "id": "dd67fdf5",
   "metadata": {},
   "source": [
    "## 이제 남은 문제는 '문자열'을 input에 입력했을 때\n",
    "<br> 다시 입력하도록 input창을 띄워주는 것인데....\n",
    "<br> 수업을 더 들으면 해결할 수 있지 않을까... 싶다."
   ]
  },
  {
   "cell_type": "code",
   "execution_count": 5,
   "id": "1b2776c8",
   "metadata": {},
   "outputs": [
    {
     "name": "stdout",
     "output_type": "stream",
     "text": [
      "0~10 사이의 숫자를 입력해주세요 : a\n"
     ]
    },
    {
     "ename": "ValueError",
     "evalue": "could not convert string to float: 'a'",
     "output_type": "error",
     "traceback": [
      "\u001b[1;31m---------------------------------------------------------------------------\u001b[0m",
      "\u001b[1;31mValueError\u001b[0m                                Traceback (most recent call last)",
      "Input \u001b[1;32mIn [5]\u001b[0m, in \u001b[0;36m<cell line: 2>\u001b[1;34m()\u001b[0m\n\u001b[0;32m      1\u001b[0m num1 \u001b[38;5;241m=\u001b[39m \u001b[38;5;28minput\u001b[39m(\u001b[38;5;124m\"\u001b[39m\u001b[38;5;124m0~10 사이의 숫자를 입력해주세요 : \u001b[39m\u001b[38;5;124m\"\u001b[39m)\n\u001b[1;32m----> 2\u001b[0m account_state \u001b[38;5;241m=\u001b[39m \u001b[38;5;28;43mfloat\u001b[39;49m\u001b[43m(\u001b[49m\u001b[43mnum1\u001b[49m\u001b[43m)\u001b[49m\n\u001b[0;32m      5\u001b[0m \u001b[38;5;28;01mif\u001b[39;00m account_state \u001b[38;5;241m>\u001b[39m\u001b[38;5;241m=\u001b[39m \u001b[38;5;241m1\u001b[39m \u001b[38;5;129;01mand\u001b[39;00m account_state \u001b[38;5;241m<\u001b[39m\u001b[38;5;241m=\u001b[39m \u001b[38;5;241m10\u001b[39m:\n\u001b[0;32m      6\u001b[0m     \u001b[38;5;28mprint\u001b[39m(\u001b[38;5;124m\"\u001b[39m\u001b[38;5;130;01m\\n\u001b[39;00m\u001b[38;5;124m >> 게임이 실행됩니다. 계정이 1달 이내로 만료됩니다.\u001b[39m\u001b[38;5;124m\"\u001b[39m)\n",
      "\u001b[1;31mValueError\u001b[0m: could not convert string to float: 'a'"
     ]
    }
   ],
   "source": [
    "num1 = input(\"0~10 사이의 숫자를 입력해주세요 : \")\n",
    "account_state = float(num1)\n",
    "\n",
    "\n",
    "if account_state >= 1 and account_state <= 10:\n",
    "    print(\"\\n >> 게임이 실행됩니다. 계정이 1달 이내로 만료됩니다.\")\n",
    "    \n",
    "elif 0 < account_state and account_state < 1:\n",
    "    print(\"\\n >> 계정이 곧 만료됩니다. 요금 결제가 필요합니다.\")\n",
    "\n",
    "elif account_state > 10:\n",
    "    print(\"\\n >> 게임이 실행됩니다. 게임 시간이 충분합니다\")\n",
    "\n",
    "else:\n",
    "    print(\"\\n >> 계정이 만료되어 게임을 실행할 수 없습니다\")\n",
    "    "
   ]
  },
  {
   "cell_type": "code",
   "execution_count": null,
   "id": "60b5f774",
   "metadata": {},
   "outputs": [],
   "source": [
    "\n",
    "\n"
   ]
  },
  {
   "cell_type": "code",
   "execution_count": null,
   "id": "12739629",
   "metadata": {},
   "outputs": [],
   "source": []
  }
 ],
 "metadata": {
  "kernelspec": {
   "display_name": "Python 3 (ipykernel)",
   "language": "python",
   "name": "python3"
  },
  "language_info": {
   "codemirror_mode": {
    "name": "ipython",
    "version": 3
   },
   "file_extension": ".py",
   "mimetype": "text/x-python",
   "name": "python",
   "nbconvert_exporter": "python",
   "pygments_lexer": "ipython3",
   "version": "3.9.12"
  }
 },
 "nbformat": 4,
 "nbformat_minor": 5
}
