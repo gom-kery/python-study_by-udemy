{
 "cells": [
  {
   "cell_type": "markdown",
   "id": "6ba4a7b1",
   "metadata": {},
   "source": [
    "## List를 만드는 가장 초보적인 방법\n"
   ]
  },
  {
   "cell_type": "code",
   "execution_count": 3,
   "id": "bab4fe9c",
   "metadata": {},
   "outputs": [],
   "source": [
    "ms = \"hello\"          # 변수에 문자열을 할당\n",
    "ml = []               # 비어 있는 리스트를 생성\n",
    "\n",
    "for letter in ms:     #letter라는 변수에 문자열 변수를 \n",
    "    ml.append(letter)  # 비어있는 리스트에 append 함수로 letter를 추가"
   ]
  },
  {
   "cell_type": "code",
   "execution_count": 4,
   "id": "a69f34f5",
   "metadata": {},
   "outputs": [
    {
     "data": {
      "text/plain": [
       "['h', 'e', 'l', 'l', 'o']"
      ]
     },
     "execution_count": 4,
     "metadata": {},
     "output_type": "execute_result"
    }
   ],
   "source": [
    "ml"
   ]
  },
  {
   "cell_type": "markdown",
   "id": "1211af5b",
   "metadata": {},
   "source": [
    "## 컴프리헨션으로 리스트 만드는 방법\n",
    "1. 어떤 형식 안에 있는 모든 코드와 논리를 괄호 안에 넣는다\n",
    "2. for문 앞에 변수명을 한번 더 입력한다."
   ]
  },
  {
   "cell_type": "code",
   "execution_count": 6,
   "id": "b684831c",
   "metadata": {},
   "outputs": [],
   "source": [
    "ms1 = \"hello\"\n",
    "ml1 = [letter for letter in ms1]\n",
    "\n",
    "\n",
    "    # 삭제(안씀) ml.append(letter) "
   ]
  },
  {
   "cell_type": "markdown",
   "id": "9da70c6e",
   "metadata": {},
   "source": [
    "[] 안에 사용하는 변수(요소)는 동일해야한다"
   ]
  },
  {
   "cell_type": "code",
   "execution_count": 7,
   "id": "825bb977",
   "metadata": {},
   "outputs": [
    {
     "data": {
      "text/plain": [
       "['h', 'e', 'l', 'l', 'o']"
      ]
     },
     "execution_count": 7,
     "metadata": {},
     "output_type": "execute_result"
    }
   ],
   "source": [
    "ml1"
   ]
  },
  {
   "cell_type": "code",
   "execution_count": 8,
   "id": "d8238e16",
   "metadata": {},
   "outputs": [],
   "source": [
    "oto9_list = [ num for num in range(0,9)]"
   ]
  },
  {
   "cell_type": "code",
   "execution_count": 9,
   "id": "8c9ef664",
   "metadata": {},
   "outputs": [
    {
     "data": {
      "text/plain": [
       "[0, 1, 2, 3, 4, 5, 6, 7, 8]"
      ]
     },
     "execution_count": 9,
     "metadata": {},
     "output_type": "execute_result"
    }
   ],
   "source": [
    "oto9_list"
   ]
  },
  {
   "cell_type": "markdown",
   "id": "9ed2bfa0",
   "metadata": {},
   "source": [
    "1. 1번째 변수에 연산을 사용할 수 있고\n",
    "2. range() 함수도 함께 사용할 수 있다"
   ]
  },
  {
   "cell_type": "code",
   "execution_count": 15,
   "id": "eca51767",
   "metadata": {},
   "outputs": [
    {
     "data": {
      "text/plain": [
       "[0, 3, 6, 9, 12]"
      ]
     },
     "execution_count": 15,
     "metadata": {},
     "output_type": "execute_result"
    }
   ],
   "source": [
    "lc1 = [num1*3 for num1 in range(0,5)]\n",
    "\n",
    "lc1"
   ]
  },
  {
   "cell_type": "markdown",
   "id": "0a60e26e",
   "metadata": {},
   "source": [
    "3. if 문도 사용할 수 있다."
   ]
  },
  {
   "cell_type": "code",
   "execution_count": 25,
   "id": "39867b59",
   "metadata": {},
   "outputs": [
    {
     "data": {
      "text/plain": [
       "[0, 6, 12]"
      ]
     },
     "execution_count": 25,
     "metadata": {},
     "output_type": "execute_result"
    }
   ],
   "source": [
    "lc3 = [num2*3 for num2 in range(0,6) if num2%2 == 0]\n",
    "lc3"
   ]
  },
  {
   "cell_type": "code",
   "execution_count": 26,
   "id": "9e4db004",
   "metadata": {},
   "outputs": [
    {
     "data": {
      "text/plain": [
       "[0, 3, 6, 9, 12, 15]"
      ]
     },
     "execution_count": 26,
     "metadata": {},
     "output_type": "execute_result"
    }
   ],
   "source": [
    "lc = [ com*3 for com in range(0,6) ]\n",
    "lc"
   ]
  },
  {
   "cell_type": "code",
   "execution_count": 28,
   "id": "14ec8e26",
   "metadata": {},
   "outputs": [],
   "source": [
    "meter = [3,0.7,5,10]\n",
    "\n",
    "yard = []\n",
    "for lenght in meter:\n",
    "    yard.append(lenght*3.281)"
   ]
  },
  {
   "cell_type": "code",
   "execution_count": 29,
   "id": "db8891ec",
   "metadata": {},
   "outputs": [
    {
     "data": {
      "text/plain": [
       "[9.843, 2.2967, 16.405, 32.81]"
      ]
     },
     "execution_count": 29,
     "metadata": {},
     "output_type": "execute_result"
    }
   ],
   "source": [
    "yard"
   ]
  },
  {
   "cell_type": "code",
   "execution_count": 30,
   "id": "5fc6e4d0",
   "metadata": {},
   "outputs": [],
   "source": [
    "meter = [3,0.7,5,10]\n",
    "yard = [lenght*3.281 for lenght in meter]\n"
   ]
  },
  {
   "cell_type": "code",
   "execution_count": 33,
   "id": "207e8fd9",
   "metadata": {},
   "outputs": [
    {
     "data": {
      "text/plain": [
       "[9.843, 2.2967, 16.405, 32.81]"
      ]
     },
     "execution_count": 33,
     "metadata": {},
     "output_type": "execute_result"
    }
   ],
   "source": [
    "yard"
   ]
  },
  {
   "cell_type": "markdown",
   "id": "13619824",
   "metadata": {},
   "source": [
    "4. if/else문도 사용가능하지만 if를 단독으로 사용할 때와는 문법이 달라진다"
   ]
  },
  {
   "cell_type": "code",
   "execution_count": 34,
   "id": "7f97b5d5",
   "metadata": {},
   "outputs": [
    {
     "data": {
      "text/plain": [
       "[0, 'ODD', 6, 'ODD', 12, 'ODD']"
      ]
     },
     "execution_count": 34,
     "metadata": {},
     "output_type": "execute_result"
    }
   ],
   "source": [
    "lc = [ com*3 if com%2==0 else 'ODD' for com in range(0,6)]\n",
    "lc"
   ]
  },
  {
   "cell_type": "markdown",
   "id": "6f26f23f",
   "metadata": {},
   "source": [
    "## 중첩 반복문\n",
    "반복문 안에 반복문을 사용하는 것"
   ]
  },
  {
   "cell_type": "code",
   "execution_count": 37,
   "id": "ace536cc",
   "metadata": {},
   "outputs": [],
   "source": [
    "my_lc = []\n",
    "\n",
    "for x in [4,5,6]:\n",
    "    for y in [10,20]:\n",
    "        my_lc.append(x*y)\n"
   ]
  },
  {
   "cell_type": "code",
   "execution_count": 38,
   "id": "25537f9b",
   "metadata": {},
   "outputs": [
    {
     "data": {
      "text/plain": [
       "[40, 80, 50, 100, 60, 120]"
      ]
     },
     "execution_count": 38,
     "metadata": {},
     "output_type": "execute_result"
    }
   ],
   "source": [
    "my_lc"
   ]
  },
  {
   "cell_type": "code",
   "execution_count": 40,
   "id": "ceca7c91",
   "metadata": {},
   "outputs": [
    {
     "data": {
      "text/plain": [
       "[40, 80, 50, 100, 60, 120]"
      ]
     },
     "execution_count": 40,
     "metadata": {},
     "output_type": "execute_result"
    }
   ],
   "source": [
    "my_lc = [x*y for x in [4,5,6] for y in [10,20]]\n",
    "my_lc"
   ]
  },
  {
   "cell_type": "code",
   "execution_count": null,
   "id": "0fd08154",
   "metadata": {},
   "outputs": [],
   "source": []
  }
 ],
 "metadata": {
  "kernelspec": {
   "display_name": "Python 3 (ipykernel)",
   "language": "python",
   "name": "python3"
  },
  "language_info": {
   "codemirror_mode": {
    "name": "ipython",
    "version": 3
   },
   "file_extension": ".py",
   "mimetype": "text/x-python",
   "name": "python",
   "nbconvert_exporter": "python",
   "pygments_lexer": "ipython3",
   "version": "3.9.12"
  }
 },
 "nbformat": 4,
 "nbformat_minor": 5
}
