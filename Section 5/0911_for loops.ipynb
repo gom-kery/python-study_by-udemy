{
 "cells": [
  {
   "cell_type": "code",
   "execution_count": null,
   "id": "a5ed999a",
   "metadata": {},
   "outputs": [],
   "source": [
    "for 변수명 in 리스트/튜플/문자열:\n",
    "    Code line"
   ]
  },
  {
   "cell_type": "code",
   "execution_count": 3,
   "id": "c93f5d05",
   "metadata": {
    "scrolled": true
   },
   "outputs": [
    {
     "name": "stdout",
     "output_type": "stream",
     "text": [
      "w\n",
      "o\n",
      "r\n",
      "l\n",
      "d\n",
      " \n",
      "o\n",
      "f\n",
      " \n",
      "w\n",
      "a\n",
      "r\n",
      "c\n",
      "r\n",
      "a\n",
      "f\n",
      "t\n"
     ]
    }
   ],
   "source": [
    "g = \"world of warcraft\"\n",
    "\n",
    "for game in list(g):\n",
    "    print(game)"
   ]
  },
  {
   "cell_type": "code",
   "execution_count": 5,
   "id": "f9958929",
   "metadata": {},
   "outputs": [
    {
     "name": "stdout",
     "output_type": "stream",
     "text": [
      "s\n",
      "t\n",
      "a\n",
      "y\n"
     ]
    }
   ],
   "source": [
    "for game in \"stay\":\n",
    "    print(game)"
   ]
  },
  {
   "cell_type": "code",
   "execution_count": 6,
   "id": "e6709f1a",
   "metadata": {},
   "outputs": [
    {
     "name": "stdout",
     "output_type": "stream",
     "text": [
      "1\n",
      "2\n",
      "3\n",
      "4\n",
      "5\n",
      "6\n"
     ]
    }
   ],
   "source": [
    "for num in (1,2,3,4,5,6):\n",
    "    print(num)"
   ]
  },
  {
   "cell_type": "code",
   "execution_count": 27,
   "id": "7f4bdc08",
   "metadata": {},
   "outputs": [
    {
     "name": "stdout",
     "output_type": "stream",
     "text": [
      "2\n",
      "4\n",
      "6\n"
     ]
    }
   ],
   "source": [
    "tup1 = (1,2,3,4,5,6,7)\n",
    "\n",
    "for num1 in tup1:\n",
    "    if num1 % 2 == 0:\n",
    "        print(num1)"
   ]
  },
  {
   "cell_type": "code",
   "execution_count": 28,
   "id": "be8e30bd",
   "metadata": {},
   "outputs": [],
   "source": [
    "n = [1,2,3,4,5,]\n"
   ]
  },
  {
   "cell_type": "code",
   "execution_count": 20,
   "id": "36a9ec1d",
   "metadata": {},
   "outputs": [
    {
     "name": "stdout",
     "output_type": "stream",
     "text": [
      "1\n",
      "3\n",
      "5\n",
      "7\n"
     ]
    }
   ],
   "source": [
    "for odd_num in n:\n",
    "    if odd_num % 2 == 1:\n",
    "        print(odd_num)"
   ]
  },
  {
   "cell_type": "code",
   "execution_count": 29,
   "id": "f1e78215",
   "metadata": {},
   "outputs": [
    {
     "name": "stdout",
     "output_type": "stream",
     "text": [
      "홀수: 1\n",
      "짝수: 2\n",
      "홀수: 3\n",
      "짝수: 4\n",
      "홀수: 5\n"
     ]
    }
   ],
   "source": [
    "for odd_num in n:\n",
    "    if odd_num % 2 == 1:\n",
    "        print(f'홀수: {odd_num}')\n",
    "    else:\n",
    "        print(f'짝수: {odd_num}')"
   ]
  },
  {
   "cell_type": "code",
   "execution_count": 21,
   "id": "eea5786d",
   "metadata": {},
   "outputs": [
    {
     "name": "stdout",
     "output_type": "stream",
     "text": [
      "h\n",
      "e\n",
      "l\n",
      "l\n",
      "o\n"
     ]
    }
   ],
   "source": [
    "str1 = \"hello\"    \n",
    "for string1 in str1:\n",
    "    print(string1)"
   ]
  },
  {
   "cell_type": "markdown",
   "id": "4f5d6d47",
   "metadata": {},
   "source": [
    "# 리스트, 튜플 요소의 합?"
   ]
  },
  {
   "cell_type": "code",
   "execution_count": 30,
   "id": "5bf13454",
   "metadata": {},
   "outputs": [
    {
     "name": "stdout",
     "output_type": "stream",
     "text": [
      "15\n"
     ]
    }
   ],
   "source": [
    "l_sum = 0\n",
    "\n",
    "for num01 in n:\n",
    "    l_sum = l_sum + num01\n",
    "    \n",
    "print(l_sum)    "
   ]
  },
  {
   "cell_type": "code",
   "execution_count": 31,
   "id": "a81b0111",
   "metadata": {},
   "outputs": [
    {
     "name": "stdout",
     "output_type": "stream",
     "text": [
      "28\n"
     ]
    }
   ],
   "source": [
    "t_sum = 0\n",
    "\n",
    "for num02 in tup1:\n",
    "    t_sum = t_sum + num02\n",
    "    \n",
    "print(t_sum)    "
   ]
  },
  {
   "cell_type": "code",
   "execution_count": 37,
   "id": "67e951a7",
   "metadata": {},
   "outputs": [
    {
     "name": "stdout",
     "output_type": "stream",
     "text": [
      "1\n",
      "3\n",
      "6\n",
      "10\n",
      "15\n",
      " total :15\n"
     ]
    }
   ],
   "source": [
    "l_sum = 0\n",
    "\n",
    "for num01 in n:\n",
    "    l_sum = l_sum + num01\n",
    "    print(l_sum)    \n",
    "print(f' total :{l_sum}')    "
   ]
  },
  {
   "cell_type": "code",
   "execution_count": 36,
   "id": "1181a512",
   "metadata": {},
   "outputs": [
    {
     "name": "stdout",
     "output_type": "stream",
     "text": [
      "1\n",
      "3\n",
      "6\n",
      "10\n",
      "15\n",
      "21\n",
      "28\n",
      " total : 28\n"
     ]
    }
   ],
   "source": [
    "t_sum = 0\n",
    "\n",
    "for num02 in tup1:\n",
    "    t_sum = t_sum + num02\n",
    "    print(t_sum)\n",
    "print(f' total : {t_sum}')"
   ]
  },
  {
   "cell_type": "markdown",
   "id": "7b55c1b1",
   "metadata": {},
   "source": [
    "# 튜플 언패킹"
   ]
  },
  {
   "cell_type": "code",
   "execution_count": 38,
   "id": "41984c4f",
   "metadata": {},
   "outputs": [
    {
     "name": "stdout",
     "output_type": "stream",
     "text": [
      "(1, 3)\n",
      "(4, 6)\n",
      "(8, 10)\n"
     ]
    }
   ],
   "source": [
    "tup_list = [(1,3),(4,6),(8,10)]\n",
    "\n",
    "for items in tup_list:\n",
    "    print(items)"
   ]
  },
  {
   "cell_type": "code",
   "execution_count": 39,
   "id": "65aaa62e",
   "metadata": {},
   "outputs": [
    {
     "name": "stdout",
     "output_type": "stream",
     "text": [
      "1\n",
      "3\n",
      "4\n",
      "6\n",
      "8\n",
      "10\n"
     ]
    }
   ],
   "source": [
    "for a,b in tup_list:\n",
    "    print(a)\n",
    "    print(b)"
   ]
  },
  {
   "cell_type": "markdown",
   "id": "411a4cf5",
   "metadata": {},
   "source": [
    "# dictionary"
   ]
  },
  {
   "cell_type": "code",
   "execution_count": 46,
   "id": "d7075af4",
   "metadata": {},
   "outputs": [],
   "source": [
    "d = {'k1':1,'k2':2,'k3':\"3\"}\n"
   ]
  },
  {
   "cell_type": "code",
   "execution_count": 49,
   "id": "d54ceaf5",
   "metadata": {},
   "outputs": [
    {
     "name": "stdout",
     "output_type": "stream",
     "text": [
      "k1\n",
      "k2\n",
      "k3\n"
     ]
    }
   ],
   "source": [
    "# 키 값\n",
    "for d_item in d:\n",
    "    print(d_item)"
   ]
  },
  {
   "cell_type": "code",
   "execution_count": 50,
   "id": "88cd84e7",
   "metadata": {},
   "outputs": [
    {
     "name": "stdout",
     "output_type": "stream",
     "text": [
      "1\n",
      "2\n",
      "3\n"
     ]
    }
   ],
   "source": [
    "# 밸류 값\n",
    "for d_value in d.values():\n",
    "    print(d_value)"
   ]
  },
  {
   "cell_type": "code",
   "execution_count": 48,
   "id": "46017e65",
   "metadata": {},
   "outputs": [
    {
     "name": "stdout",
     "output_type": "stream",
     "text": [
      "('k1', 1)\n",
      "('k2', 2)\n",
      "('k3', '3')\n"
     ]
    }
   ],
   "source": [
    "# 키와 밸류 페어\n",
    "for d_item in d.items():\n",
    "    print(d_item)"
   ]
  },
  {
   "cell_type": "code",
   "execution_count": 51,
   "id": "df3f12a3",
   "metadata": {},
   "outputs": [
    {
     "name": "stdout",
     "output_type": "stream",
     "text": [
      "키 값 : k1\n",
      "요소 값: 1\n",
      "키 값 : k2\n",
      "요소 값: 2\n",
      "키 값 : k3\n",
      "요소 값: 3\n"
     ]
    }
   ],
   "source": [
    "# dictionary 언패킹\n",
    "d = {'k1':1,'k2':2,'k3':\"3\"}\n",
    "\n",
    "for key,value in d.items():\n",
    "    print(f'키 값 : {key}')\n",
    "    print(f'요소 값: {value}')"
   ]
  },
  {
   "cell_type": "code",
   "execution_count": null,
   "id": "83810842",
   "metadata": {},
   "outputs": [],
   "source": []
  }
 ],
 "metadata": {
  "kernelspec": {
   "display_name": "Python 3 (ipykernel)",
   "language": "python",
   "name": "python3"
  },
  "language_info": {
   "codemirror_mode": {
    "name": "ipython",
    "version": 3
   },
   "file_extension": ".py",
   "mimetype": "text/x-python",
   "name": "python",
   "nbconvert_exporter": "python",
   "pygments_lexer": "ipython3",
   "version": "3.9.12"
  }
 },
 "nbformat": 4,
 "nbformat_minor": 5
}
