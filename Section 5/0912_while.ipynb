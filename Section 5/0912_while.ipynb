{
 "cells": [
  {
   "cell_type": "code",
   "execution_count": 4,
   "id": "3df469c1",
   "metadata": {},
   "outputs": [
    {
     "name": "stdout",
     "output_type": "stream",
     "text": [
      "0\n",
      "1\n",
      "2\n",
      "3\n",
      "4\n",
      "5\n",
      "6\n",
      "7\n",
      "8\n",
      "9\n",
      "X는 10보다 작다\n"
     ]
    }
   ],
   "source": [
    "x = 0\n",
    "\n",
    "while x < 10:\n",
    "    print(x)\n",
    "    x += 1   #x = x+1 와 같은 의미\n",
    "else:\n",
    "    print(f'X는 {x}보다 작다')"
   ]
  },
  {
   "cell_type": "code",
   "execution_count": 9,
   "id": "3dfeca2e",
   "metadata": {},
   "outputs": [
    {
     "name": "stdout",
     "output_type": "stream",
     "text": [
      "배터리 잔량은 100% 입니다.\n",
      "배터리 잔량은 90% 입니다.\n",
      "배터리 잔량은 80% 입니다.\n",
      "배터리 잔량은 70% 입니다.\n",
      "배터리 잔량은 60% 입니다.\n",
      "배터리 잔량은 50% 입니다.\n",
      "배터리 잔량은 40% 입니다.\n",
      "배터리 잔량은 30% 입니다.\n",
      "배터리 잔량은 20% 입니다.\n",
      "배터리 잔량은 10% 입니다.\n",
      "배터리 잔량이 0입니다. 교체해주세요\n"
     ]
    }
   ],
   "source": [
    "b_rate = 100\n",
    "\n",
    "while b_rate > 0:\n",
    "    print(f'배터리 잔량은 {b_rate}% 입니다.')\n",
    "    b_rate -= 10\n",
    "else:\n",
    "    print(f'배터리 잔량이 {b_rate}입니다. 교체해주세요')"
   ]
  },
  {
   "cell_type": "markdown",
   "id": "e758ecbf",
   "metadata": {},
   "source": [
    "배터리 잔량이 특정 수치 이하일 때, 추가적인 메세지가 넣고 싶어졌고 <br>\n",
    "elif를 생각해봤지만, 애초에 if문이 아니라서 불가능할 것 같았지만 한번 써보았다\n",
    "\n",
    "## 그리고 아래와 같이 에러가 발생했다\n",
    "    elif b_rate == 10:\n",
    "    ^\n",
    "    SyntaxError: invalid syntax"
   ]
  },
  {
   "cell_type": "code",
   "execution_count": 10,
   "id": "783714b0",
   "metadata": {},
   "outputs": [
    {
     "ename": "SyntaxError",
     "evalue": "invalid syntax (2134446070.py, line 6)",
     "output_type": "error",
     "traceback": [
      "\u001b[1;36m  Input \u001b[1;32mIn [10]\u001b[1;36m\u001b[0m\n\u001b[1;33m    elif b_rate == 10:\u001b[0m\n\u001b[1;37m    ^\u001b[0m\n\u001b[1;31mSyntaxError\u001b[0m\u001b[1;31m:\u001b[0m invalid syntax\n"
     ]
    }
   ],
   "source": [
    "b_rate = 100\n",
    "\n",
    "while b_rate > 9:\n",
    "    print(f'배터리 잔량은 {b_rate}% 입니다.')\n",
    "    b_rate -= 10\n",
    "    elif b_rate == 10:\n",
    "        print(f'배터리 잔량이 {b_rate}로 충전이 필요합니다')\n",
    "    \n",
    "else:\n",
    "    print(f'배터리 잔량이 {b_rate}입니다. 교체해주세요')"
   ]
  },
  {
   "cell_type": "markdown",
   "id": "a1076ca6",
   "metadata": {},
   "source": [
    "정상적으로 동작하기 위해서는 elif가 아닌 if만 사용하면 된다.\n"
   ]
  },
  {
   "cell_type": "code",
   "execution_count": 4,
   "id": "eddfd70d",
   "metadata": {},
   "outputs": [
    {
     "name": "stdout",
     "output_type": "stream",
     "text": [
      "배터리 잔량은 100% 입니다.\n",
      "배터리 잔량은 90% 입니다.\n",
      "배터리 잔량은 80% 입니다.\n",
      "배터리 잔량은 70% 입니다.\n",
      "배터리 잔량은 60% 입니다.\n",
      "배터리 잔량은 50% 입니다.\n",
      "배터리 잔량은 40% 입니다.\n",
      "배터리 잔량은 30% 입니다.\n",
      "배터리 잔량은 20% 입니다.\n",
      "배터리 잔량이 10로 충전이 필요합니다\n",
      "배터리 잔량은 10% 입니다.\n",
      "배터리 잔량이 0입니다. 교체해주세요\n"
     ]
    }
   ],
   "source": [
    "b_rate = 100\n",
    "\n",
    "while b_rate > 0:\n",
    "    print(f'배터리 잔량은 {b_rate}% 입니다.')\n",
    "    b_rate -= 10\n",
    "    if b_rate == 10:\n",
    "        print(f'배터리 잔량이 {b_rate}로 충전이 필요합니다')\n",
    "    \n",
    "else:\n",
    "    print(f'배터리 잔량이 {b_rate}입니다. 교체해주세요')"
   ]
  },
  {
   "cell_type": "markdown",
   "id": "2fac782c",
   "metadata": {},
   "source": [
    "# keyword - break, continue, pass "
   ]
  },
  {
   "cell_type": "markdown",
   "id": "07cb3526",
   "metadata": {},
   "source": [
    "해당 키워드는 while, if, for 문에서 모두 사용이 가능함."
   ]
  },
  {
   "cell_type": "markdown",
   "id": "4a17d95c",
   "metadata": {},
   "source": [
    "## break"
   ]
  },
  {
   "cell_type": "markdown",
   "id": "f476361d",
   "metadata": {},
   "source": [
    "특정 조건을 만족했을 때 해당 루프를 탈출하는 기능.<br>\n",
    "아래의 코드에서 배터리 충전이 필요한 시점(10%)일 때 break를 넣으면 <br><br>\n",
    "\n",
    "else문을 실행하지 않고 종료됨."
   ]
  },
  {
   "cell_type": "code",
   "execution_count": 3,
   "id": "31a18fbb",
   "metadata": {},
   "outputs": [
    {
     "name": "stdout",
     "output_type": "stream",
     "text": [
      "배터리 잔량은 100% 입니다.\n",
      "배터리 잔량은 90% 입니다.\n",
      "배터리 잔량은 80% 입니다.\n",
      "배터리 잔량은 70% 입니다.\n",
      "배터리 잔량은 60% 입니다.\n",
      "배터리 잔량은 50% 입니다.\n",
      "배터리 잔량은 40% 입니다.\n",
      "배터리 잔량은 30% 입니다.\n",
      "배터리 잔량은 20% 입니다.\n",
      "배터리 잔량이 10로 충전이 필요합니다\n"
     ]
    }
   ],
   "source": [
    "b_rate = 100\n",
    "\n",
    "while b_rate > 0:\n",
    "    print(f'배터리 잔량은 {b_rate}% 입니다.')\n",
    "    b_rate -= 10\n",
    "    if b_rate == 10:\n",
    "        print(f'배터리 잔량이 {b_rate}로 충전이 필요합니다')\n",
    "        break\n",
    "    \n",
    "else:\n",
    "    print(f'배터리 잔량이 {b_rate}입니다. 교체해주세요')"
   ]
  },
  {
   "cell_type": "markdown",
   "id": "e8c9b2f2",
   "metadata": {},
   "source": [
    "## pass"
   ]
  },
  {
   "cell_type": "markdown",
   "id": "9b53e29f",
   "metadata": {},
   "source": [
    "정확히 무엇인가를 하고 싶은지 모르거나 아직 정해지지 않았을 때 <br>\n",
    "빈칸으로 남기거나 주석만 남기는 경우 에러가 발생됨."
   ]
  },
  {
   "cell_type": "code",
   "execution_count": 14,
   "id": "a6504887",
   "metadata": {},
   "outputs": [
    {
     "ename": "IndentationError",
     "evalue": "expected an indented block (3955879429.py, line 3)",
     "output_type": "error",
     "traceback": [
      "\u001b[1;36m  Input \u001b[1;32mIn [14]\u001b[1;36m\u001b[0m\n\u001b[1;33m    for lv in x:\u001b[0m\n\u001b[1;37m                ^\u001b[0m\n\u001b[1;31mIndentationError\u001b[0m\u001b[1;31m:\u001b[0m expected an indented block\n"
     ]
    }
   ],
   "source": [
    "x = [1,2,3,4]\n",
    "\n",
    "for lv in x:"
   ]
  },
  {
   "cell_type": "code",
   "execution_count": 15,
   "id": "6a46b0f5",
   "metadata": {},
   "outputs": [
    {
     "ename": "IndentationError",
     "evalue": "expected an indented block (559728593.py, line 4)",
     "output_type": "error",
     "traceback": [
      "\u001b[1;36m  Input \u001b[1;32mIn [15]\u001b[1;36m\u001b[0m\n\u001b[1;33m    # 아직 정해지지 않음\u001b[0m\n\u001b[1;37m                ^\u001b[0m\n\u001b[1;31mIndentationError\u001b[0m\u001b[1;31m:\u001b[0m expected an indented block\n"
     ]
    }
   ],
   "source": [
    "x = [1,2,3,4]\n",
    "\n",
    "for lv in x:\n",
    "    # 아직 정해지지 않음"
   ]
  },
  {
   "cell_type": "markdown",
   "id": "e65a07f0",
   "metadata": {},
   "source": [
    "이런 경우에 pass 키워드를 사용하면 에러가 발생되지 않음. "
   ]
  },
  {
   "cell_type": "code",
   "execution_count": 16,
   "id": "2333a429",
   "metadata": {},
   "outputs": [],
   "source": [
    "x = [1,2,3,4]\n",
    "\n",
    "for lv in x:\n",
    "    # 아직 정해지지 않음\n",
    "    pass"
   ]
  },
  {
   "cell_type": "markdown",
   "id": "e7b6704e",
   "metadata": {},
   "source": [
    "## continue"
   ]
  },
  {
   "cell_type": "markdown",
   "id": "a3e048a8",
   "metadata": {},
   "source": [
    "해당 반복문을 즉시 종료하고 다음 루프를 실행"
   ]
  },
  {
   "cell_type": "markdown",
   "id": "d83b05bf",
   "metadata": {},
   "source": [
    "점심 시간인 12시는 메세지를 발생하고 싶지 않을 때, <br>\n",
    "continue를 사용하면 lunch == 12 일때,<br>\n",
    "반복문(loop)을 종료하고 다음 반복문을 실행 시킴."
   ]
  },
  {
   "cell_type": "code",
   "execution_count": 2,
   "id": "b4663675",
   "metadata": {},
   "outputs": [
    {
     "name": "stdout",
     "output_type": "stream",
     "text": [
      "11시는 업무 시간입니다.\n",
      "13시는 업무 시간입니다.\n",
      "14시는 업무 시간입니다.\n"
     ]
    }
   ],
   "source": [
    "x = [11,12,13,14]\n",
    "\n",
    "for lunch in x:\n",
    "    if lunch == 12:\n",
    "        continue\n",
    "    print(f'{lunch}시는 업무 시간입니다.')    "
   ]
  },
  {
   "cell_type": "code",
   "execution_count": null,
   "id": "7f123be5",
   "metadata": {},
   "outputs": [],
   "source": []
  },
  {
   "cell_type": "code",
   "execution_count": null,
   "id": "114ab35e",
   "metadata": {},
   "outputs": [],
   "source": []
  }
 ],
 "metadata": {
  "kernelspec": {
   "display_name": "Python 3 (ipykernel)",
   "language": "python",
   "name": "python3"
  },
  "language_info": {
   "codemirror_mode": {
    "name": "ipython",
    "version": 3
   },
   "file_extension": ".py",
   "mimetype": "text/x-python",
   "name": "python",
   "nbconvert_exporter": "python",
   "pygments_lexer": "ipython3",
   "version": "3.9.12"
  }
 },
 "nbformat": 4,
 "nbformat_minor": 5
}
