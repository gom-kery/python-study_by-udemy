{
 "cells": [
  {
   "cell_type": "markdown",
   "id": "283a4999",
   "metadata": {},
   "source": [
    "# 비교 연산자"
   ]
  },
  {
   "cell_type": "code",
   "execution_count": 9,
   "id": "e78f6312",
   "metadata": {},
   "outputs": [],
   "source": [
    "s1 = set()\n",
    "s1.add(1)"
   ]
  },
  {
   "cell_type": "code",
   "execution_count": 5,
   "id": "9ae3c37d",
   "metadata": {},
   "outputs": [],
   "source": [
    "s2 = set()"
   ]
  },
  {
   "cell_type": "code",
   "execution_count": 10,
   "id": "413bbdee",
   "metadata": {},
   "outputs": [],
   "source": [
    "s1.add(1)\n",
    "s2.add(3)"
   ]
  },
  {
   "cell_type": "code",
   "execution_count": 11,
   "id": "cedffa33",
   "metadata": {},
   "outputs": [
    {
     "data": {
      "text/plain": [
       "False"
      ]
     },
     "execution_count": 11,
     "metadata": {},
     "output_type": "execute_result"
    }
   ],
   "source": [
    "s1 == s2"
   ]
  },
  {
   "cell_type": "code",
   "execution_count": 12,
   "id": "29c3f6f6",
   "metadata": {},
   "outputs": [
    {
     "data": {
      "text/plain": [
       "True"
      ]
     },
     "execution_count": 12,
     "metadata": {},
     "output_type": "execute_result"
    }
   ],
   "source": [
    "s1 != s2"
   ]
  },
  {
   "cell_type": "code",
   "execution_count": 13,
   "id": "0d764517",
   "metadata": {},
   "outputs": [
    {
     "data": {
      "text/plain": [
       "False"
      ]
     },
     "execution_count": 13,
     "metadata": {},
     "output_type": "execute_result"
    }
   ],
   "source": [
    "s1 > s2"
   ]
  },
  {
   "cell_type": "code",
   "execution_count": 14,
   "id": "f9554889",
   "metadata": {},
   "outputs": [
    {
     "data": {
      "text/plain": [
       "False"
      ]
     },
     "execution_count": 14,
     "metadata": {},
     "output_type": "execute_result"
    }
   ],
   "source": [
    "s1 < s2"
   ]
  },
  {
   "cell_type": "code",
   "execution_count": 15,
   "id": "f7a37047",
   "metadata": {},
   "outputs": [],
   "source": [
    "list1 = [1,2,3,4,5]"
   ]
  },
  {
   "cell_type": "code",
   "execution_count": 16,
   "id": "e42450a4",
   "metadata": {},
   "outputs": [],
   "source": [
    "list2 = [2,3,4]"
   ]
  },
  {
   "cell_type": "code",
   "execution_count": 17,
   "id": "40dce63a",
   "metadata": {},
   "outputs": [
    {
     "data": {
      "text/plain": [
       "False"
      ]
     },
     "execution_count": 17,
     "metadata": {},
     "output_type": "execute_result"
    }
   ],
   "source": [
    "list1 > list2"
   ]
  },
  {
   "cell_type": "code",
   "execution_count": 18,
   "id": "9369cd20",
   "metadata": {},
   "outputs": [
    {
     "data": {
      "text/plain": [
       "True"
      ]
     },
     "execution_count": 18,
     "metadata": {},
     "output_type": "execute_result"
    }
   ],
   "source": [
    "list1 < list2"
   ]
  },
  {
   "cell_type": "code",
   "execution_count": 21,
   "id": "641e5436",
   "metadata": {},
   "outputs": [],
   "source": [
    "d1 = [\"사제:수양\",\"레벨:20\"]"
   ]
  },
  {
   "cell_type": "code",
   "execution_count": 22,
   "id": "397ed6b8",
   "metadata": {},
   "outputs": [],
   "source": [
    "d2 = [\"도적:암살\",\"레벨 :25\"]"
   ]
  },
  {
   "cell_type": "code",
   "execution_count": 23,
   "id": "91397f63",
   "metadata": {},
   "outputs": [
    {
     "data": {
      "text/plain": [
       "True"
      ]
     },
     "execution_count": 23,
     "metadata": {},
     "output_type": "execute_result"
    }
   ],
   "source": [
    "d1 != d2"
   ]
  },
  {
   "cell_type": "code",
   "execution_count": 24,
   "id": "330b5d91",
   "metadata": {},
   "outputs": [
    {
     "data": {
      "text/plain": [
       "True"
      ]
     },
     "execution_count": 24,
     "metadata": {},
     "output_type": "execute_result"
    }
   ],
   "source": [
    "d1 >= d2"
   ]
  },
  {
   "cell_type": "code",
   "execution_count": 25,
   "id": "c323e4e7",
   "metadata": {},
   "outputs": [
    {
     "data": {
      "text/plain": [
       "False"
      ]
     },
     "execution_count": 25,
     "metadata": {},
     "output_type": "execute_result"
    }
   ],
   "source": [
    "d1 <= d2"
   ]
  },
  {
   "cell_type": "markdown",
   "id": "547ff5b3",
   "metadata": {},
   "source": [
    "# 논리 연산자"
   ]
  },
  {
   "cell_type": "code",
   "execution_count": 36,
   "id": "5366124c",
   "metadata": {},
   "outputs": [],
   "source": [
    "age = 18"
   ]
  },
  {
   "cell_type": "code",
   "execution_count": 29,
   "id": "2984d4e6",
   "metadata": {},
   "outputs": [
    {
     "data": {
      "text/plain": [
       "False"
      ]
     },
     "execution_count": 29,
     "metadata": {},
     "output_type": "execute_result"
    }
   ],
   "source": [
    "age > 10 and age < 8"
   ]
  },
  {
   "cell_type": "code",
   "execution_count": 30,
   "id": "4bbc38b7",
   "metadata": {},
   "outputs": [
    {
     "data": {
      "text/plain": [
       "True"
      ]
     },
     "execution_count": 30,
     "metadata": {},
     "output_type": "execute_result"
    }
   ],
   "source": [
    "age > 10 and age < 20"
   ]
  },
  {
   "cell_type": "code",
   "execution_count": 33,
   "id": "53f45118",
   "metadata": {},
   "outputs": [
    {
     "data": {
      "text/plain": [
       "True"
      ]
     },
     "execution_count": 33,
     "metadata": {},
     "output_type": "execute_result"
    }
   ],
   "source": [
    "age == 10 or age < 20"
   ]
  },
  {
   "cell_type": "code",
   "execution_count": 37,
   "id": "bcc35d2a",
   "metadata": {},
   "outputs": [
    {
     "data": {
      "text/plain": [
       "False"
      ]
     },
     "execution_count": 37,
     "metadata": {},
     "output_type": "execute_result"
    }
   ],
   "source": [
    "not(age == 10 or age < 20)"
   ]
  },
  {
   "cell_type": "code",
   "execution_count": 38,
   "id": "d7e5d255",
   "metadata": {},
   "outputs": [
    {
     "data": {
      "text/plain": [
       "False"
      ]
     },
     "execution_count": 38,
     "metadata": {},
     "output_type": "execute_result"
    }
   ],
   "source": [
    "age == 10 or age < 1"
   ]
  },
  {
   "cell_type": "code",
   "execution_count": null,
   "id": "ced84584",
   "metadata": {},
   "outputs": [],
   "source": []
  }
 ],
 "metadata": {
  "kernelspec": {
   "display_name": "Python 3 (ipykernel)",
   "language": "python",
   "name": "python3"
  },
  "language_info": {
   "codemirror_mode": {
    "name": "ipython",
    "version": 3
   },
   "file_extension": ".py",
   "mimetype": "text/x-python",
   "name": "python",
   "nbconvert_exporter": "python",
   "pygments_lexer": "ipython3",
   "version": "3.9.12"
  }
 },
 "nbformat": 4,
 "nbformat_minor": 5
}
