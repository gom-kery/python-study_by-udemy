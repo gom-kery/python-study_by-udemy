{
 "cells": [
  {
   "cell_type": "code",
   "execution_count": 2,
   "id": "5f32f7db",
   "metadata": {},
   "outputs": [],
   "source": [
    "def join_party(class):\n",
    "#    name = input('이름을 입력해주세요 :')\n",
    "    print(f'{class}님이 파티에 들어오셨습니다.')\n",
    "    "
   ]
  },
  {
   "cell_type": "code",
   "execution_count": 3,
   "id": "a8caf271",
   "metadata": {},
   "outputs": [
    {
     "name": "stdout",
     "output_type": "stream",
     "text": [
      "전사님이 파티에 들어오셨습니다.\n"
     ]
    }
   ],
   "source": [
    "join_party('전사')"
   ]
  },
  {
   "cell_type": "code",
   "execution_count": 5,
   "id": "d70c7688",
   "metadata": {},
   "outputs": [
    {
     "ename": "TypeError",
     "evalue": "join_party() missing 1 required positional argument: 'name'",
     "output_type": "error",
     "traceback": [
      "\u001b[1;31m---------------------------------------------------------------------------\u001b[0m",
      "\u001b[1;31mTypeError\u001b[0m                                 Traceback (most recent call last)",
      "Input \u001b[1;32mIn [5]\u001b[0m, in \u001b[0;36m<cell line: 2>\u001b[1;34m()\u001b[0m\n\u001b[0;32m      1\u001b[0m \u001b[38;5;66;03m# name을 입력하지 않고 함수를 호출했을 때\u001b[39;00m\n\u001b[1;32m----> 2\u001b[0m \u001b[43mjoin_party\u001b[49m\u001b[43m(\u001b[49m\u001b[43m)\u001b[49m\n",
      "\u001b[1;31mTypeError\u001b[0m: join_party() missing 1 required positional argument: 'name'"
     ]
    }
   ],
   "source": [
    "# name 인자를 입력하지 않고 함수를 호출했을 때\n",
    "join_party()"
   ]
  },
  {
   "cell_type": "markdown",
   "id": "d3dfaee5",
   "metadata": {},
   "source": [
    "## 인자 없이 함수를 실행하려면\n",
    "(인자 = '텍스트') 형식으로 기본값을 넣어주면 됨."
   ]
  },
  {
   "cell_type": "code",
   "execution_count": 7,
   "id": "71dc38bc",
   "metadata": {},
   "outputs": [],
   "source": [
    "# def join_party(class=input(\"초대하려는 직업을 선택해주세요 :\")): \n",
    "# >> 하고 싶은 것, name을 input 으로 받아서 함수가 동작하게 하고 싶음. 현재 SyntaxError: invalid syntax 에러 발생\n",
    "def join_party(class_name='노비스'):\n",
    "#    name = input('이름을 입력해주세요 :')\n",
    "    print(f'{class_name}님이 파티에 들어오셨습니다.')"
   ]
  },
  {
   "cell_type": "code",
   "execution_count": 8,
   "id": "653c03c5",
   "metadata": {},
   "outputs": [
    {
     "name": "stdout",
     "output_type": "stream",
     "text": [
      "노비스님이 파티에 들어오셨습니다.\n"
     ]
    }
   ],
   "source": [
    "join_party()"
   ]
  },
  {
   "cell_type": "markdown",
   "id": "bc2ef26f",
   "metadata": {},
   "source": [
    "# print()를 사용하지 않는 함수 만들기"
   ]
  },
  {
   "cell_type": "code",
   "execution_count": 9,
   "id": "d7f5d6d5",
   "metadata": {},
   "outputs": [],
   "source": [
    "def Rectangle(width,length):\n",
    "    return width * length\n",
    "    "
   ]
  },
  {
   "cell_type": "markdown",
   "id": "78adedd2",
   "metadata": {},
   "source": [
    "# print와 return의 차이"
   ]
  },
  {
   "cell_type": "code",
   "execution_count": 10,
   "id": "6bf66439",
   "metadata": {},
   "outputs": [
    {
     "name": "stdout",
     "output_type": "stream",
     "text": [
      "20\n"
     ]
    }
   ],
   "source": [
    "def print_result(a,b):\n",
    "    print(a+b)\n",
    "    \n",
    "print_result(5,15)"
   ]
  },
  {
   "cell_type": "code",
   "execution_count": 11,
   "id": "4b143931",
   "metadata": {},
   "outputs": [
    {
     "name": "stdout",
     "output_type": "stream",
     "text": [
      "20\n"
     ]
    }
   ],
   "source": [
    "result1 = print_result(5,15)"
   ]
  },
  {
   "cell_type": "code",
   "execution_count": 13,
   "id": "1ae1cf8d",
   "metadata": {},
   "outputs": [],
   "source": [
    "def sum_result(a,b):\n",
    "    return a+b\n",
    "    \n",
    "result2 = sum_result(5,15)"
   ]
  },
  {
   "cell_type": "code",
   "execution_count": 14,
   "id": "86a7abe0",
   "metadata": {},
   "outputs": [
    {
     "data": {
      "text/plain": [
       "20"
      ]
     },
     "execution_count": 14,
     "metadata": {},
     "output_type": "execute_result"
    }
   ],
   "source": [
    "result2"
   ]
  },
  {
   "cell_type": "code",
   "execution_count": null,
   "id": "54e52e91",
   "metadata": {},
   "outputs": [],
   "source": []
  }
 ],
 "metadata": {
  "kernelspec": {
   "display_name": "Python 3 (ipykernel)",
   "language": "python",
   "name": "python3"
  },
  "language_info": {
   "codemirror_mode": {
    "name": "ipython",
    "version": 3
   },
   "file_extension": ".py",
   "mimetype": "text/x-python",
   "name": "python",
   "nbconvert_exporter": "python",
   "pygments_lexer": "ipython3",
   "version": "3.9.12"
  }
 },
 "nbformat": 4,
 "nbformat_minor": 5
}
