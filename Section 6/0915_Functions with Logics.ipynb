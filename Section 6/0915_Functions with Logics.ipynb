{
 "cells": [
  {
   "cell_type": "markdown",
   "id": "6b91d69e",
   "metadata": {},
   "source": [
    "## 짝수를 체크하는 함수 만들기\n",
    "강의 보기 전 실습"
   ]
  },
  {
   "cell_type": "markdown",
   "id": "a399581d",
   "metadata": {},
   "source": [
    "만들고 싶은 것 <br>\n",
    "1. 함수를 실행하면 \n",
    "2. 숫자를 입력받고 \n",
    "3. 입력받은 숫자가 홀수인지 짝수인지 결과를 알려주는 함수"
   ]
  },
  {
   "cell_type": "code",
   "execution_count": 9,
   "id": "455a713b",
   "metadata": {
    "scrolled": true
   },
   "outputs": [],
   "source": [
    "def even_checks():\n",
    "    number = int(input(\"확인하려는 숫자를 입력해주세요 :\"))\n",
    "    if number%2 == 0:\n",
    "        print(f'{number}는 짝수입니다')\n",
    "    else:\n",
    "        print(f'{number}는 홀수입니다.')"
   ]
  },
  {
   "cell_type": "code",
   "execution_count": 10,
   "id": "2999c8c7",
   "metadata": {},
   "outputs": [
    {
     "name": "stdout",
     "output_type": "stream",
     "text": [
      "확인하려는 숫자를 입력해주세요 :99995\n",
      "99995는 홀수입니다.\n"
     ]
    }
   ],
   "source": [
    "even_checks()"
   ]
  },
  {
   "cell_type": "code",
   "execution_count": 11,
   "id": "bde39f6e",
   "metadata": {},
   "outputs": [
    {
     "name": "stdout",
     "output_type": "stream",
     "text": [
      "확인하려는 숫자를 입력해주세요 :1237812\n",
      "1237812는 짝수입니다\n"
     ]
    }
   ],
   "source": [
    "even_checks()"
   ]
  },
  {
   "cell_type": "markdown",
   "id": "c77a490a",
   "metadata": {},
   "source": [
    "## 짝수 체크하는 함수\n",
    "강의 내용 따라하기"
   ]
  },
  {
   "cell_type": "code",
   "execution_count": 12,
   "id": "755953de",
   "metadata": {},
   "outputs": [],
   "source": [
    "def even_check(number):\n",
    "    result = number % 2 == 0\n",
    "    return result"
   ]
  },
  {
   "cell_type": "code",
   "execution_count": 13,
   "id": "c3495380",
   "metadata": {},
   "outputs": [
    {
     "data": {
      "text/plain": [
       "True"
      ]
     },
     "execution_count": 13,
     "metadata": {},
     "output_type": "execute_result"
    }
   ],
   "source": [
    "even_check(4)"
   ]
  },
  {
   "cell_type": "code",
   "execution_count": 16,
   "id": "2daf9ea7",
   "metadata": {},
   "outputs": [],
   "source": [
    "result1 = even_check(15)"
   ]
  },
  {
   "cell_type": "code",
   "execution_count": 17,
   "id": "3e0fb948",
   "metadata": {},
   "outputs": [
    {
     "name": "stdout",
     "output_type": "stream",
     "text": [
      "False\n"
     ]
    }
   ],
   "source": [
    "print(result1)"
   ]
  },
  {
   "cell_type": "code",
   "execution_count": 18,
   "id": "da019b68",
   "metadata": {},
   "outputs": [],
   "source": [
    "# 이렇게 하더라도 위와 동일하게 동작\n",
    "def even_check(number):\n",
    "    return number % 2 == 0"
   ]
  },
  {
   "cell_type": "code",
   "execution_count": 19,
   "id": "cd297b3f",
   "metadata": {},
   "outputs": [
    {
     "data": {
      "text/plain": [
       "False"
      ]
     },
     "execution_count": 19,
     "metadata": {},
     "output_type": "execute_result"
    }
   ],
   "source": [
    "even_check(5)"
   ]
  },
  {
   "cell_type": "markdown",
   "id": "bf122b2b",
   "metadata": {},
   "source": [
    "# list내에 짝수가 있으면 true를 반환하는 함수\n",
    "강의 보기 전 실습"
   ]
  },
  {
   "cell_type": "code",
   "execution_count": 20,
   "id": "7f967a46",
   "metadata": {},
   "outputs": [],
   "source": [
    "def list_even_check(num_list):\n",
    "    return num_list%2 == 0"
   ]
  },
  {
   "cell_type": "markdown",
   "id": "2bac35dd",
   "metadata": {},
   "source": [
    "강의보고 느낌 점 & 내가 빼먹은 것 \n",
    "1. 리스트 내의 요소를 확인하지 않음. 단순히 리스트 자체와 비교함.\n",
    "2. 리스트에는 % 연산자 타입이 지원되지 않음."
   ]
  },
  {
   "cell_type": "code",
   "execution_count": 21,
   "id": "44022a51",
   "metadata": {},
   "outputs": [
    {
     "ename": "TypeError",
     "evalue": "unsupported operand type(s) for %: 'list' and 'int'",
     "output_type": "error",
     "traceback": [
      "\u001b[1;31m---------------------------------------------------------------------------\u001b[0m",
      "\u001b[1;31mTypeError\u001b[0m                                 Traceback (most recent call last)",
      "Input \u001b[1;32mIn [21]\u001b[0m, in \u001b[0;36m<cell line: 2>\u001b[1;34m()\u001b[0m\n\u001b[0;32m      1\u001b[0m mylist \u001b[38;5;241m=\u001b[39m [\u001b[38;5;241m1\u001b[39m,\u001b[38;5;241m2\u001b[39m,\u001b[38;5;241m3\u001b[39m,\u001b[38;5;241m4\u001b[39m,\u001b[38;5;241m5\u001b[39m,\u001b[38;5;241m6\u001b[39m]\n\u001b[1;32m----> 2\u001b[0m \u001b[43mlist_even_check\u001b[49m\u001b[43m(\u001b[49m\u001b[43mmylist\u001b[49m\u001b[43m)\u001b[49m\n",
      "Input \u001b[1;32mIn [20]\u001b[0m, in \u001b[0;36mlist_even_check\u001b[1;34m(num_list)\u001b[0m\n\u001b[0;32m      1\u001b[0m \u001b[38;5;28;01mdef\u001b[39;00m \u001b[38;5;21mlist_even_check\u001b[39m(num_list):\n\u001b[1;32m----> 2\u001b[0m     \u001b[38;5;28;01mreturn\u001b[39;00m \u001b[43mnum_list\u001b[49m\u001b[38;5;241;43m%\u001b[39;49m\u001b[38;5;241;43m2\u001b[39;49m \u001b[38;5;241m==\u001b[39m \u001b[38;5;241m0\u001b[39m\n",
      "\u001b[1;31mTypeError\u001b[0m: unsupported operand type(s) for %: 'list' and 'int'"
     ]
    }
   ],
   "source": [
    "mylist = [1,2,3,4,5,6]\n",
    "list_even_check(mylist)"
   ]
  },
  {
   "cell_type": "markdown",
   "id": "0383a3e4",
   "metadata": {},
   "source": [
    "강의 내용"
   ]
  },
  {
   "cell_type": "code",
   "execution_count": 24,
   "id": "34b7aa88",
   "metadata": {},
   "outputs": [],
   "source": [
    "def even_check_list(num_lists):       # 숫자로 이루어진 리스트를  \n",
    "    \n",
    "    for number in num_lists:           # number에 전달하면 요소를 확인함\n",
    "        if number % 2 == 0:           # 확인한 요소 중에 짝수가 있으면\n",
    "            return True              # True를 반환\n",
    "                                    # return 이 꼭 라인의 끝에 갈 필요가 없음. return은  한번 호출되면 함수를 끝냄\n",
    "        else:                         # 요소가 짝수가 아니면 pass 함\n",
    "            pass\n",
    "        "
   ]
  },
  {
   "cell_type": "code",
   "execution_count": 25,
   "id": "ccc55ccb",
   "metadata": {
    "scrolled": false
   },
   "outputs": [
    {
     "data": {
      "text/plain": [
       "True"
      ]
     },
     "execution_count": 25,
     "metadata": {},
     "output_type": "execute_result"
    }
   ],
   "source": [
    "even_check_list(mylist)"
   ]
  },
  {
   "cell_type": "markdown",
   "id": "7725a531",
   "metadata": {},
   "source": [
    "## 리스트 내에 짝수만 추려서 반환하는 함수"
   ]
  },
  {
   "cell_type": "code",
   "execution_count": 26,
   "id": "566529df",
   "metadata": {},
   "outputs": [],
   "source": [
    "# 숫자로된 리스트를 받는 함수\n",
    "def even_check_list(num_list):\n",
    "\n",
    "    # 빈 리스트를 하나 선언.\n",
    "    even_number = []\n",
    "    for number in num_list:\n",
    "        if number % 2 == 0:\n",
    "            even_number.append(number)\n",
    "        else:\n",
    "            pass\n",
    "    return even_number"
   ]
  },
  {
   "cell_type": "code",
   "execution_count": 27,
   "id": "1bf443bb",
   "metadata": {},
   "outputs": [
    {
     "data": {
      "text/plain": [
       "[2, 4, 6]"
      ]
     },
     "execution_count": 27,
     "metadata": {},
     "output_type": "execute_result"
    }
   ],
   "source": [
    "even_check_list([1,2,3,4,5,6,7])"
   ]
  },
  {
   "cell_type": "code",
   "execution_count": null,
   "id": "2acb0097",
   "metadata": {},
   "outputs": [],
   "source": []
  }
 ],
 "metadata": {
  "kernelspec": {
   "display_name": "Python 3 (ipykernel)",
   "language": "python",
   "name": "python3"
  },
  "language_info": {
   "codemirror_mode": {
    "name": "ipython",
    "version": 3
   },
   "file_extension": ".py",
   "mimetype": "text/x-python",
   "name": "python",
   "nbconvert_exporter": "python",
   "pygments_lexer": "ipython3",
   "version": "3.9.12"
  }
 },
 "nbformat": 4,
 "nbformat_minor": 5
}
