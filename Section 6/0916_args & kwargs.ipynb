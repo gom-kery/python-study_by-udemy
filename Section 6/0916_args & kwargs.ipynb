{
 "cells": [
  {
   "cell_type": "code",
   "execution_count": 9,
   "id": "f9188bca",
   "metadata": {},
   "outputs": [
    {
     "ename": "TypeError",
     "evalue": "value_added_tax() takes 3 positional arguments but 4 were given",
     "output_type": "error",
     "traceback": [
      "\u001b[1;31m---------------------------------------------------------------------------\u001b[0m",
      "\u001b[1;31mTypeError\u001b[0m                                 Traceback (most recent call last)",
      "Input \u001b[1;32mIn [9]\u001b[0m, in \u001b[0;36m<cell line: 4>\u001b[1;34m()\u001b[0m\n\u001b[0;32m      1\u001b[0m \u001b[38;5;28;01mdef\u001b[39;00m \u001b[38;5;21mvalue_added_tax\u001b[39m (order1, order2, order3):\n\u001b[0;32m      2\u001b[0m     \u001b[38;5;28;01mreturn\u001b[39;00m \u001b[38;5;28msum\u001b[39m((order1, order2, order3)) \u001b[38;5;241m*\u001b[39m \u001b[38;5;241m0.1\u001b[39m\n\u001b[1;32m----> 4\u001b[0m \u001b[43mvalue_added_tax\u001b[49m\u001b[43m(\u001b[49m\u001b[38;5;241;43m200\u001b[39;49m\u001b[43m,\u001b[49m\u001b[38;5;241;43m1200\u001b[39;49m\u001b[43m,\u001b[49m\u001b[38;5;241;43m3000\u001b[39;49m\u001b[43m,\u001b[49m\u001b[38;5;241;43m40000\u001b[39;49m\u001b[43m)\u001b[49m\n",
      "\u001b[1;31mTypeError\u001b[0m: value_added_tax() takes 3 positional arguments but 4 were given"
     ]
    }
   ],
   "source": [
    "def value_added_tax (order1, order2, order3):\n",
    "    return sum((order1, order2, order3)) * 0.1\n",
    "    \n",
    "value_added_tax(200,1200,3000,40000)"
   ]
  },
  {
   "cell_type": "code",
   "execution_count": 13,
   "id": "158cdfe3",
   "metadata": {},
   "outputs": [],
   "source": [
    "def value_added_tax (*args):\n",
    "#    return sum(args) * 0.1\n",
    "    print(args)\n"
   ]
  },
  {
   "cell_type": "code",
   "execution_count": 12,
   "id": "3f1bde72",
   "metadata": {},
   "outputs": [
    {
     "data": {
      "text/plain": [
       "72.7"
      ]
     },
     "execution_count": 12,
     "metadata": {},
     "output_type": "execute_result"
    }
   ],
   "source": [
    "value_added_tax(200,12,315,200)"
   ]
  },
  {
   "cell_type": "code",
   "execution_count": 15,
   "id": "69c32b38",
   "metadata": {},
   "outputs": [
    {
     "name": "stdout",
     "output_type": "stream",
     "text": [
      "(20, 801, 35)\n"
     ]
    }
   ],
   "source": [
    "value_added_tax(20,801,35)"
   ]
  },
  {
   "cell_type": "markdown",
   "id": "bbcf155a",
   "metadata": {},
   "source": [
    "## **kwargs"
   ]
  },
  {
   "cell_type": "code",
   "execution_count": 21,
   "id": "a16c01e3",
   "metadata": {},
   "outputs": [],
   "source": [
    "def love_animal(**kwargs):\n",
    "    print(kwargs)\n",
    "    if 'animal' in kwargs:\n",
    "        print('내가 좋아하는 동물은 {} 입니다'.format(kwargs['animal']))\n",
    "    else:\n",
    "        print('응?')"
   ]
  },
  {
   "cell_type": "code",
   "execution_count": 17,
   "id": "0d289096",
   "metadata": {},
   "outputs": [
    {
     "ename": "SyntaxError",
     "evalue": "keyword argument repeated: animal (4238010168.py, line 1)",
     "output_type": "error",
     "traceback": [
      "\u001b[1;36m  Input \u001b[1;32mIn [17]\u001b[1;36m\u001b[0m\n\u001b[1;33m    love_animal(animal='cat',animal='dog',food='pizza',game='wow',animal='bear')\u001b[0m\n\u001b[1;37m                             ^\u001b[0m\n\u001b[1;31mSyntaxError\u001b[0m\u001b[1;31m:\u001b[0m keyword argument repeated: animal\n"
     ]
    }
   ],
   "source": [
    "love_animal(animal='cat,dog',animal='dog',food='pizza',game='wow',animal='bear')"
   ]
  },
  {
   "cell_type": "code",
   "execution_count": 23,
   "id": "491d62fa",
   "metadata": {},
   "outputs": [
    {
     "name": "stdout",
     "output_type": "stream",
     "text": [
      "{'animal': 'cat', 'food': 'pizza', 'game': 'wow'}\n",
      "내가 좋아하는 동물은 cat 입니다\n"
     ]
    }
   ],
   "source": [
    "love_animal(animal='cat',food='pizza',game='wow')"
   ]
  },
  {
   "cell_type": "code",
   "execution_count": 35,
   "id": "1471ba73",
   "metadata": {},
   "outputs": [],
   "source": [
    "def my_frige(*args,**kwargs):\n",
    "    # 매개 변수가 어떻게 처리되는 지 확인용\n",
    "    print(args)\n",
    "    print(kwargs)\n",
    "    \n",
    "    # 동작\n",
    "    print('냉장고에는 {}개의 {}가 있어요.'.format(args[0],kwargs['food']))"
   ]
  },
  {
   "cell_type": "code",
   "execution_count": 36,
   "id": "2e043e86",
   "metadata": {},
   "outputs": [
    {
     "name": "stdout",
     "output_type": "stream",
     "text": [
      "(10, 20, 50)\n",
      "{'fruit': 'apple', 'food': 'pizza'}\n",
      "냉장고에는 10개의 pizza가 있어요.\n"
     ]
    }
   ],
   "source": [
    "my_frige(10,20,50,fruit='apple',food='pizza')"
   ]
  },
  {
   "cell_type": "markdown",
   "id": "e189d56c",
   "metadata": {},
   "source": [
    "## 함수 동작 시 \"음식명 가 nn개 있어요\" 를 원하여 format 내부 매개 변수 위치 변경"
   ]
  },
  {
   "cell_type": "code",
   "execution_count": 37,
   "id": "64477450",
   "metadata": {},
   "outputs": [],
   "source": [
    "def my_frige(*args,**kwargs):\n",
    "    \n",
    "    print('냉장고에는 {}가 {}개 있어요.'.format(kwargs['food'],args[0]))"
   ]
  },
  {
   "cell_type": "code",
   "execution_count": 38,
   "id": "7b4b7aeb",
   "metadata": {},
   "outputs": [
    {
     "name": "stdout",
     "output_type": "stream",
     "text": [
      "냉장고에는 10가 피자개 있어요.\n"
     ]
    }
   ],
   "source": [
    "my_frige(10,food='피자')"
   ]
  },
  {
   "cell_type": "markdown",
   "id": "6aa25eb2",
   "metadata": {},
   "source": [
    "## 결과가 원하는 것과 달리\n",
    "### {갯수} 가 {음식명}개 있어요  로 출력됨\n",
    "### 방법을 차차 찾아보도록 한다."
   ]
  },
  {
   "cell_type": "code",
   "execution_count": 40,
   "id": "19d4e3ba",
   "metadata": {},
   "outputs": [
    {
     "ename": "SyntaxError",
     "evalue": "invalid syntax (623427716.py, line 1)",
     "output_type": "error",
     "traceback": [
      "\u001b[1;36m  Input \u001b[1;32mIn [40]\u001b[1;36m\u001b[0m\n\u001b[1;33m    def my_frige(**kwargs,*args):\u001b[0m\n\u001b[1;37m                          ^\u001b[0m\n\u001b[1;31mSyntaxError\u001b[0m\u001b[1;31m:\u001b[0m invalid syntax\n"
     ]
    }
   ],
   "source": [
    "def my_frige(**kwargs,*args):\n",
    "    \n",
    "    print('냉장고에는 {}가 {}개 있어요.'.format(kwargs['food'],args[0]))"
   ]
  },
  {
   "cell_type": "code",
   "execution_count": null,
   "id": "09dba6cc",
   "metadata": {},
   "outputs": [],
   "source": []
  }
 ],
 "metadata": {
  "kernelspec": {
   "display_name": "Python 3 (ipykernel)",
   "language": "python",
   "name": "python3"
  },
  "language_info": {
   "codemirror_mode": {
    "name": "ipython",
    "version": 3
   },
   "file_extension": ".py",
   "mimetype": "text/x-python",
   "name": "python",
   "nbconvert_exporter": "python",
   "pygments_lexer": "ipython3",
   "version": "3.9.12"
  }
 },
 "nbformat": 4,
 "nbformat_minor": 5
}
