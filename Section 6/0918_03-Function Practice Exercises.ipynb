{
 "cells": [
  {
   "cell_type": "markdown",
   "metadata": {},
   "source": [
    "___\n",
    "\n",
    "<a href='https://www.udemy.com/user/joseportilla/'><img src='../Pierian_Data_Logo.png'/></a>\n",
    "___\n",
    "<center><em>Content Copyright by Pierian Data</em></center>"
   ]
  },
  {
   "cell_type": "markdown",
   "metadata": {},
   "source": [
    "# 강사의 문제풀이 영상을 보지 않고 직접 풀어본 내용"
   ]
  },
  {
   "cell_type": "markdown",
   "metadata": {},
   "source": [
    "# Function Practice Exercises\n",
    "\n",
    "Problems are arranged in increasing difficulty:\n",
    "* Warmup - these can be solved using basic comparisons and methods\n",
    "* Level 1 - these may involve if/then conditional statements and simple methods\n",
    "* Level 2 - these may require iterating over sequences, usually with some kind of loop\n",
    "* Challenging - these will take some creativity to solve"
   ]
  },
  {
   "cell_type": "markdown",
   "metadata": {},
   "source": [
    "### 번역\n",
    "- 워밍업: 기본 비교 및 ​​방법을 사용하여 해결할 수 있습니다.\n",
    "- 레벨 1: 여기에는 if/then 조건문과 간단한 방법이 포함될 수 있습니다.\n",
    "- 레벨 2: 일반적으로 일종의 루프를 사용하여 시퀀스를 반복해야 할 수 있습니다.\n",
    "- 도전문제: 해결하려면 약간의 창의성이 필요합니다.\n",
    "----"
   ]
  },
  {
   "cell_type": "markdown",
   "metadata": {},
   "source": [
    "## WARMUP SECTION:"
   ]
  },
  {
   "cell_type": "markdown",
   "metadata": {},
   "source": [
    "#### LESSER OF TWO EVENS: Write a function that returns the lesser of two given numbers *if* both numbers are even, but returns the greater if one or both numbers are odd\n",
    "    lesser_of_two_evens(2,4) --> 2\n",
    "    lesser_of_two_evens(2,5) --> 5"
   ]
  },
  {
   "cell_type": "markdown",
   "metadata": {},
   "source": [
    "### 번역:\n",
    "#### 입력한 2개의 인자가 \n",
    "1. 모두 짝수면 작은 수를 반환\n",
    "2. 하나만 짝수거나 모두 홀수면 큰 수를 반환"
   ]
  },
  {
   "cell_type": "markdown",
   "metadata": {},
   "source": [
    "### 풀이에 필요할 것 같은 것  메모\n",
    "- 두 수가 모두 짝수면\n",
    "    - and 연산자 :   \n",
    "    - a+b % 2 == 0 : 홀수 + 홀수 %2==0 인 경우가 있어서 fail. 근데 a != b  넣으면 해결될지도?\n",
    "- 하나만 짝수면 : or\n",
    "- 모두 짝수면 : else? \n"
   ]
  },
  {
   "cell_type": "code",
   "execution_count": 24,
   "metadata": {},
   "outputs": [],
   "source": [
    "# 첫번째 풀이\n",
    "def lesser_of_two_evens(a,b):\n",
    "    # 2개의 숫자 비교 & 모두 짝수인 경우\n",
    "    if a%2 == 0 and b%2 == 0:\n",
    "        if a > b:\n",
    "            print(b)\n",
    "        else:\n",
    "            print(a)\n",
    "    # 둘 중 하나만 짝수 \n",
    "    elif a%2 != 0 or b%2 != 0:\n",
    "    #  elif가 아니고 else로 변경해도 정상 동작 확인\n",
    "        if a > b:\n",
    "            print(a)\n",
    "        else:\n",
    "            print(b)\n",
    "    # 둘 다 홀 수  (없어도 정상 동작 = 불필요한 스크립트)\n",
    "    elif a%2 == 1 and b%2 == 1:\n",
    "        if a > b:\n",
    "            print(a)\n",
    "        else:\n",
    "            print(b)\n",
    "    "
   ]
  },
  {
   "cell_type": "code",
   "execution_count": 10,
   "metadata": {},
   "outputs": [],
   "source": [
    "# 최종 결과\n",
    "def lesser_of_two_evens(a,b):\n",
    "    # 2개의 숫자 비교 & 모두 짝수인 경우\n",
    "    if a%2 == 0 and b%2 == 0:\n",
    "        if a > b:\n",
    "            return b\n",
    "        else:\n",
    "            return a\n",
    "    # 둘 중 하나만 짝수 거나 둘다 홀수 \n",
    "    else: \n",
    "        if a > b:\n",
    "            return a\n",
    "        else:\n",
    "            return b\n",
    "    "
   ]
  },
  {
   "cell_type": "code",
   "execution_count": 11,
   "metadata": {},
   "outputs": [
    {
     "data": {
      "text/plain": [
       "2"
      ]
     },
     "execution_count": 11,
     "metadata": {},
     "output_type": "execute_result"
    }
   ],
   "source": [
    "# Check\n",
    "lesser_of_two_evens(4,2)"
   ]
  },
  {
   "cell_type": "code",
   "execution_count": 12,
   "metadata": {},
   "outputs": [
    {
     "data": {
      "text/plain": [
       "5"
      ]
     },
     "execution_count": 12,
     "metadata": {},
     "output_type": "execute_result"
    }
   ],
   "source": [
    "# Check\n",
    "lesser_of_two_evens(2,5)"
   ]
  },
  {
   "cell_type": "code",
   "execution_count": 13,
   "metadata": {},
   "outputs": [
    {
     "data": {
      "text/plain": [
       "12"
      ]
     },
     "execution_count": 13,
     "metadata": {},
     "output_type": "execute_result"
    }
   ],
   "source": [
    "lesser_of_two_evens(12,5)"
   ]
  },
  {
   "cell_type": "markdown",
   "metadata": {},
   "source": [
    "#### ANIMAL CRACKERS: Write a function takes a two-word string and returns True if both words begin with same letter\n",
    "    animal_crackers('Levelheaded Llama') --> True\n",
    "    animal_crackers('Crazy Kangaroo') --> False"
   ]
  },
  {
   "cell_type": "markdown",
   "metadata": {},
   "source": [
    "번역 \n",
    "- 두 단어로 된 문자열을 사용하여 두 단어가 같은 문자로 시작하면 True를 반환하는 함수 작성"
   ]
  },
  {
   "cell_type": "markdown",
   "metadata": {},
   "source": [
    "### 풀이에 필요할 것 같은 것  메모\n",
    "1. split()\n",
    "2. 나뉜 글자의 text1[0] text2[0] 비교 \n",
    "    - == True\n",
    "    - != False"
   ]
  },
  {
   "cell_type": "code",
   "execution_count": 62,
   "metadata": {},
   "outputs": [],
   "source": [
    "# 첫 풀이\n",
    "def animal_crackers(text):\n",
    "    # 띄어쓰기를 기준으로 글자 나누기\n",
    "    split_text = text.split()\n",
    "    \n",
    "    # 제대로 나눠졌는지 확인용\n",
    "    #print(split_text[0][0])\n",
    "    #print(split_text[1][0])\n",
    "    \n",
    "    # 정상 동작되지만, 첫글자가 대/소문자 인 경우 False로 동작함.\n",
    "    #if split_text[0][0] == split_text[1][0]:\n",
    "    \n",
    "    # 첫글자를 모두 대문자로 변경해서 비교 하도록 동작\n",
    "    if split_text[0][0].upper() == split_text[1][0].upper():\n",
    "        return True\n",
    "    else:\n",
    "        return False\n",
    "    \n"
   ]
  },
  {
   "cell_type": "code",
   "execution_count": 14,
   "metadata": {},
   "outputs": [],
   "source": [
    "# 최종 결과\n",
    "def animal_crackers(text):\n",
    "    # 띄어쓰기를 기준으로 글자 나누기\n",
    "    split_text = text.split()\n",
    "    \n",
    "    if split_text[0][0].upper() == split_text[1][0].upper():\n",
    "        return True\n",
    "    else:\n",
    "        return False"
   ]
  },
  {
   "cell_type": "code",
   "execution_count": 15,
   "metadata": {},
   "outputs": [
    {
     "data": {
      "text/plain": [
       "True"
      ]
     },
     "execution_count": 15,
     "metadata": {},
     "output_type": "execute_result"
    }
   ],
   "source": [
    "# Check\n",
    "animal_crackers('Levelheaded Llama')"
   ]
  },
  {
   "cell_type": "code",
   "execution_count": 16,
   "metadata": {
    "scrolled": true
   },
   "outputs": [
    {
     "data": {
      "text/plain": [
       "False"
      ]
     },
     "execution_count": 16,
     "metadata": {},
     "output_type": "execute_result"
    }
   ],
   "source": [
    "# Check\n",
    "animal_crackers('Crazy Kangaroo')"
   ]
  },
  {
   "cell_type": "code",
   "execution_count": 18,
   "metadata": {},
   "outputs": [
    {
     "data": {
      "text/plain": [
       "True"
      ]
     },
     "execution_count": 18,
     "metadata": {},
     "output_type": "execute_result"
    }
   ],
   "source": [
    "animal_crackers('crazy Cangaroo')"
   ]
  },
  {
   "cell_type": "markdown",
   "metadata": {},
   "source": [
    "#### MAKES TWENTY: Given two integers, return True if the sum of the integers is 20 *or* if one of the integers is 20. If not, return False\n",
    "\n",
    "    makes_twenty(20,10) --> True\n",
    "    makes_twenty(12,8) --> True\n",
    "    makes_twenty(2,3) --> False"
   ]
  },
  {
   "cell_type": "markdown",
   "metadata": {},
   "source": [
    "번역\n",
    "- 두 개의 정수가 주어지면 정수의 합이 20 이거나 정수 중 하나가 20이면 True를 반환합니다. 그렇지 않으면 False를 반환합니다 "
   ]
  },
  {
   "cell_type": "markdown",
   "metadata": {},
   "source": [
    "### 풀이에 필요할 것 같은 것  메모\n",
    "1. if문으로 2개의 인수 중 20이 있는 지 확인. 있다면 True\n",
    "2. 인수에 20이 없다면 sum() == 20  > True\n",
    "3. sum() != 20  >>> False"
   ]
  },
  {
   "cell_type": "code",
   "execution_count": 74,
   "metadata": {},
   "outputs": [],
   "source": [
    "# 첫 풀이\n",
    "def makes_twenty(n1,n2):\n",
    "    if n1 == 20 or n2 == 20:\n",
    "        return True\n",
    "    # 아래의 조건일 때 int' object is not iterable 에러 발생\n",
    "    #elif sum(n1,n2) == 20:\n",
    "    elif n1+n2 == 20:\n",
    "        return True\n",
    "    else:\n",
    "        return False\n",
    "    pass"
   ]
  },
  {
   "cell_type": "code",
   "execution_count": 19,
   "metadata": {},
   "outputs": [],
   "source": [
    "# 최종 결과\n",
    "def makes_twenty(n1,n2):\n",
    "    if n1 == 20 or n2 == 20:\n",
    "        return True\n",
    "    elif n1+n2 == 20:\n",
    "        return True\n",
    "    else:\n",
    "        return False\n",
    "    pass"
   ]
  },
  {
   "cell_type": "code",
   "execution_count": 20,
   "metadata": {},
   "outputs": [
    {
     "data": {
      "text/plain": [
       "True"
      ]
     },
     "execution_count": 20,
     "metadata": {},
     "output_type": "execute_result"
    }
   ],
   "source": [
    "# Check\n",
    "makes_twenty(20,10)"
   ]
  },
  {
   "cell_type": "code",
   "execution_count": 21,
   "metadata": {},
   "outputs": [
    {
     "data": {
      "text/plain": [
       "False"
      ]
     },
     "execution_count": 21,
     "metadata": {},
     "output_type": "execute_result"
    }
   ],
   "source": [
    "# Check\n",
    "makes_twenty(2,3)"
   ]
  },
  {
   "cell_type": "code",
   "execution_count": 22,
   "metadata": {},
   "outputs": [
    {
     "data": {
      "text/plain": [
       "True"
      ]
     },
     "execution_count": 22,
     "metadata": {},
     "output_type": "execute_result"
    }
   ],
   "source": [
    "makes_twenty(21,-1)"
   ]
  },
  {
   "cell_type": "markdown",
   "metadata": {},
   "source": [
    "---\n",
    "# LEVEL 1 PROBLEMS"
   ]
  },
  {
   "cell_type": "markdown",
   "metadata": {},
   "source": [
    "#### OLD MACDONALD: Write a function that capitalizes the first and fourth letters of a name\n",
    "     \n",
    "    old_macdonald('macdonald') --> MacDonald\n",
    "    \n",
    "Note: `'macdonald'.capitalize()` returns `'Macdonald'`"
   ]
  },
  {
   "cell_type": "markdown",
   "metadata": {},
   "source": [
    "번역\n",
    "- 이름의 첫 번째와 네 번째 문자를 대문자로 표시하는 함수 작성 "
   ]
  },
  {
   "cell_type": "markdown",
   "metadata": {},
   "source": [
    "### 풀이에 필요할 것 같은 것  메모\n",
    "0. capitalize() 함수를 사용해서 첫글자를 대문자로 바꿈 <br>\n",
    "~~name[3].upper() 사용해서 4번째 글자를 대문자로 바꿈~~ << 문자열은 요소 1개만 바꾸는게 안되서 취소<br><br>\n",
    "0. name.lower() 사용해서, 모든 글자를 소문자로 변경(글자 중간에 대문자가 있을수도 있으니)\n",
    "1. enumerate나 list()로 글자를 분리\n",
    "2. 1,4 번째 글자만 대문자로 변경\n",
    "3. join 함수를 사용해서 합친 다음에 출력?"
   ]
  },
  {
   "cell_type": "code",
   "execution_count": 126,
   "metadata": {},
   "outputs": [],
   "source": [
    "# 첫 풀이\n",
    "def old_macdonald(name):\n",
    "    # 모든 글자를 소문자로 변경\n",
    "    # result = name.lower()\n",
    "    \n",
    "    # 문자열을 리스트로 변경\n",
    "    result = list(name.lower())\n",
    "    \n",
    "    # 인덱스 0, 3 을 대문자로 변경\n",
    "    result[0] = result[0].upper()\n",
    "    result[3] = result[3].upper()\n",
    "    \n",
    "    # 리스트의 요소를 한글자로 합치기\n",
    "    result = \"\".join(result)\n",
    "    # 코드 작성 및 정상 동작 확인용 print 함수\n",
    "    print(result)\n",
    "    "
   ]
  },
  {
   "cell_type": "code",
   "execution_count": 23,
   "metadata": {},
   "outputs": [],
   "source": [
    "# 최종 결과\n",
    "# 매개변수명을 굳이 바꾸지 않아도 될 것 같아서 변경하지 않음.\n",
    "def old_macdonald(name):\n",
    "    name = list(name.lower())\n",
    "    \n",
    "    name[0] = name[0].upper()\n",
    "    name[3] = name[3].upper()\n",
    "    \n",
    "\n",
    "    name = \"\".join(name)\n",
    "    # 코드 작성 및 정상 동작 확인용 print 함수\n",
    "    return name\n",
    "    "
   ]
  },
  {
   "cell_type": "code",
   "execution_count": 24,
   "metadata": {},
   "outputs": [
    {
     "data": {
      "text/plain": [
       "'MacDonald'"
      ]
     },
     "execution_count": 24,
     "metadata": {},
     "output_type": "execute_result"
    }
   ],
   "source": [
    "# Check\n",
    "old_macdonald('macdOnaLD')"
   ]
  },
  {
   "cell_type": "code",
   "execution_count": 25,
   "metadata": {},
   "outputs": [
    {
     "data": {
      "text/plain": [
       "'AbcDawdaawdaw2'"
      ]
     },
     "execution_count": 25,
     "metadata": {},
     "output_type": "execute_result"
    }
   ],
   "source": [
    "old_macdonald('ABCDAWDAawdaw2')"
   ]
  },
  {
   "cell_type": "markdown",
   "metadata": {},
   "source": [
    "#### MASTER YODA: Given a sentence, return a sentence with the words reversed\n",
    "\n",
    "    master_yoda('I am home') --> 'home am I'\n",
    "    master_yoda('We are ready') --> 'ready are We'\n",
    "    \n",
    "Note: The .join() method may be useful here. The .join() method allows you to join together strings in a list with some connector string. For example, some uses of the .join() method:\n",
    "\n",
    "    >>> \"--\".join(['a','b','c'])\n",
    "    >>> 'a--b--c'\n",
    "\n",
    "This means if you had a list of words you wanted to turn back into a sentence, you could just join them with a single space string:\n",
    "\n",
    "    >>> \" \".join(['Hello','world'])\n",
    "    >>> \"Hello world\""
   ]
  },
  {
   "cell_type": "markdown",
   "metadata": {},
   "source": [
    "번역\n",
    "- 문장이 주어졌을 때, 단어가 거꾸로 된 문장을 반환 "
   ]
  },
  {
   "cell_type": "markdown",
   "metadata": {},
   "source": [
    "### 풀이에 필요할 것 같은 것  메모\n",
    "1. text.split() 함수 사용. 띄어쓰기를 기준으로 글자를 리스트로 분리\n",
    "2. 슬라이싱 [::-1]\n",
    "3. \" \".join() 함수 사용"
   ]
  },
  {
   "cell_type": "code",
   "execution_count": 3,
   "metadata": {},
   "outputs": [],
   "source": [
    "# 첫 풀이\n",
    "def master_yoda(text):\n",
    "    # 글자 나누기 + 리스트 화\n",
    "    text = text.split() \n",
    "    \n",
    "    # slice[::-1] 사용하여 역순으로 변경\n",
    "    text = text[::-1]\n",
    "    \n",
    "    # join으로 글자 합치기\n",
    "    text = \" \".join(text)\n",
    "    # 코드 작성 및 정상 동작 확인용 print 함수\n",
    "    \n",
    "    return text\n",
    "    #\n",
    "    #print(text)\n",
    "    "
   ]
  },
  {
   "cell_type": "code",
   "execution_count": 125,
   "metadata": {},
   "outputs": [],
   "source": [
    "# 최종 결과"
   ]
  },
  {
   "cell_type": "code",
   "execution_count": 4,
   "metadata": {},
   "outputs": [
    {
     "data": {
      "text/plain": [
       "'home am I'"
      ]
     },
     "execution_count": 4,
     "metadata": {},
     "output_type": "execute_result"
    }
   ],
   "source": [
    "# Check\n",
    "master_yoda('I am home')"
   ]
  },
  {
   "cell_type": "code",
   "execution_count": 5,
   "metadata": {},
   "outputs": [
    {
     "data": {
      "text/plain": [
       "'ready are We'"
      ]
     },
     "execution_count": 5,
     "metadata": {},
     "output_type": "execute_result"
    }
   ],
   "source": [
    "# Check\n",
    "master_yoda('We are ready')"
   ]
  },
  {
   "cell_type": "code",
   "execution_count": 6,
   "metadata": {},
   "outputs": [
    {
     "data": {
      "text/plain": [
       "'warcraft of world'"
      ]
     },
     "execution_count": 6,
     "metadata": {},
     "output_type": "execute_result"
    }
   ],
   "source": [
    "master_yoda('world of warcraft')"
   ]
  },
  {
   "cell_type": "markdown",
   "metadata": {},
   "source": [
    "#### ALMOST THERE: Given an integer n, return True if n is within 10 of either 100 or 200\n",
    "\n",
    "    almost_there(90) --> True\n",
    "    almost_there(104) --> True\n",
    "    almost_there(150) --> False\n",
    "    almost_there(209) --> True\n",
    "    \n",
    "NOTE: `abs(num)` returns the absolute value of a number"
   ]
  },
  {
   "cell_type": "markdown",
   "metadata": {},
   "source": [
    "번역\n",
    "- 정수 n이 주어지면 n이 100 또는 200 중 10 이내이면 True를 반환\n",
    "- `abs(num)` 숫자의 절대값을 반환합니다."
   ]
  },
  {
   "cell_type": "markdown",
   "metadata": {},
   "source": [
    "### 풀이에 필요할 것 같은 것  메모\n",
    "- 90 <= n <= 110 이거나, 190 <= n <= 210 이면 True\n",
    "- 그 외면 False\n",
    "\n",
    "0. abs(num) 사용할 필요가 있나?\n",
    "1. if문과  and 논리 연산자 사용\n",
    "\n"
   ]
  },
  {
   "cell_type": "code",
   "execution_count": 147,
   "metadata": {},
   "outputs": [],
   "source": [
    "# 첫 풀이\n",
    "def almost_there(n):\n",
    "    if n >= 90 and n <= 110:\n",
    "        return True\n",
    "    elif n >= 190 and n <= 210:\n",
    "        return True\n",
    "    else:\n",
    "        return False\n",
    "    "
   ]
  },
  {
   "cell_type": "code",
   "execution_count": 26,
   "metadata": {},
   "outputs": [],
   "source": [
    "# 최종 결과\n",
    "def almost_there(n):\n",
    "    # 마이너스를 입력해도 양의 정수로 취급할 필요가 있을까봐.\n",
    "    n = abs(n)\n",
    "    \n",
    "    if n >= 90 and n <= 110:\n",
    "        return True\n",
    "    elif n >= 190 and n <= 210:\n",
    "        return True\n",
    "    else:\n",
    "        return False"
   ]
  },
  {
   "cell_type": "code",
   "execution_count": 27,
   "metadata": {},
   "outputs": [
    {
     "data": {
      "text/plain": [
       "True"
      ]
     },
     "execution_count": 27,
     "metadata": {},
     "output_type": "execute_result"
    }
   ],
   "source": [
    "# Check\n",
    "almost_there(104)"
   ]
  },
  {
   "cell_type": "code",
   "execution_count": 28,
   "metadata": {},
   "outputs": [
    {
     "data": {
      "text/plain": [
       "False"
      ]
     },
     "execution_count": 28,
     "metadata": {},
     "output_type": "execute_result"
    }
   ],
   "source": [
    "# Check\n",
    "almost_there(150)"
   ]
  },
  {
   "cell_type": "code",
   "execution_count": 29,
   "metadata": {},
   "outputs": [
    {
     "data": {
      "text/plain": [
       "True"
      ]
     },
     "execution_count": 29,
     "metadata": {},
     "output_type": "execute_result"
    }
   ],
   "source": [
    "# Check\n",
    "almost_there(209)"
   ]
  },
  {
   "cell_type": "code",
   "execution_count": 31,
   "metadata": {},
   "outputs": [
    {
     "data": {
      "text/plain": [
       "True"
      ]
     },
     "execution_count": 31,
     "metadata": {},
     "output_type": "execute_result"
    }
   ],
   "source": [
    "almost_there(-99)"
   ]
  },
  {
   "cell_type": "markdown",
   "metadata": {},
   "source": [
    "---\n",
    "# LEVEL 2 PROBLEMS"
   ]
  },
  {
   "cell_type": "markdown",
   "metadata": {},
   "source": [
    "#### FIND 33: \n",
    "\n",
    "Given a list of ints, return True if the array contains a 3 next to a 3 somewhere.\n",
    "\n",
    "    has_33([1, 3, 3]) → True\n",
    "    has_33([1, 3, 1, 3]) → False\n",
    "    has_33([3, 1, 3]) → False"
   ]
  },
  {
   "cell_type": "markdown",
   "metadata": {},
   "source": [
    "번역\n",
    "- int 목록 내에 3이 연속으로 2번 있는 경우 True\n",
    "- 3이 2개가 있더라도 연속적이지 않으면 False"
   ]
  },
  {
   "cell_type": "markdown",
   "metadata": {},
   "source": [
    "1. 3을 먼저 찾고\n",
    "2. \"연속 3을 어떻게 구분하지?\"\n",
    "3. 정상적인 방법은 아닌 것 같지만 갑자기 든 생각. \n",
    "    - 리스트를 하나의 문자열로 합쳐서, 문자열 내에 33이 있으면 True 라고 해도 되지 않을까?"
   ]
  },
  {
   "cell_type": "code",
   "execution_count": 69,
   "metadata": {},
   "outputs": [],
   "source": [
    "# 첫 풀이 \n",
    "def has_33(nums_list):\n",
    "    #for num_3 in nums_list:\n",
    "    #    if num_3 == 3:\n",
    "    \n",
    "    \n",
    "    # 숫자 리스트를 1문장으로 합친다.\n",
    "    # 이 과정에서 map() 함수를 사용.\n",
    "    str_num = \"\".join(map(str,nums_list))\n",
    "\n",
    "    if \"33\" in str_num:\n",
    "        return True\n",
    "    else:\n",
    "        return False\n",
    "    \n",
    "    # 정상 동작 확인 & 결과 출력용\n",
    "    #print(str_num)"
   ]
  },
  {
   "cell_type": "code",
   "execution_count": 65,
   "metadata": {
    "scrolled": true
   },
   "outputs": [
    {
     "ename": "NameError",
     "evalue": "name 'str_num' is not defined",
     "output_type": "error",
     "traceback": [
      "\u001b[1;31m---------------------------------------------------------------------------\u001b[0m",
      "\u001b[1;31mNameError\u001b[0m                                 Traceback (most recent call last)",
      "Input \u001b[1;32mIn [65]\u001b[0m, in \u001b[0;36m<cell line: 1>\u001b[1;34m()\u001b[0m\n\u001b[1;32m----> 1\u001b[0m \u001b[38;5;28mtype\u001b[39m(\u001b[43mstr_num\u001b[49m)\n",
      "\u001b[1;31mNameError\u001b[0m: name 'str_num' is not defined"
     ]
    }
   ],
   "source": []
  },
  {
   "cell_type": "code",
   "execution_count": 70,
   "metadata": {},
   "outputs": [],
   "source": [
    "# Check\n",
    "has_33([1, 3, 3])"
   ]
  },
  {
   "cell_type": "code",
   "execution_count": 61,
   "metadata": {},
   "outputs": [
    {
     "data": {
      "text/plain": [
       "False"
      ]
     },
     "execution_count": 61,
     "metadata": {},
     "output_type": "execute_result"
    }
   ],
   "source": [
    "# Check\n",
    "has_33([1, 3, 1, 3])"
   ]
  },
  {
   "cell_type": "code",
   "execution_count": 62,
   "metadata": {},
   "outputs": [
    {
     "data": {
      "text/plain": [
       "False"
      ]
     },
     "execution_count": 62,
     "metadata": {},
     "output_type": "execute_result"
    }
   ],
   "source": [
    "# Check\n",
    "has_33([3, 1, 3])"
   ]
  },
  {
   "cell_type": "code",
   "execution_count": 68,
   "metadata": {},
   "outputs": [
    {
     "data": {
      "text/plain": [
       "True"
      ]
     },
     "execution_count": 68,
     "metadata": {},
     "output_type": "execute_result"
    }
   ],
   "source": [
    "has_33([3, 1, 3,2,4,2,1,45,3,3])"
   ]
  },
  {
   "cell_type": "markdown",
   "metadata": {},
   "source": [
    "#### PAPER DOLL: Given a string, return a string where for every character in the original there are three characters\n",
    "    paper_doll('Hello') --> 'HHHeeellllllooo'\n",
    "    paper_doll('Mississippi') --> 'MMMiiissssssiiippppppiii'"
   ]
  },
  {
   "cell_type": "markdown",
   "metadata": {},
   "source": [
    "번역\n",
    "- 문자열이 주어지면 원본의 모든 문자가 3번씩 출력되는 문자열 반환"
   ]
  },
  {
   "cell_type": "markdown",
   "metadata": {},
   "source": [
    "1. 문자열을 1글자씩 쪼개고\n",
    "2. 글자 * 3 과 같은 기능을 하는 함수(가 있다면) 사용\n",
    "3. 글자를 다시 합친다"
   ]
  },
  {
   "cell_type": "code",
   "execution_count": 205,
   "metadata": {},
   "outputs": [],
   "source": [
    "# 첫 풀이\n",
    "def paper_doll(text):\n",
    "    # 텍스트를 리스트로 만든다\n",
    "    text_list = list(text)\n",
    "    \n",
    "    # 삭제할듯? 리스트 내 요소의 수\n",
    "    len_num=len(text_list)\n",
    "    \n",
    "    # 빈 리스트 (여기에 3배한 글씨 추가)\n",
    "    empty_list = []\n",
    "    \n",
    "    # 인덱스의 글자 * 3 했을 때 글씨가 3번 나오는지 확인용.\n",
    "    #test1 = text_list[0]*3\n",
    "    \n",
    "    n=0\n",
    "    \n",
    "    # 인덱스 숫자가 5미만이면 동작\n",
    "    # len_num = 5\n",
    "    while  n < len_num:\n",
    "        # 인덱스 1번째 위치의 글자의 길이가 3보다 작으면 \n",
    "        #if len(text_list[0]) < 3:\n",
    "        if len(text_list[n]) < 3:\n",
    "            # 글자 3번 나오게 해서 늘려서 빈 리스트에 추가하고\n",
    "            empty_list.append(text_list[n]*3)\n",
    "            \n",
    "            # n + 1 한다. \n",
    "            n += 1\n",
    "    # n += 1을 처음에 여기에 넣었더니 메모리 에러가 발생하고 크롬이 죽어버렸다. \n",
    "    \n",
    "    \n",
    "    # 문자열을 하나로 합친다.\n",
    "    result = \"\".join(empty_list)\n",
    "    return result\n",
    "    \n",
    "    # 정상 동작 확인 & 결과 출력용\n",
    "    #print(result)\n",
    "    "
   ]
  },
  {
   "cell_type": "code",
   "execution_count": 32,
   "metadata": {},
   "outputs": [],
   "source": [
    "# 최종 결과\n",
    "def paper_doll(text):\n",
    "    text_list = list(text)\n",
    "    len_num=len(text_list)\n",
    "    empty_list = []\n",
    "    \n",
    "    n=0\n",
    "    \n",
    "    while  n < len_num:\n",
    "        if len(text_list[n]) < 3:\n",
    "            empty_list.append(text_list[n]*3)\n",
    "            \n",
    "            n += 1\n",
    "   \n",
    "    \n",
    "    result = \"\".join(empty_list)\n",
    "    return result"
   ]
  },
  {
   "cell_type": "code",
   "execution_count": 35,
   "metadata": {},
   "outputs": [
    {
     "data": {
      "text/plain": [
       "'HHHeeellllllooo'"
      ]
     },
     "execution_count": 35,
     "metadata": {},
     "output_type": "execute_result"
    }
   ],
   "source": [
    "# Check\n",
    "paper_doll('Hello')"
   ]
  },
  {
   "cell_type": "code",
   "execution_count": 34,
   "metadata": {},
   "outputs": [
    {
     "data": {
      "text/plain": [
       "'MMMiiissssssiiissssssiiippppppiii'"
      ]
     },
     "execution_count": 34,
     "metadata": {},
     "output_type": "execute_result"
    }
   ],
   "source": [
    "# Check\n",
    "paper_doll('Mississippi')"
   ]
  },
  {
   "cell_type": "code",
   "execution_count": 33,
   "metadata": {},
   "outputs": [
    {
     "data": {
      "text/plain": [
       "'aaappppppllleee'"
      ]
     },
     "execution_count": 33,
     "metadata": {},
     "output_type": "execute_result"
    }
   ],
   "source": [
    "paper_doll('apple')"
   ]
  },
  {
   "cell_type": "markdown",
   "metadata": {},
   "source": [
    "#### BLACKJACK: Given three integers between 1 and 11, if their sum is less than or equal to 21, return their sum. If their sum exceeds 21 *and* there's an eleven, reduce the total sum by 10. Finally, if the sum (even after adjustment) exceeds 21, return 'BUST'\n",
    "    blackjack(5,6,7) --> 18\n",
    "    blackjack(9,9,9) --> 'BUST'\n",
    "    blackjack(9,9,11) --> 19"
   ]
  },
  {
   "cell_type": "markdown",
   "metadata": {},
   "source": [
    "번역\n",
    "-  1에서 11 사이의 세 정수가 주어졌을 때 합이 21보다 작거나 같으면 합을 반환\n",
    "- 합이 21 을 초과 하고, 11이 있으면 총 합을 10으로 줄입니다.   <<<< 무슨 소리지?\n",
    "- 마지막으로 합(조정 후에도)이 21을 초과하면 'BUST'를 반환"
   ]
  },
  {
   "cell_type": "code",
   "execution_count": 36,
   "metadata": {},
   "outputs": [],
   "source": [
    "def blackjack(a,b,c):\n",
    "    sum_num = a+b+c\n",
    "    \n",
    "    if sum_num <= 21:\n",
    "        return sum_num\n",
    "    elif sum_num > 21:\n",
    "        if a == 11 or b == 11 or c == 11:\n",
    "            return sum_num-10\n",
    "        else:\n",
    "            return 'BUST'  \n",
    "    "
   ]
  },
  {
   "cell_type": "code",
   "execution_count": 37,
   "metadata": {},
   "outputs": [
    {
     "data": {
      "text/plain": [
       "18"
      ]
     },
     "execution_count": 37,
     "metadata": {},
     "output_type": "execute_result"
    }
   ],
   "source": [
    "# Check\n",
    "blackjack(5,6,7)"
   ]
  },
  {
   "cell_type": "code",
   "execution_count": 38,
   "metadata": {},
   "outputs": [
    {
     "data": {
      "text/plain": [
       "'BUST'"
      ]
     },
     "execution_count": 38,
     "metadata": {},
     "output_type": "execute_result"
    }
   ],
   "source": [
    "# Check\n",
    "blackjack(9,9,9)"
   ]
  },
  {
   "cell_type": "code",
   "execution_count": 39,
   "metadata": {},
   "outputs": [
    {
     "data": {
      "text/plain": [
       "19"
      ]
     },
     "execution_count": 39,
     "metadata": {},
     "output_type": "execute_result"
    }
   ],
   "source": [
    "# Check\n",
    "blackjack(9,9,11)"
   ]
  },
  {
   "cell_type": "code",
   "execution_count": 41,
   "metadata": {},
   "outputs": [
    {
     "data": {
      "text/plain": [
       "'BUST'"
      ]
     },
     "execution_count": 41,
     "metadata": {},
     "output_type": "execute_result"
    }
   ],
   "source": [
    "blackjack(10,10,10)"
   ]
  },
  {
   "cell_type": "markdown",
   "metadata": {},
   "source": [
    "# 풀지 못한 문제\n",
    "#### SUMMER OF '69: Return the sum of the numbers in the array, except ignore sections of numbers starting with a 6 and extending to the next 9 (every 6 will be followed by at least one 9). Return 0 for no numbers.\n",
    " \n",
    "    summer_69([1, 3, 5]) --> 9\n",
    "    summer_69([4, 5, 6, 7, 8, 9]) --> 9\n",
    "    summer_69([2, 1, 6, 9, 11]) --> 14"
   ]
  },
  {
   "cell_type": "markdown",
   "metadata": {},
   "source": [
    "번역\n",
    "- 배열의 요소를 합산하는 함수\n",
    "- 배열의 요소에 6과 9가 있다면 그 사이의 요소는 합산에서 제외\n",
    "- 6 뒤에는 적어도 하나의 9가 있음.\n",
    "- 숫자가 없으면 0을 반환. ¶"
   ]
  },
  {
   "cell_type": "code",
   "execution_count": null,
   "metadata": {
    "collapsed": true
   },
   "outputs": [],
   "source": [
    "def summer_69(arr):\n",
    "    pass"
   ]
  },
  {
   "cell_type": "code",
   "execution_count": null,
   "metadata": {
    "collapsed": true
   },
   "outputs": [],
   "source": [
    "# Check\n",
    "summer_69([1, 3, 5])"
   ]
  },
  {
   "cell_type": "code",
   "execution_count": null,
   "metadata": {
    "collapsed": true
   },
   "outputs": [],
   "source": [
    "# Check\n",
    "summer_69([4, 5, 6, 7, 8, 9])"
   ]
  },
  {
   "cell_type": "code",
   "execution_count": null,
   "metadata": {
    "collapsed": true
   },
   "outputs": [],
   "source": [
    "# Check\n",
    "summer_69([2, 1, 6, 9, 11])"
   ]
  },
  {
   "cell_type": "markdown",
   "metadata": {},
   "source": [
    "# CHALLENGING PROBLEMS (이건 나중에 풀어보자)"
   ]
  },
  {
   "cell_type": "markdown",
   "metadata": {},
   "source": [
    "#### SPY GAME: Write a function that takes in a list of integers and returns True if it contains 007 in order\n",
    "\n",
    "     spy_game([1,2,4,0,0,7,5]) --> True\n",
    "     spy_game([1,0,2,4,0,5,7]) --> True\n",
    "     spy_game([1,7,2,0,4,5,0]) --> False\n"
   ]
  },
  {
   "cell_type": "markdown",
   "metadata": {},
   "source": []
  },
  {
   "cell_type": "code",
   "execution_count": null,
   "metadata": {
    "collapsed": true
   },
   "outputs": [],
   "source": [
    "def spy_game(nums):\n",
    "    pass"
   ]
  },
  {
   "cell_type": "code",
   "execution_count": null,
   "metadata": {
    "collapsed": true
   },
   "outputs": [],
   "source": [
    "# Check\n",
    "spy_game([1,2,4,0,0,7,5])"
   ]
  },
  {
   "cell_type": "code",
   "execution_count": null,
   "metadata": {
    "collapsed": true
   },
   "outputs": [],
   "source": [
    "# Check\n",
    "spy_game([1,0,2,4,0,5,7])"
   ]
  },
  {
   "cell_type": "code",
   "execution_count": null,
   "metadata": {
    "collapsed": true
   },
   "outputs": [],
   "source": [
    "# Check\n",
    "spy_game([1,7,2,0,4,5,0])"
   ]
  },
  {
   "cell_type": "markdown",
   "metadata": {},
   "source": [
    "#### COUNT PRIMES: Write a function that returns the *number* of prime numbers that exist up to and including a given number\n",
    "    count_primes(100) --> 25\n",
    "\n",
    "By convention, 0 and 1 are not prime."
   ]
  },
  {
   "cell_type": "markdown",
   "metadata": {},
   "source": []
  },
  {
   "cell_type": "code",
   "execution_count": null,
   "metadata": {
    "collapsed": true
   },
   "outputs": [],
   "source": [
    "def count_primes(num):\n",
    "    pass\n",
    "                "
   ]
  },
  {
   "cell_type": "code",
   "execution_count": null,
   "metadata": {
    "collapsed": true
   },
   "outputs": [],
   "source": [
    "# Check\n",
    "count_primes(100)"
   ]
  },
  {
   "cell_type": "markdown",
   "metadata": {},
   "source": [
    "### Just for fun:\n",
    "#### PRINT BIG: Write a function that takes in a single letter, and returns a 5x5 representation of that letter\n",
    "    print_big('a')\n",
    "    \n",
    "    out:   *  \n",
    "          * *\n",
    "         *****\n",
    "         *   *\n",
    "         *   *\n",
    "HINT: Consider making a dictionary of possible patterns, and mapping the alphabet to specific 5-line combinations of patterns. <br>For purposes of this exercise, it's ok if your dictionary stops at \"E\"."
   ]
  },
  {
   "cell_type": "markdown",
   "metadata": {},
   "source": []
  },
  {
   "cell_type": "code",
   "execution_count": null,
   "metadata": {
    "collapsed": true
   },
   "outputs": [],
   "source": [
    "def print_big(letter):\n",
    "    pass"
   ]
  },
  {
   "cell_type": "code",
   "execution_count": null,
   "metadata": {
    "collapsed": true
   },
   "outputs": [],
   "source": [
    "print_big('a')"
   ]
  },
  {
   "cell_type": "markdown",
   "metadata": {},
   "source": [
    "## Great Job!"
   ]
  }
 ],
 "metadata": {
  "kernelspec": {
   "display_name": "Python 3 (ipykernel)",
   "language": "python",
   "name": "python3"
  },
  "language_info": {
   "codemirror_mode": {
    "name": "ipython",
    "version": 3
   },
   "file_extension": ".py",
   "mimetype": "text/x-python",
   "name": "python",
   "nbconvert_exporter": "python",
   "pygments_lexer": "ipython3",
   "version": "3.9.12"
  }
 },
 "nbformat": 4,
 "nbformat_minor": 2
}
