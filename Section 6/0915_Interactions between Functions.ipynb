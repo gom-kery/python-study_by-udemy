{
 "cells": [
  {
   "cell_type": "code",
   "execution_count": 1,
   "id": "1b659a34",
   "metadata": {},
   "outputs": [],
   "source": [
    "ex_list = [1,2,3,4,5,6,7,8,9]"
   ]
  },
  {
   "cell_type": "code",
   "execution_count": 2,
   "id": "ae322af9",
   "metadata": {},
   "outputs": [
    {
     "ename": "NameError",
     "evalue": "name 'random' is not defined",
     "output_type": "error",
     "traceback": [
      "\u001b[1;31m---------------------------------------------------------------------------\u001b[0m",
      "\u001b[1;31mNameError\u001b[0m                                 Traceback (most recent call last)",
      "Input \u001b[1;32mIn [2]\u001b[0m, in \u001b[0;36m<cell line: 1>\u001b[1;34m()\u001b[0m\n\u001b[1;32m----> 1\u001b[0m \u001b[43mrandom\u001b[49m()\n",
      "\u001b[1;31mNameError\u001b[0m: name 'random' is not defined"
     ]
    }
   ],
   "source": [
    "random()"
   ]
  },
  {
   "cell_type": "code",
   "execution_count": 3,
   "id": "8666ca44",
   "metadata": {},
   "outputs": [
    {
     "ename": "NameError",
     "evalue": "name 'shuffle' is not defined",
     "output_type": "error",
     "traceback": [
      "\u001b[1;31m---------------------------------------------------------------------------\u001b[0m",
      "\u001b[1;31mNameError\u001b[0m                                 Traceback (most recent call last)",
      "Input \u001b[1;32mIn [3]\u001b[0m, in \u001b[0;36m<cell line: 1>\u001b[1;34m()\u001b[0m\n\u001b[1;32m----> 1\u001b[0m \u001b[43mshuffle\u001b[49m(ex_list)\n",
      "\u001b[1;31mNameError\u001b[0m: name 'shuffle' is not defined"
     ]
    }
   ],
   "source": [
    "shuffle(ex_list)"
   ]
  },
  {
   "cell_type": "code",
   "execution_count": 4,
   "id": "79f75055",
   "metadata": {},
   "outputs": [
    {
     "ename": "NameError",
     "evalue": "name 'random' is not defined",
     "output_type": "error",
     "traceback": [
      "\u001b[1;31m---------------------------------------------------------------------------\u001b[0m",
      "\u001b[1;31mNameError\u001b[0m                                 Traceback (most recent call last)",
      "Input \u001b[1;32mIn [4]\u001b[0m, in \u001b[0;36m<cell line: 1>\u001b[1;34m()\u001b[0m\n\u001b[1;32m----> 1\u001b[0m \u001b[43mrandom\u001b[49m\u001b[38;5;241m.\u001b[39mshuffle()\n",
      "\u001b[1;31mNameError\u001b[0m: name 'random' is not defined"
     ]
    }
   ],
   "source": [
    "random.shuffle()"
   ]
  },
  {
   "cell_type": "markdown",
   "id": "775415fa",
   "metadata": {},
   "source": [
    "## shuffle 함수 import"
   ]
  },
  {
   "cell_type": "code",
   "execution_count": 5,
   "id": "e99501a9",
   "metadata": {},
   "outputs": [],
   "source": [
    "from random import shuffle"
   ]
  },
  {
   "cell_type": "code",
   "execution_count": 6,
   "id": "ce92c00c",
   "metadata": {},
   "outputs": [],
   "source": [
    "shuffle(ex_list)"
   ]
  },
  {
   "cell_type": "markdown",
   "id": "43f0dbfd",
   "metadata": {},
   "source": [
    "ex_list"
   ]
  },
  {
   "cell_type": "markdown",
   "id": "cab2deaf",
   "metadata": {},
   "source": [
    "### shuffle 함수는 결과 값으로 저장되지 않음"
   ]
  },
  {
   "cell_type": "code",
   "execution_count": 7,
   "id": "514e46ee",
   "metadata": {},
   "outputs": [
    {
     "name": "stdout",
     "output_type": "stream",
     "text": [
      "None\n"
     ]
    }
   ],
   "source": [
    "result = shuffle(ex_list)\n",
    "print(result)"
   ]
  },
  {
   "cell_type": "markdown",
   "id": "7d051ffe",
   "metadata": {},
   "source": [
    "### shuffle()의 결과를 저장할 수 있는 함수 만들기"
   ]
  },
  {
   "cell_type": "code",
   "execution_count": 8,
   "id": "ec1e5af6",
   "metadata": {},
   "outputs": [],
   "source": [
    "gamble = ['꽝','꽝','O','꽝']\n",
    "\n",
    "# 2\n",
    "def ball_mix(gamble):\n",
    "    shuffle(gamble)\n",
    "    return gamble"
   ]
  },
  {
   "cell_type": "code",
   "execution_count": 9,
   "id": "b2c04a6a",
   "metadata": {},
   "outputs": [
    {
     "data": {
      "text/plain": [
       "['꽝', 'O', '꽝', '꽝']"
      ]
     },
     "execution_count": 9,
     "metadata": {},
     "output_type": "execute_result"
    }
   ],
   "source": [
    "ball_mix(gamble)"
   ]
  },
  {
   "cell_type": "code",
   "execution_count": 10,
   "id": "1af7fa48",
   "metadata": {},
   "outputs": [
    {
     "data": {
      "text/plain": [
       "['꽝', '꽝', 'O', '꽝']"
      ]
     },
     "execution_count": 10,
     "metadata": {},
     "output_type": "execute_result"
    }
   ],
   "source": [
    "ball_mix(gamble)"
   ]
  },
  {
   "cell_type": "code",
   "execution_count": 11,
   "id": "98062613",
   "metadata": {},
   "outputs": [
    {
     "data": {
      "text/plain": [
       "['O', '꽝', '꽝', '꽝']"
      ]
     },
     "execution_count": 11,
     "metadata": {},
     "output_type": "execute_result"
    }
   ],
   "source": [
    "ball_mix(gamble)"
   ]
  },
  {
   "cell_type": "markdown",
   "id": "c8fe4e72",
   "metadata": {},
   "source": [
    "### 사용자가 선택할 수 있는 함수 만들기"
   ]
  },
  {
   "cell_type": "code",
   "execution_count": 12,
   "id": "c968679e",
   "metadata": {},
   "outputs": [],
   "source": [
    "def user_select():\n",
    "    \n",
    "    select = ''\n",
    "    \n",
    "    while select not in ['0','1','2','3']:\n",
    "        select = input('0~3 사이의 숫자를 입력하세요.: ')\n",
    "    \n",
    "    return int(select)"
   ]
  },
  {
   "cell_type": "code",
   "execution_count": 13,
   "id": "3613d0a1",
   "metadata": {},
   "outputs": [
    {
     "name": "stdout",
     "output_type": "stream",
     "text": [
      "0~3 사이의 숫자를 입력하세요.: 4\n",
      "0~3 사이의 숫자를 입력하세요.: 0\n"
     ]
    },
    {
     "data": {
      "text/plain": [
       "0"
      ]
     },
     "execution_count": 13,
     "metadata": {},
     "output_type": "execute_result"
    }
   ],
   "source": [
    "user_select()"
   ]
  },
  {
   "cell_type": "markdown",
   "id": "80c616ab",
   "metadata": {},
   "source": [
    "### 리스트 믹스 + 사용자 선택 > 결과 반환 하는 함수 만들기"
   ]
  },
  {
   "cell_type": "code",
   "execution_count": 14,
   "id": "e6bb595f",
   "metadata": {},
   "outputs": [],
   "source": [
    "def play_game(ball_mix,user_select):\n",
    "    if ball_mix[user_select] == 'O':\n",
    "        print('당첨입니다!!')\n",
    "    else:\n",
    "        print('아쉽네요')\n",
    "        print(f'공의 위치는 {ball_mix} 입니다')"
   ]
  },
  {
   "cell_type": "code",
   "execution_count": 18,
   "id": "c3389a54",
   "metadata": {},
   "outputs": [
    {
     "ename": "TypeError",
     "evalue": "play_game() missing 1 required positional argument: 'user_select'",
     "output_type": "error",
     "traceback": [
      "\u001b[1;31m---------------------------------------------------------------------------\u001b[0m",
      "\u001b[1;31mTypeError\u001b[0m                                 Traceback (most recent call last)",
      "Input \u001b[1;32mIn [18]\u001b[0m, in \u001b[0;36m<cell line: 1>\u001b[1;34m()\u001b[0m\n\u001b[1;32m----> 1\u001b[0m \u001b[43mplay_game\u001b[49m\u001b[43m(\u001b[49m\u001b[38;5;241;43m2\u001b[39;49m\u001b[43m)\u001b[49m\n",
      "\u001b[1;31mTypeError\u001b[0m: play_game() missing 1 required positional argument: 'user_select'"
     ]
    }
   ],
   "source": [
    "play_game(2)"
   ]
  },
  {
   "cell_type": "code",
   "execution_count": 19,
   "id": "d3fa411c",
   "metadata": {},
   "outputs": [
    {
     "ename": "TypeError",
     "evalue": "'int' object is not subscriptable",
     "output_type": "error",
     "traceback": [
      "\u001b[1;31m---------------------------------------------------------------------------\u001b[0m",
      "\u001b[1;31mTypeError\u001b[0m                                 Traceback (most recent call last)",
      "Input \u001b[1;32mIn [19]\u001b[0m, in \u001b[0;36m<cell line: 1>\u001b[1;34m()\u001b[0m\n\u001b[1;32m----> 1\u001b[0m \u001b[43mplay_game\u001b[49m\u001b[43m(\u001b[49m\u001b[38;5;241;43m0\u001b[39;49m\u001b[43m,\u001b[49m\u001b[38;5;241;43m3\u001b[39;49m\u001b[43m)\u001b[49m\n",
      "Input \u001b[1;32mIn [14]\u001b[0m, in \u001b[0;36mplay_game\u001b[1;34m(ball_mix, user_select)\u001b[0m\n\u001b[0;32m      1\u001b[0m \u001b[38;5;28;01mdef\u001b[39;00m \u001b[38;5;21mplay_game\u001b[39m(ball_mix,user_select):\n\u001b[1;32m----> 2\u001b[0m     \u001b[38;5;28;01mif\u001b[39;00m \u001b[43mball_mix\u001b[49m\u001b[43m[\u001b[49m\u001b[43muser_select\u001b[49m\u001b[43m]\u001b[49m \u001b[38;5;241m==\u001b[39m \u001b[38;5;124m'\u001b[39m\u001b[38;5;124mO\u001b[39m\u001b[38;5;124m'\u001b[39m:\n\u001b[0;32m      3\u001b[0m         \u001b[38;5;28mprint\u001b[39m(\u001b[38;5;124m'\u001b[39m\u001b[38;5;124m당첨입니다!!\u001b[39m\u001b[38;5;124m'\u001b[39m)\n\u001b[0;32m      4\u001b[0m     \u001b[38;5;28;01melse\u001b[39;00m:\n",
      "\u001b[1;31mTypeError\u001b[0m: 'int' object is not subscriptable"
     ]
    }
   ],
   "source": [
    "play_game(0,3)"
   ]
  },
  {
   "cell_type": "code",
   "execution_count": 21,
   "id": "91dadf70",
   "metadata": {},
   "outputs": [
    {
     "name": "stdout",
     "output_type": "stream",
     "text": [
      "0~3 사이의 숫자를 입력하세요.: -1\n",
      "0~3 사이의 숫자를 입력하세요.: 9\n",
      "0~3 사이의 숫자를 입력하세요.: 0\n",
      "아쉽네요\n",
      "공의 위치는 ['꽝', '꽝', 'O', '꽝'] 입니다\n"
     ]
    }
   ],
   "source": [
    "# Initial List\n",
    "gamble = ['꽝','꽝','O','꽝']\n",
    "\n",
    "# Shuffle List\n",
    "mixed_ball = ball_mix(gamble)\n",
    "\n",
    "# User Select\n",
    "selected_user = user_select()\n",
    "\n",
    "# Play game\n",
    "play_game(mixed_ball,selected_user)"
   ]
  },
  {
   "cell_type": "code",
   "execution_count": 23,
   "id": "3f532b2b",
   "metadata": {},
   "outputs": [
    {
     "name": "stdout",
     "output_type": "stream",
     "text": [
      "0~3 사이의 숫자를 입력하세요.: 3\n",
      "당첨입니다!!\n"
     ]
    }
   ],
   "source": [
    "# Initial List\n",
    "gamble = ['꽝','꽝','O','꽝']\n",
    "\n",
    "# Shuffle List\n",
    "mixed_ball = ball_mix(gamble)\n",
    "\n",
    "# User Select\n",
    "selected_user = user_select()\n",
    "\n",
    "# Play game\n",
    "play_game(mixed_ball,selected_user)"
   ]
  },
  {
   "cell_type": "code",
   "execution_count": null,
   "id": "5c69bf4d",
   "metadata": {},
   "outputs": [],
   "source": []
  }
 ],
 "metadata": {
  "kernelspec": {
   "display_name": "Python 3 (ipykernel)",
   "language": "python",
   "name": "python3"
  },
  "language_info": {
   "codemirror_mode": {
    "name": "ipython",
    "version": 3
   },
   "file_extension": ".py",
   "mimetype": "text/x-python",
   "name": "python",
   "nbconvert_exporter": "python",
   "pygments_lexer": "ipython3",
   "version": "3.9.12"
  }
 },
 "nbformat": 4,
 "nbformat_minor": 5
}
