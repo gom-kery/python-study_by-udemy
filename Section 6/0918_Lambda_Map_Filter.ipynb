{
 "cells": [
  {
   "cell_type": "markdown",
   "id": "ff7ec210",
   "metadata": {},
   "source": [
    "# map(func, *iterables)"
   ]
  },
  {
   "cell_type": "code",
   "execution_count": 1,
   "id": "7ba6036d",
   "metadata": {},
   "outputs": [],
   "source": [
    "# 제곱을 구하는 함수\n",
    "def squar_num(num):\n",
    "    return num**2"
   ]
  },
  {
   "cell_type": "code",
   "execution_count": 2,
   "id": "57f126e9",
   "metadata": {},
   "outputs": [],
   "source": [
    "a = [4,5,6]"
   ]
  },
  {
   "cell_type": "code",
   "execution_count": 3,
   "id": "27281d78",
   "metadata": {},
   "outputs": [
    {
     "name": "stdout",
     "output_type": "stream",
     "text": [
      "16\n",
      "25\n",
      "36\n"
     ]
    }
   ],
   "source": [
    "for item in map(squar_num,a):\n",
    "    print(item)"
   ]
  },
  {
   "cell_type": "code",
   "execution_count": 4,
   "id": "52a438d0",
   "metadata": {},
   "outputs": [
    {
     "data": {
      "text/plain": [
       "[16, 25, 36]"
      ]
     },
     "execution_count": 4,
     "metadata": {},
     "output_type": "execute_result"
    }
   ],
   "source": [
    "list(map(squar_num,a))"
   ]
  },
  {
   "cell_type": "code",
   "execution_count": null,
   "id": "e4f3d09d",
   "metadata": {},
   "outputs": [],
   "source": []
  },
  {
   "cell_type": "code",
   "execution_count": 29,
   "id": "0e841e01",
   "metadata": {},
   "outputs": [],
   "source": [
    "def len_word(mystr):\n",
    "    if len(mystr)%2 == 0:\n",
    "        return \"EVEN WORD\"\n",
    "    else:\n",
    "        return mystr[0]"
   ]
  },
  {
   "cell_type": "code",
   "execution_count": 30,
   "id": "04d06f94",
   "metadata": {},
   "outputs": [],
   "source": [
    "s = ['Thrall','Sylvanas','Jaina']"
   ]
  },
  {
   "cell_type": "code",
   "execution_count": 7,
   "id": "4e2e9464",
   "metadata": {},
   "outputs": [
    {
     "data": {
      "text/plain": [
       "'wow'"
      ]
     },
     "execution_count": 7,
     "metadata": {},
     "output_type": "execute_result"
    }
   ],
   "source": [
    "len_word(s)"
   ]
  },
  {
   "cell_type": "code",
   "execution_count": 31,
   "id": "1347b23d",
   "metadata": {
    "scrolled": true
   },
   "outputs": [
    {
     "data": {
      "text/plain": [
       "['EVEN WORD', 'EVEN WORD', 'J']"
      ]
     },
     "execution_count": 31,
     "metadata": {},
     "output_type": "execute_result"
    }
   ],
   "source": [
    "list(map(len_word, s))"
   ]
  },
  {
   "cell_type": "code",
   "execution_count": 9,
   "id": "fd69519c",
   "metadata": {
    "scrolled": true
   },
   "outputs": [
    {
     "ename": "TypeError",
     "evalue": "len_word() missing 1 required positional argument: 'mystr'",
     "output_type": "error",
     "traceback": [
      "\u001b[1;31m---------------------------------------------------------------------------\u001b[0m",
      "\u001b[1;31mTypeError\u001b[0m                                 Traceback (most recent call last)",
      "Input \u001b[1;32mIn [9]\u001b[0m, in \u001b[0;36m<cell line: 1>\u001b[1;34m()\u001b[0m\n\u001b[1;32m----> 1\u001b[0m \u001b[38;5;28mlist\u001b[39m(\u001b[38;5;28mmap\u001b[39m(\u001b[43mlen_word\u001b[49m\u001b[43m(\u001b[49m\u001b[43m)\u001b[49m, s))\n",
      "\u001b[1;31mTypeError\u001b[0m: len_word() missing 1 required positional argument: 'mystr'"
     ]
    }
   ],
   "source": [
    "list(map(len_word(), s))"
   ]
  },
  {
   "cell_type": "code",
   "execution_count": null,
   "id": "78d10ef1",
   "metadata": {},
   "outputs": [],
   "source": []
  },
  {
   "cell_type": "markdown",
   "id": "01a2ebd4",
   "metadata": {},
   "source": [
    "# filter(function or None, iterable)"
   ]
  },
  {
   "cell_type": "code",
   "execution_count": 12,
   "id": "01a900a5",
   "metadata": {},
   "outputs": [],
   "source": [
    "def check_odd(num1):\n",
    "    return num1%2 == 1"
   ]
  },
  {
   "cell_type": "code",
   "execution_count": 13,
   "id": "bdc0312e",
   "metadata": {},
   "outputs": [
    {
     "data": {
      "text/plain": [
       "[11, 13, 15]"
      ]
     },
     "execution_count": 13,
     "metadata": {},
     "output_type": "execute_result"
    }
   ],
   "source": [
    "n1 = [11,12,13,14,15]\n",
    "\n",
    "list(filter(check_odd,n1))"
   ]
  },
  {
   "cell_type": "code",
   "execution_count": null,
   "id": "1e64bf44",
   "metadata": {},
   "outputs": [],
   "source": []
  },
  {
   "cell_type": "markdown",
   "id": "d0ea8cc4",
   "metadata": {},
   "source": [
    "# Lambda"
   ]
  },
  {
   "cell_type": "code",
   "execution_count": 19,
   "id": "aa04ae33",
   "metadata": {},
   "outputs": [],
   "source": [
    "# 계산식과 결과(변수)가 있는 기초 함수\n",
    "def square(num):\n",
    "    result = num ** 3\n",
    "    return result"
   ]
  },
  {
   "cell_type": "code",
   "execution_count": 21,
   "id": "b0c4cbd4",
   "metadata": {},
   "outputs": [],
   "source": [
    "# 계산식과 결과(변수)가 있는 기초 함수\n",
    "def square(num):return num ** 3"
   ]
  },
  {
   "cell_type": "code",
   "execution_count": 22,
   "id": "d5cc5696",
   "metadata": {
    "scrolled": true
   },
   "outputs": [
    {
     "data": {
      "text/plain": [
       "125"
      ]
     },
     "execution_count": 22,
     "metadata": {},
     "output_type": "execute_result"
    }
   ],
   "source": [
    "square(5)"
   ]
  },
  {
   "cell_type": "code",
   "execution_count": 24,
   "id": "d9d962ea",
   "metadata": {},
   "outputs": [],
   "source": [
    "# lambda num : num **3\n",
    "result = lambda num : num **3"
   ]
  },
  {
   "cell_type": "code",
   "execution_count": 25,
   "id": "7f27ec16",
   "metadata": {},
   "outputs": [
    {
     "data": {
      "text/plain": [
       "512"
      ]
     },
     "execution_count": 25,
     "metadata": {},
     "output_type": "execute_result"
    }
   ],
   "source": [
    "result(8)"
   ]
  },
  {
   "cell_type": "code",
   "execution_count": 26,
   "id": "4473ac71",
   "metadata": {},
   "outputs": [
    {
     "data": {
      "text/plain": [
       "[16, 25, 36]"
      ]
     },
     "execution_count": 26,
     "metadata": {},
     "output_type": "execute_result"
    }
   ],
   "source": [
    "a = [4,5,6]\n",
    "list(map(lambda num:num**2,a))"
   ]
  },
  {
   "cell_type": "code",
   "execution_count": 27,
   "id": "c4c4acb1",
   "metadata": {},
   "outputs": [
    {
     "data": {
      "text/plain": [
       "[4, 6]"
      ]
     },
     "execution_count": 27,
     "metadata": {},
     "output_type": "execute_result"
    }
   ],
   "source": [
    "a = [4,5,6]\n",
    "\n",
    "list(filter(lambda my_num:my_num%2 == 0,a))"
   ]
  },
  {
   "cell_type": "code",
   "execution_count": 32,
   "id": "93c51747",
   "metadata": {},
   "outputs": [
    {
     "data": {
      "text/plain": [
       "['T', 'S', 'J']"
      ]
     },
     "execution_count": 32,
     "metadata": {},
     "output_type": "execute_result"
    }
   ],
   "source": [
    "names = ['Thrall','Sylvanas','Jaina']\n",
    "\n",
    "list(map(lambda n : n[0],names))"
   ]
  },
  {
   "cell_type": "code",
   "execution_count": 33,
   "id": "1440e10f",
   "metadata": {},
   "outputs": [
    {
     "data": {
      "text/plain": [
       "['llarhT', 'sanavlyS', 'aniaJ']"
      ]
     },
     "execution_count": 33,
     "metadata": {},
     "output_type": "execute_result"
    }
   ],
   "source": [
    "list(map(lambda n : n[::-1],names))"
   ]
  },
  {
   "cell_type": "code",
   "execution_count": null,
   "id": "37780c45",
   "metadata": {},
   "outputs": [],
   "source": []
  }
 ],
 "metadata": {
  "kernelspec": {
   "display_name": "Python 3 (ipykernel)",
   "language": "python",
   "name": "python3"
  },
  "language_info": {
   "codemirror_mode": {
    "name": "ipython",
    "version": 3
   },
   "file_extension": ".py",
   "mimetype": "text/x-python",
   "name": "python",
   "nbconvert_exporter": "python",
   "pygments_lexer": "ipython3",
   "version": "3.9.12"
  }
 },
 "nbformat": 4,
 "nbformat_minor": 5
}
