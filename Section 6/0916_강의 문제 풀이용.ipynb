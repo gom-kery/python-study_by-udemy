{
 "cells": [
  {
   "cell_type": "markdown",
   "id": "d0155369",
   "metadata": {},
   "source": [
    "## 문제<br>임의의 수의 인수를 받아 짝수인 인수만 포함 하는 목록 을 반환하는 myfunc 라는 함수를 정의"
   ]
  },
  {
   "cell_type": "code",
   "execution_count": 8,
   "id": "58beb33b",
   "metadata": {},
   "outputs": [],
   "source": [
    "def myfunc(*args):\n",
    "    even_list = ''\n",
    "    \n",
    "    for items in args:\n",
    "        if items % 2 == 0:\n",
    "            return even_list.append('items')\n",
    "        else:\n",
    "            pass\n",
    "    print(even_list)"
   ]
  },
  {
   "cell_type": "code",
   "execution_count": 10,
   "id": "35d2c87a",
   "metadata": {},
   "outputs": [
    {
     "ename": "AttributeError",
     "evalue": "'str' object has no attribute 'append'",
     "output_type": "error",
     "traceback": [
      "\u001b[1;31m---------------------------------------------------------------------------\u001b[0m",
      "\u001b[1;31mAttributeError\u001b[0m                            Traceback (most recent call last)",
      "Input \u001b[1;32mIn [10]\u001b[0m, in \u001b[0;36m<cell line: 1>\u001b[1;34m()\u001b[0m\n\u001b[1;32m----> 1\u001b[0m \u001b[43mmyfunc\u001b[49m\u001b[43m(\u001b[49m\u001b[38;5;241;43m1\u001b[39;49m\u001b[43m,\u001b[49m\u001b[38;5;241;43m2\u001b[39;49m\u001b[43m,\u001b[49m\u001b[38;5;241;43m3\u001b[39;49m\u001b[43m,\u001b[49m\u001b[38;5;241;43m4\u001b[39;49m\u001b[43m,\u001b[49m\u001b[38;5;241;43m5\u001b[39;49m\u001b[43m,\u001b[49m\u001b[38;5;241;43m6\u001b[39;49m\u001b[43m,\u001b[49m\u001b[38;5;241;43m76\u001b[39;49m\u001b[43m,\u001b[49m\u001b[38;5;241;43m7\u001b[39;49m\u001b[43m,\u001b[49m\u001b[38;5;241;43m10\u001b[39;49m\u001b[43m)\u001b[49m\n",
      "Input \u001b[1;32mIn [8]\u001b[0m, in \u001b[0;36mmyfunc\u001b[1;34m(*args)\u001b[0m\n\u001b[0;32m      4\u001b[0m \u001b[38;5;28;01mfor\u001b[39;00m items \u001b[38;5;129;01min\u001b[39;00m args:\n\u001b[0;32m      5\u001b[0m     \u001b[38;5;28;01mif\u001b[39;00m items \u001b[38;5;241m%\u001b[39m \u001b[38;5;241m2\u001b[39m \u001b[38;5;241m==\u001b[39m \u001b[38;5;241m0\u001b[39m:\n\u001b[1;32m----> 6\u001b[0m         \u001b[38;5;28;01mreturn\u001b[39;00m \u001b[43meven_list\u001b[49m\u001b[38;5;241;43m.\u001b[39;49m\u001b[43mappend\u001b[49m(items)\n\u001b[0;32m      7\u001b[0m     \u001b[38;5;28;01melse\u001b[39;00m:\n\u001b[0;32m      8\u001b[0m         \u001b[38;5;28;01mpass\u001b[39;00m\n",
      "\u001b[1;31mAttributeError\u001b[0m: 'str' object has no attribute 'append'"
     ]
    }
   ],
   "source": [
    "myfunc(1,2,3,4,5,6,76,7,10)"
   ]
  },
  {
   "cell_type": "markdown",
   "id": "ccf47a84",
   "metadata": {},
   "source": [
    "'str' object has no attribute 'append' 에러가 발생되어 <br>\n",
    "even_list를 '' 로 만든 것이 잘못된 것을 알고 []로 수정했다"
   ]
  },
  {
   "cell_type": "code",
   "execution_count": 12,
   "id": "de586ea4",
   "metadata": {},
   "outputs": [],
   "source": [
    "def myfunc(*args):\n",
    "    even_list = []\n",
    "    \n",
    "    for items in args:\n",
    "        if items % 2 == 0:\n",
    "            return even_list.append(items)\n",
    "        else:\n",
    "            pass\n",
    "    print(even_list)"
   ]
  },
  {
   "cell_type": "code",
   "execution_count": 13,
   "id": "5f2c05fc",
   "metadata": {},
   "outputs": [],
   "source": [
    "myfunc(1,2,3,4,5,6,76,7,10)"
   ]
  },
  {
   "cell_type": "markdown",
   "id": "f94896cc",
   "metadata": {},
   "source": [
    "myfunc() 함수를 실행해도 결과가 출력되지 않는다. <br>\n",
    "이전에 공부하면서 작성했던 글을 보고 원인을 알았다.<br>\n",
    "<br>\n",
    "return의 위치! "
   ]
  },
  {
   "cell_type": "markdown",
   "id": "75fcffb6",
   "metadata": {},
   "source": [
    "### 제대로 풀은 답안"
   ]
  },
  {
   "cell_type": "code",
   "execution_count": 14,
   "id": "0a071456",
   "metadata": {},
   "outputs": [],
   "source": [
    "def myfunc(*args):\n",
    "    even_list = []\n",
    "    \n",
    "    for even_num in args:\n",
    "        if even_num % 2 == 0:\n",
    "            even_list.append(even_num)\n",
    "        else:\n",
    "            pass\n",
    "    return(even_list)"
   ]
  },
  {
   "cell_type": "code",
   "execution_count": 15,
   "id": "7dfb89ef",
   "metadata": {},
   "outputs": [
    {
     "data": {
      "text/plain": [
       "[2, 4, 6, 76, 10]"
      ]
     },
     "execution_count": 15,
     "metadata": {},
     "output_type": "execute_result"
    }
   ],
   "source": [
    "myfunc(1,2,3,4,5,6,76,7,10)"
   ]
  },
  {
   "cell_type": "markdown",
   "id": "ddb5dd5e",
   "metadata": {},
   "source": [
    "# 문제<br>단어를 입력받아 홀수번째 글자가 소문자, 짝수번째 글자가 대문자로 출력"
   ]
  },
  {
   "cell_type": "markdown",
   "id": "f290deef",
   "metadata": {},
   "source": [
    "## 1. 우선 문자열 생성"
   ]
  },
  {
   "cell_type": "code",
   "execution_count": 1,
   "id": "bcd73cd4",
   "metadata": {},
   "outputs": [],
   "source": [
    "str_word = 'PenPineappleApplePen'"
   ]
  },
  {
   "cell_type": "markdown",
   "id": "a918b503",
   "metadata": {},
   "source": [
    "## 2. enumertate와 언패킹을 사용하여<br>인덱스 숫자와 그 자리에 맞는 글자 분리"
   ]
  },
  {
   "cell_type": "code",
   "execution_count": 28,
   "id": "7d631c2d",
   "metadata": {},
   "outputs": [
    {
     "name": "stdout",
     "output_type": "stream",
     "text": [
      "0 P\n",
      "1 e\n",
      "2 n\n",
      "3 P\n",
      "4 i\n",
      "5 n\n",
      "6 e\n",
      "7 a\n",
      "8 p\n",
      "9 p\n",
      "10 l\n",
      "11 e\n",
      "12 A\n",
      "13 p\n",
      "14 p\n",
      "15 l\n",
      "16 e\n",
      "17 P\n",
      "18 e\n",
      "19 n\n"
     ]
    }
   ],
   "source": [
    "for num,items in enumerate(str_word):\n",
    "    print(num,items)"
   ]
  },
  {
   "cell_type": "markdown",
   "id": "ab67acee",
   "metadata": {},
   "source": [
    "## 3. 빈 리스트를 생성한 뒤 for문과 if문을 사용하여<br>인덱스 숫자가 짝수면 해당 인덱스에 위치한 글자를 대문자로<br>인덱스 숫자가 홀수면 해당 인덱스에 위치한 글자를 소문자로 변경한 뒤<br>빈리스트에 append 시킴."
   ]
  },
  {
   "cell_type": "markdown",
   "id": "cae89084",
   "metadata": {},
   "source": [
    "## 이 과정에서 구글링을 통해<br>리스트의 요소인 문자열들을 합치는 join() 메소드에 대해서 알게됨.\n",
    "근데 왜인지 합쳐지지 않음."
   ]
  },
  {
   "cell_type": "code",
   "execution_count": 46,
   "id": "4765fbb0",
   "metadata": {},
   "outputs": [
    {
     "name": "stdout",
     "output_type": "stream",
     "text": [
      "['p', 'E', 'n', 'P', 'i', 'N', 'e', 'A', 'p', 'P', 'l', 'E', 'a', 'P', 'p', 'L', 'e', 'P', 'e', 'N']\n"
     ]
    }
   ],
   "source": [
    "output = []\n",
    "for num,items in enumerate(str_word):\n",
    "    if num % 2 == 0:\n",
    "        output.append(items.lower())\n",
    "#        print(list(output))\n",
    "    else:\n",
    "        output.append(items.upper())\n",
    "final_output = \"\".join(output)\n",
    "print(output)"
   ]
  },
  {
   "cell_type": "markdown",
   "id": "507a56e7",
   "metadata": {},
   "source": [
    "## 4. 우선 (3)에서 홀수/짝수 번째 글자가 소문자/대문자로 <br>출력되는 것을 확인했으니 함수화 시킴"
   ]
  },
  {
   "cell_type": "markdown",
   "id": "10361cc1",
   "metadata": {},
   "source": [
    "## 그리고 (3)에서 print 를 return으로 변경하고<br> join()메소드를 입력"
   ]
  },
  {
   "cell_type": "code",
   "execution_count": 2,
   "id": "01babccc",
   "metadata": {},
   "outputs": [],
   "source": [
    "def upper_lower(str):\n",
    "    word_output = []\n",
    "    \n",
    "    for num,items in enumerate(str):\n",
    "        if num % 2 == 0:\n",
    "            word_output.append(items.lower())\n",
    "\n",
    "        else:\n",
    "            word_output.append(items.upper())\n",
    "    return \"\".join(word_output)"
   ]
  },
  {
   "cell_type": "markdown",
   "id": "27e001c3",
   "metadata": {},
   "source": [
    "## 그리고 뽜이널리 결과물이 나옴..\n",
    "솔직히 처음에 문제를 봤을 때, 어려워서 포기하고 내일해야지 하려다가 오기가 생겨서<br>\n",
    "작은 단위부터 나눠서 하다보니 되었음... 오히려 포기했으면 그게 더 억울했을듯함"
   ]
  },
  {
   "cell_type": "code",
   "execution_count": 3,
   "id": "3641bc39",
   "metadata": {},
   "outputs": [
    {
     "data": {
      "text/plain": [
       "'pEnPiNeApPlEaPpLePeN'"
      ]
     },
     "execution_count": 3,
     "metadata": {},
     "output_type": "execute_result"
    }
   ],
   "source": [
    "upper_lower(str_word)"
   ]
  },
  {
   "cell_type": "markdown",
   "id": "ee0d963a",
   "metadata": {},
   "source": [
    "그럼 요걸 텍스트를 입력받아서 결과물을 바꾸는걸로 해보자"
   ]
  },
  {
   "cell_type": "code",
   "execution_count": 12,
   "id": "f6d025d1",
   "metadata": {},
   "outputs": [],
   "source": [
    "def upper_lower():\n",
    "    str = input('영어로된 문자열을 입력해주세요 :')\n",
    "        \n",
    "    word_output = []\n",
    "    \n",
    "    for num,items in enumerate(str):\n",
    "        if num % 2 == 0:\n",
    "            word_output.append(items.lower())\n",
    "\n",
    "        else:\n",
    "            word_output.append(items.upper())\n",
    "    return \"\".join(word_output)"
   ]
  },
  {
   "cell_type": "code",
   "execution_count": 15,
   "id": "48ac9364",
   "metadata": {},
   "outputs": [
    {
     "name": "stdout",
     "output_type": "stream",
     "text": [
      "영어로된 문자열을 입력해주세요 :worldofworcraft\n"
     ]
    },
    {
     "data": {
      "text/plain": [
       "'wOrLdOfWoRcRaFt'"
      ]
     },
     "execution_count": 15,
     "metadata": {},
     "output_type": "execute_result"
    }
   ],
   "source": [
    "upper_lower()"
   ]
  },
  {
   "cell_type": "markdown",
   "id": "aa165cbe",
   "metadata": {},
   "source": [
    "# 최종 목표 : <br>한글과 숫자를 입력하면 영어를 입력할 때까지 input창이 나오게 하는 것"
   ]
  },
  {
   "cell_type": "code",
   "execution_count": null,
   "id": "b5f69e4a",
   "metadata": {},
   "outputs": [],
   "source": []
  }
 ],
 "metadata": {
  "kernelspec": {
   "display_name": "Python 3 (ipykernel)",
   "language": "python",
   "name": "python3"
  },
  "language_info": {
   "codemirror_mode": {
    "name": "ipython",
    "version": 3
   },
   "file_extension": ".py",
   "mimetype": "text/x-python",
   "name": "python",
   "nbconvert_exporter": "python",
   "pygments_lexer": "ipython3",
   "version": "3.9.12"
  }
 },
 "nbformat": 4,
 "nbformat_minor": 5
}
