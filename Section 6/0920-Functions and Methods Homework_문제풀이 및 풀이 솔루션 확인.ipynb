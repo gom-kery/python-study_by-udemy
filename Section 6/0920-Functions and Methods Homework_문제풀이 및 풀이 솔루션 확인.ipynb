{
 "cells": [
  {
   "cell_type": "markdown",
   "metadata": {},
   "source": [
    "___\n",
    "\n",
    "<a href='https://www.udemy.com/user/joseportilla/'><img src='../Pierian_Data_Logo.png'/></a>\n",
    "___\n",
    "<center><em>Content Copyright by Pierian Data</em></center>"
   ]
  },
  {
   "cell_type": "markdown",
   "metadata": {},
   "source": [
    "# Functions and Methods Homework \n",
    "\n",
    "Complete the following questions:\n",
    "____\n",
    "**Write a function that computes the volume of a sphere given its radius.**\n",
    "<p>The volume of a sphere is given as $$\\frac{4}{3} πr^3$$</p>"
   ]
  },
  {
   "cell_type": "markdown",
   "metadata": {},
   "source": [
    "# 강사의 풀이 솔루션"
   ]
  },
  {
   "cell_type": "code",
   "execution_count": 59,
   "metadata": {},
   "outputs": [],
   "source": [
    "def vol(rad):\n",
    "    return (4/3)*(3.14)*(rad**3)"
   ]
  },
  {
   "cell_type": "markdown",
   "metadata": {},
   "source": [
    "## 번역 :\n",
    "- 주어진 반지름으로 구의 부피를 계산하는 함수 정의"
   ]
  },
  {
   "cell_type": "code",
   "execution_count": 58,
   "metadata": {},
   "outputs": [],
   "source": [
    "def vol(rad):\n",
    "    return (rad**3)*(4 / 3) * 3.14"
   ]
  },
  {
   "cell_type": "code",
   "execution_count": 2,
   "metadata": {
    "scrolled": true
   },
   "outputs": [
    {
     "data": {
      "text/plain": [
       "33.49333333333333"
      ]
     },
     "execution_count": 2,
     "metadata": {},
     "output_type": "execute_result"
    }
   ],
   "source": [
    "# Check\n",
    "vol(2)"
   ]
  },
  {
   "cell_type": "markdown",
   "metadata": {},
   "source": [
    "___\n",
    "**Write a function that checks whether a number is in a given range (inclusive of high and low)**"
   ]
  },
  {
   "cell_type": "markdown",
   "metadata": {},
   "source": [
    "# 강사의 풀이 솔루션"
   ]
  },
  {
   "cell_type": "code",
   "execution_count": 60,
   "metadata": {},
   "outputs": [],
   "source": [
    "def range_check(num,low,high):\n",
    "    if num in range(low,high+1):\n",
    "        print(f'{num} is the range between {low} and {high}')\n",
    "        "
   ]
  },
  {
   "cell_type": "code",
   "execution_count": null,
   "metadata": {},
   "outputs": [],
   "source": [
    "def range_check(num,low,high):\n",
    "    return num in range(low,high+1)"
   ]
  },
  {
   "cell_type": "markdown",
   "metadata": {},
   "source": [
    "## 번역 :\n",
    "- 인자1, low, high를 넣었을 때, 인자가 low-high 범위 안에 있는 지 확인하는 함수 정의"
   ]
  },
  {
   "cell_type": "code",
   "execution_count": 10,
   "metadata": {},
   "outputs": [],
   "source": [
    "def ran_check(num,low,high):\n",
    "    if low < num and num < high:\n",
    "        print(f'{num} is the range between {low} and {high}')\n",
    "    else:\n",
    "        print(f'{num} is not the range between {low} and {high}')"
   ]
  },
  {
   "cell_type": "code",
   "execution_count": 14,
   "metadata": {},
   "outputs": [
    {
     "name": "stdout",
     "output_type": "stream",
     "text": [
      "7 is the range between 6 and 9\n"
     ]
    }
   ],
   "source": [
    "# Check\n",
    "ran_check(7,6,9)"
   ]
  },
  {
   "cell_type": "markdown",
   "metadata": {},
   "source": [
    "If you only wanted to return a boolean:"
   ]
  },
  {
   "cell_type": "code",
   "execution_count": 15,
   "metadata": {},
   "outputs": [],
   "source": [
    "def ran_bool(num,low,high):\n",
    "    if low < num and num < high:\n",
    "        return True\n",
    "    else:\n",
    "        return False"
   ]
  },
  {
   "cell_type": "code",
   "execution_count": 17,
   "metadata": {},
   "outputs": [
    {
     "data": {
      "text/plain": [
       "False"
      ]
     },
     "execution_count": 17,
     "metadata": {},
     "output_type": "execute_result"
    }
   ],
   "source": [
    "ran_bool(5,6,10)"
   ]
  },
  {
   "cell_type": "markdown",
   "metadata": {},
   "source": [
    "____\n",
    "**Write a Python function that accepts a string and calculates the number of upper case letters and lower case letters.**\n",
    "\n",
    "    Sample String : 'Hello Mr. Rogers, how are you this fine Tuesday?'\n",
    "    Expected Output : \n",
    "    No. of Upper case characters : 4\n",
    "    No. of Lower case Characters : 33\n",
    "\n",
    "HINT: Two string methods that might prove useful: **.isupper()** and **.islower()**\n",
    "\n",
    "If you feel ambitious, explore the Collections module to solve this problem!"
   ]
  },
  {
   "cell_type": "markdown",
   "metadata": {},
   "source": [
    "# 강사의 풀이 솔루션"
   ]
  },
  {
   "cell_type": "code",
   "execution_count": 63,
   "metadata": {},
   "outputs": [],
   "source": [
    "def up_low(s):\n",
    "    \n",
    "    up_count = 0\n",
    "    low_count = 0\n",
    "    \n",
    "    for items in s:\n",
    "        #print(list_s)\n",
    "        \n",
    "        if items.isupper():\n",
    "            up_count += 1\n",
    "        elif items.islower():\n",
    "            low_count += 1\n",
    "            \n",
    "        else:\n",
    "            pass\n",
    "            \n",
    "    print(f'No. of Upper case characters : {up_count}')\n",
    "    print(f'No. of lower case characters : {low_count}')    "
   ]
  },
  {
   "cell_type": "code",
   "execution_count": 65,
   "metadata": {},
   "outputs": [],
   "source": [
    "# 딕셔너리 사용 방법\n",
    "def up_low(s):\n",
    "    \n",
    "    d = {'upper':0,'lower':0}\n",
    "    \n",
    "    for items in s:\n",
    "        #print(list_s)\n",
    "        \n",
    "        if items.isupper():\n",
    "            d['upper'] += 1\n",
    "        elif items.islower():\n",
    "            d['lower'] += 1\n",
    "            \n",
    "        else:\n",
    "            pass\n",
    "            \n",
    "    print(f'No. of Upper case characters : {d[\"upper\"]}')\n",
    "    print(f'No. of lower case characters : {d[\"lower\"]}')    "
   ]
  },
  {
   "cell_type": "markdown",
   "metadata": {},
   "source": [
    "## 번역 :\n",
    "- 문자열을 받아와서 대문자와 소문자의 개수를 계산하는 함수 정의"
   ]
  },
  {
   "cell_type": "code",
   "execution_count": null,
   "metadata": {},
   "outputs": [],
   "source": [
    "def up_low(s):\n",
    "    \n",
    "    #list_s = list(s)\n",
    "    \n",
    "    #print(list_s)\n",
    "    up_item = []\n",
    "    low_item = []\n",
    "    \n",
    "    add = True\n",
    "    \n",
    "    for items in s:\n",
    "        #print(list_s)\n",
    "        \n",
    "        while add:\n",
    "            if items.isupper() == True:\n",
    "                up_item.append(items)\n",
    "                break\n",
    "            else:\n",
    "                add = False\n",
    "        \n",
    "        while not add:\n",
    "            if items.islower() == True:\n",
    "                low_item.append(items)\n",
    "            else:\n",
    "                add = True\n",
    "                break\n",
    "    print(len(up_item))\n",
    "    print(len(low_item))\n",
    "    "
   ]
  },
  {
   "cell_type": "code",
   "execution_count": 16,
   "metadata": {},
   "outputs": [],
   "source": [
    "def up_low(s):\n",
    "    list_s = list(s)\n",
    "\n",
    "    #print(list_s)\n",
    " \n",
    "    up_count = 0\n",
    "    low_count = 0\n",
    "    \n",
    "    for items in list_s:\n",
    "        #print(list_s)\n",
    "        \n",
    "        if items.isupper() == True:\n",
    "            up_count += 1\n",
    "            \n",
    "        else:\n",
    "            low_count += 1\n",
    "    print(f'No. of Upper case characters : {up_count}')\n",
    "    print(f'No. of lower case characters : {low_count}')    \n",
    "\n",
    "    "
   ]
  },
  {
   "cell_type": "markdown",
   "metadata": {},
   "source": [
    "1. S를 리스트 화\n",
    "2. 리스트의 각 요소를 .isupper()==True / .islower() == False 로 구분\n",
    "3. True면 up_count +1\n",
    "4. False면 low_count +1\n",
    "5. 다만, 띄어쓰기와 특수문자는 어떻게 제거해야하는가<br>\n",
    "    문제풀이 솔루션 확인 결과 >> if에 upper / elif에 lower / else에 띄어쓰기와 특수문자를 처리"
   ]
  },
  {
   "cell_type": "code",
   "execution_count": 66,
   "metadata": {},
   "outputs": [
    {
     "name": "stdout",
     "output_type": "stream",
     "text": [
      "No. of Upper case characters : 4\n",
      "No. of lower case characters : 33\n"
     ]
    }
   ],
   "source": [
    "s = 'Hello Mr. Rogers, how are you this fine Tuesday?'\n",
    "up_low(s)\n"
   ]
  },
  {
   "cell_type": "markdown",
   "metadata": {},
   "source": [
    "____\n",
    "**Write a Python function that takes a list and returns a new list with unique elements of the first list.**\n",
    "\n",
    "    Sample List : [1,1,1,1,2,2,3,3,3,3,4,5]\n",
    "    Unique List : [1, 2, 3, 4, 5]"
   ]
  },
  {
   "cell_type": "markdown",
   "metadata": {},
   "source": [
    "# 강사의 풀이 솔루션"
   ]
  },
  {
   "cell_type": "code",
   "execution_count": 67,
   "metadata": {},
   "outputs": [],
   "source": [
    "def unique_list(lst):\n",
    "    \n",
    "    result_list = []\n",
    "    \n",
    "    for ul in lst:\n",
    "        if ul not in result_list:\n",
    "            result_list.append(ul)\n",
    "\n",
    "    return result_list"
   ]
  },
  {
   "cell_type": "markdown",
   "metadata": {},
   "source": [
    "## 번역 :\n",
    "- 리스트를 가져와서 첫번째 리스트에 있는 고유한 값을 가진 리스트를 반환하는 함수 정의"
   ]
  },
  {
   "cell_type": "code",
   "execution_count": 50,
   "metadata": {},
   "outputs": [],
   "source": [
    "def unique_list(lst):\n",
    "    i = 0\n",
    "    result_list = []\n",
    "    \n",
    "    #for ul in lst:\n",
    "    if i < len(lst)-1:\n",
    "        if lst[i] == lst[i+1] :\n",
    "            pass\n",
    "            \n",
    "        else:\n",
    "            result_list.append(lst[i])\n",
    "        \n",
    "        i += 1\n",
    "    return result_list"
   ]
  },
  {
   "cell_type": "code",
   "execution_count": 56,
   "metadata": {},
   "outputs": [],
   "source": []
  },
  {
   "cell_type": "code",
   "execution_count": 68,
   "metadata": {},
   "outputs": [
    {
     "data": {
      "text/plain": [
       "[1, 2, 3, 4, 5]"
      ]
     },
     "execution_count": 68,
     "metadata": {},
     "output_type": "execute_result"
    }
   ],
   "source": [
    "unique_list([1,1,1,1,2,2,3,3,3,3,4,5])"
   ]
  },
  {
   "cell_type": "markdown",
   "metadata": {},
   "source": [
    "____\n",
    "**Write a Python function to multiply all the numbers in a list.**\n",
    "\n",
    "    Sample List : [1, 2, 3, -4]\n",
    "    Expected Output : -24"
   ]
  },
  {
   "cell_type": "markdown",
   "metadata": {},
   "source": [
    "# 강사의 풀이 솔루션"
   ]
  },
  {
   "cell_type": "code",
   "execution_count": null,
   "metadata": {},
   "outputs": [],
   "source": [
    "def multiply(numbers):\n",
    "    total = 1\n",
    "    \n",
    "    for num in numbers:\n",
    "        total = total * num\n",
    "\n",
    "    return total"
   ]
  },
  {
   "cell_type": "markdown",
   "metadata": {},
   "source": [
    "## 번역 :\n",
    "- 리스트 안에 있는 모든 숫자를 곱하는 함수 정의"
   ]
  },
  {
   "cell_type": "code",
   "execution_count": 38,
   "metadata": {},
   "outputs": [],
   "source": [
    "def multiply(numbers):  \n",
    "    i = 0\n",
    "    result = numbers[i]\n",
    "    \n",
    "    for item in numbers:\n",
    "        if i < len(numbers):\n",
    "            result = result * numbers[i]\n",
    "            i += 1\n",
    "        \n",
    "    return result"
   ]
  },
  {
   "cell_type": "code",
   "execution_count": 42,
   "metadata": {},
   "outputs": [
    {
     "data": {
      "text/plain": [
       "6480"
      ]
     },
     "execution_count": 42,
     "metadata": {},
     "output_type": "execute_result"
    }
   ],
   "source": [
    "multiply([1,1,1,1,2,2,3,3,3,3,4,5])"
   ]
  },
  {
   "cell_type": "markdown",
   "metadata": {},
   "source": [
    "____\n",
    "**Write a Python function that checks whether a word or phrase is palindrome or not.**\n",
    "\n",
    "Note: A palindrome is word, phrase, or sequence that reads the same backward as forward, e.g., madam,kayak,racecar, or a phrase \"nurses run\". Hint: You may want to check out the .replace() method in a string to help out with dealing with spaces. Also google search how to reverse a string in Python, there are some clever ways to do it with slicing notation."
   ]
  },
  {
   "cell_type": "markdown",
   "metadata": {},
   "source": [
    "# 강사의 풀이 솔루션"
   ]
  },
  {
   "cell_type": "code",
   "execution_count": null,
   "metadata": {},
   "outputs": [],
   "source": [
    "def palindrome(s):\n",
    "    # 스페이스 제거\n",
    "    s = s.replace(' ','')\n",
    "    \n",
    "    return s == s[::-1]"
   ]
  },
  {
   "cell_type": "markdown",
   "metadata": {},
   "source": [
    "## 번역 :\n",
    "- 단어나 문장이 회문인지 아닌지 구분하는 함수 정의\n",
    "- 회문 : 우영우 기러기 토마토   와 같이 앞으로 읽어도 뒤로 읽어도 같은 글자"
   ]
  },
  {
   "cell_type": "code",
   "execution_count": 23,
   "metadata": {},
   "outputs": [],
   "source": [
    "def palindrome(s):\n",
    "    if s == s[::-1]:\n",
    "        return True\n",
    "    else:\n",
    "        return False"
   ]
  },
  {
   "cell_type": "code",
   "execution_count": 26,
   "metadata": {},
   "outputs": [
    {
     "data": {
      "text/plain": [
       "True"
      ]
     },
     "execution_count": 26,
     "metadata": {},
     "output_type": "execute_result"
    }
   ],
   "source": [
    "palindrome('rotasator')"
   ]
  },
  {
   "cell_type": "markdown",
   "metadata": {},
   "source": [
    "____\n",
    "#### Hard:\n",
    "\n",
    "**Write a Python function to check whether a string is pangram or not. (Assume the string passed in does not have any punctuation)**\n",
    "\n",
    "    Note : Pangrams are words or sentences containing every letter of the alphabet at least once.\n",
    "    For example : \"The quick brown fox jumps over the lazy dog\"\n",
    "\n",
    "Hint: You may want to use .replace() method to get rid of spaces.\n",
    "\n",
    "Hint: Look at the [string module](https://stackoverflow.com/questions/16060899/alphabet-range-in-python)\n",
    "\n",
    "Hint: In case you want to use [set comparisons](https://medium.com/better-programming/a-visual-guide-to-set-comparisons-in-python-6ab7edb9ec41)"
   ]
  },
  {
   "cell_type": "markdown",
   "metadata": {},
   "source": [
    "# 강사의 풀이 솔루션"
   ]
  },
  {
   "cell_type": "code",
   "execution_count": 69,
   "metadata": {},
   "outputs": [],
   "source": [
    "import string\n",
    "\n",
    "def ispangram(str1, alphabet=string.ascii_lowercase):\n",
    "    \n",
    "    # 알파벳 a-z이 들어있는 집합을 생성\n",
    "    alpha_set = set(alphabet)\n",
    "    \n",
    "    # 입력 문자열에서 공백을 제거\n",
    "    str1 = str1.replace(' ','')\n",
    "    \n",
    "    # 입력 문자열을 소문자로 변경\n",
    "    str1 = str1.lower()\n",
    "    \n",
    "    # 입력 문자열에서 고유 문자만 가져옴\n",
    "    str1 = set(str1)\n",
    "    \n",
    "    # 알파벳 집합 == 입력 문자열의 고유 문자열  비교\n",
    "    return str1 == alphabet"
   ]
  },
  {
   "cell_type": "markdown",
   "metadata": {},
   "source": [
    "## 번역 : 어려운 문제!!\n",
    "- 문자열이 팬그램* 인지 여부를 확인하는 함수 정의\n",
    "- 팬그램 : 알파벳에 있는 모든 스펠링을 최소 1번은 사용한 단어 or 문장"
   ]
  },
  {
   "cell_type": "code",
   "execution_count": 15,
   "metadata": {
    "collapsed": true
   },
   "outputs": [],
   "source": [
    "import string\n",
    "\n",
    "def ispangram(str1, alphabet=string.ascii_lowercase):\n",
    "    pass"
   ]
  },
  {
   "cell_type": "code",
   "execution_count": 16,
   "metadata": {},
   "outputs": [
    {
     "data": {
      "text/plain": [
       "True"
      ]
     },
     "execution_count": 16,
     "metadata": {},
     "output_type": "execute_result"
    }
   ],
   "source": [
    "ispangram(\"The quick brown fox jumps over the lazy dog\")"
   ]
  },
  {
   "cell_type": "code",
   "execution_count": 17,
   "metadata": {},
   "outputs": [
    {
     "data": {
      "text/plain": [
       "'abcdefghijklmnopqrstuvwxyz'"
      ]
     },
     "execution_count": 17,
     "metadata": {},
     "output_type": "execute_result"
    }
   ],
   "source": [
    "string.ascii_lowercase"
   ]
  },
  {
   "cell_type": "markdown",
   "metadata": {
    "collapsed": true
   },
   "source": [
    "#### Great Job!"
   ]
  }
 ],
 "metadata": {
  "kernelspec": {
   "display_name": "Python 3 (ipykernel)",
   "language": "python",
   "name": "python3"
  },
  "language_info": {
   "codemirror_mode": {
    "name": "ipython",
    "version": 3
   },
   "file_extension": ".py",
   "mimetype": "text/x-python",
   "name": "python",
   "nbconvert_exporter": "python",
   "pygments_lexer": "ipython3",
   "version": "3.9.12"
  }
 },
 "nbformat": 4,
 "nbformat_minor": 1
}
