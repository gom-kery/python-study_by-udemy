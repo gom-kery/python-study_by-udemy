{
 "cells": [
  {
   "cell_type": "markdown",
   "id": "ac3628e8",
   "metadata": {},
   "source": [
    "## 기본적인 튜플 언패킹"
   ]
  },
  {
   "cell_type": "code",
   "execution_count": 2,
   "id": "77e109f3",
   "metadata": {},
   "outputs": [],
   "source": [
    "stock_list = [('samsung',50000),('kakao',60000),('naver',220000)]"
   ]
  },
  {
   "cell_type": "code",
   "execution_count": 4,
   "id": "6abe6a93",
   "metadata": {},
   "outputs": [
    {
     "name": "stdout",
     "output_type": "stream",
     "text": [
      "samsung 50000\n",
      "samsung\n",
      "50000\n",
      "kakao 60000\n",
      "kakao\n",
      "60000\n",
      "naver 220000\n",
      "naver\n",
      "220000\n"
     ]
    }
   ],
   "source": [
    "for comm,prices in stock_list:\n",
    "    print(comm, prices)\n",
    "    print(comm)\n",
    "    print(prices)"
   ]
  },
  {
   "cell_type": "markdown",
   "id": "3935ef7e",
   "metadata": {},
   "source": [
    "## 다른 예시"
   ]
  },
  {
   "cell_type": "markdown",
   "id": "8fcf132a",
   "metadata": {},
   "source": [
    "### 제일 많이 일한 사람 이름과 시간을 출력해주는 함수"
   ]
  },
  {
   "cell_type": "code",
   "execution_count": 6,
   "id": "2edcaa0e",
   "metadata": {},
   "outputs": [],
   "source": [
    "part_time = [('lee',15),('choi',3),('park',30),('baek',21)]"
   ]
  },
  {
   "cell_type": "code",
   "execution_count": 10,
   "id": "be49e299",
   "metadata": {},
   "outputs": [],
   "source": [
    "def time_check(part_time):\n",
    "    max_time = 0                    # 일한 시간과 비교하기 위한 기준점 0\n",
    "    employee_name = ''\n",
    "    \n",
    "    for employee, times in part_time:\n",
    "        if times > max_time:          # time이 0보다 크면\n",
    "            max_time = times          # max_time을 time으로 갱신하고\n",
    "            employee_name = employee  # employee_name을 employee로 갱신해라.\n",
    "    \n",
    "    return(employee_name, max_time)\n",
    "    "
   ]
  },
  {
   "cell_type": "code",
   "execution_count": 11,
   "id": "a7749644",
   "metadata": {},
   "outputs": [
    {
     "data": {
      "text/plain": [
       "('park', 30)"
      ]
     },
     "execution_count": 11,
     "metadata": {},
     "output_type": "execute_result"
    }
   ],
   "source": [
    "time_check(part_time)"
   ]
  },
  {
   "cell_type": "markdown",
   "id": "4519f75b",
   "metadata": {},
   "source": [
    "## 만렙인 캐릭터를 출력해주는 함수"
   ]
  },
  {
   "cell_type": "code",
   "execution_count": 19,
   "id": "a219848f",
   "metadata": {},
   "outputs": [],
   "source": [
    "# 캐릭터 명과 레벨이 담긴 튜플 리스트\n",
    "character_lists = [('사제',26),('전사',3),('수도사',60),('죽음의 기사',10),('기원사',50)]"
   ]
  },
  {
   "cell_type": "code",
   "execution_count": 16,
   "id": "4fad97e3",
   "metadata": {},
   "outputs": [
    {
     "name": "stdout",
     "output_type": "stream",
     "text": [
      "사제 26\n",
      "전사 3\n",
      "수도사 60\n",
      "죽음의 기사 10\n",
      "기원사 70\n"
     ]
    }
   ],
   "source": [
    "for name,lv in character_lists:\n",
    "    print(name,lv)"
   ]
  },
  {
   "cell_type": "code",
   "execution_count": 20,
   "id": "c074f17e",
   "metadata": {},
   "outputs": [],
   "source": [
    "def maxlv_character(character_lists):\n",
    "    char_lv = 0\n",
    "    char_name = ''\n",
    "    \n",
    "    for name,lv in character_lists:\n",
    "        if lv > char_lv :\n",
    "            char_lv = lv\n",
    "            char_name = name\n",
    "        else:\n",
    "            pass\n",
    "    return (char_lv, char_name)"
   ]
  },
  {
   "cell_type": "code",
   "execution_count": 21,
   "id": "9fea9295",
   "metadata": {},
   "outputs": [
    {
     "data": {
      "text/plain": [
       "(60, '수도사')"
      ]
     },
     "execution_count": 21,
     "metadata": {},
     "output_type": "execute_result"
    }
   ],
   "source": [
    "maxlv_character(character_lists)"
   ]
  },
  {
   "cell_type": "markdown",
   "id": "467fdcd5",
   "metadata": {},
   "source": [
    "별도의 변수를 사용하므로 아래와 같이도 사용할 수 있음"
   ]
  },
  {
   "cell_type": "code",
   "execution_count": 22,
   "id": "5d4933e0",
   "metadata": {},
   "outputs": [
    {
     "data": {
      "text/plain": [
       "'기원사'"
      ]
     },
     "execution_count": 22,
     "metadata": {},
     "output_type": "execute_result"
    }
   ],
   "source": [
    "name"
   ]
  },
  {
   "cell_type": "code",
   "execution_count": 23,
   "id": "1c447f82",
   "metadata": {},
   "outputs": [
    {
     "data": {
      "text/plain": [
       "70"
      ]
     },
     "execution_count": 23,
     "metadata": {},
     "output_type": "execute_result"
    }
   ],
   "source": [
    "lv"
   ]
  },
  {
   "cell_type": "code",
   "execution_count": null,
   "id": "54d058f7",
   "metadata": {},
   "outputs": [],
   "source": []
  }
 ],
 "metadata": {
  "kernelspec": {
   "display_name": "Python 3 (ipykernel)",
   "language": "python",
   "name": "python3"
  },
  "language_info": {
   "codemirror_mode": {
    "name": "ipython",
    "version": 3
   },
   "file_extension": ".py",
   "mimetype": "text/x-python",
   "name": "python",
   "nbconvert_exporter": "python",
   "pygments_lexer": "ipython3",
   "version": "3.9.12"
  }
 },
 "nbformat": 4,
 "nbformat_minor": 5
}
