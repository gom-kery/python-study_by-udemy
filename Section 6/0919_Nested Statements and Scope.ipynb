{
 "cells": [
  {
   "cell_type": "code",
   "execution_count": 1,
   "id": "d9c51ced",
   "metadata": {},
   "outputs": [],
   "source": [
    "n = 50\n",
    "\n",
    "def printer():\n",
    "    x = 30\n",
    "    return x"
   ]
  },
  {
   "cell_type": "code",
   "execution_count": 3,
   "id": "f012f2ee",
   "metadata": {},
   "outputs": [
    {
     "name": "stdout",
     "output_type": "stream",
     "text": [
      "50\n"
     ]
    }
   ],
   "source": [
    "print(n)"
   ]
  },
  {
   "cell_type": "code",
   "execution_count": 5,
   "id": "ae55cef5",
   "metadata": {},
   "outputs": [
    {
     "name": "stdout",
     "output_type": "stream",
     "text": [
      "30\n"
     ]
    }
   ],
   "source": [
    "print(printer())"
   ]
  },
  {
   "cell_type": "markdown",
   "id": "853ece52",
   "metadata": {},
   "source": [
    "# LEGB RULE"
   ]
  },
  {
   "cell_type": "markdown",
   "id": "0976b1f6",
   "metadata": {},
   "source": [
    "### LOCAL: 지역 변수"
   ]
  },
  {
   "cell_type": "code",
   "execution_count": 9,
   "id": "a9de479e",
   "metadata": {},
   "outputs": [
    {
     "data": {
      "text/plain": [
       "[1, 8, 27, 64]"
      ]
     },
     "execution_count": 9,
     "metadata": {},
     "output_type": "execute_result"
    }
   ],
   "source": [
    "nums = [1,2,3,4]\n",
    "\n",
    "list(map(lambda num : num ** 3, nums))\n",
    "#lambda 표현식 내의 num == 지역 변수"
   ]
  },
  {
   "cell_type": "markdown",
   "id": "3d5c9cdc",
   "metadata": {},
   "source": [
    "### Enclosing function locals: 바깥 함수 지역 변수"
   ]
  },
  {
   "cell_type": "code",
   "execution_count": 21,
   "id": "4525808d",
   "metadata": {},
   "outputs": [],
   "source": [
    "# 전역 변수\n",
    "name = 'Gobal'\n",
    "\n",
    "# func1 함수의 동작\n",
    "def func1():\n",
    "    \n",
    "    # 바깥 함수 지역 변수 - name \n",
    "    #name = 'Enclosing ~'\n",
    "    \n",
    "    # func1 함수 안에서 hello 라는 함수를 정의\n",
    "    def hello():\n",
    "        \n",
    "        #name = 'Local'\n",
    "        print('반영된 변수 name = '+name)\n",
    "    \n",
    "    hello()\n",
    "   "
   ]
  },
  {
   "cell_type": "markdown",
   "id": "f08cef9e",
   "metadata": {},
   "source": [
    "## func1 함수를 호출하면 내부적으로 name 이라는 변수를 만듬"
   ]
  },
  {
   "cell_type": "code",
   "execution_count": 14,
   "id": "65b92c7e",
   "metadata": {},
   "outputs": [
    {
     "name": "stdout",
     "output_type": "stream",
     "text": [
      "반영된 변수 name = Local\n"
     ]
    }
   ],
   "source": [
    "func1()"
   ]
  },
  {
   "cell_type": "code",
   "execution_count": 17,
   "id": "6e86be2f",
   "metadata": {},
   "outputs": [
    {
     "name": "stdout",
     "output_type": "stream",
     "text": [
      "반영된 변수 name = Enclosing ~\n"
     ]
    }
   ],
   "source": [
    "# name = 'Local' 주석 처리 후 실행\n",
    "func1()"
   ]
  },
  {
   "cell_type": "code",
   "execution_count": 19,
   "id": "1ebf0429",
   "metadata": {},
   "outputs": [
    {
     "name": "stdout",
     "output_type": "stream",
     "text": [
      "반영된 변수 name = Gobal\n"
     ]
    }
   ],
   "source": [
    "# name = 'Enclosing ~' 주석 처리 후 실행\n",
    "func1()"
   ]
  },
  {
   "cell_type": "code",
   "execution_count": 22,
   "id": "264d8694",
   "metadata": {},
   "outputs": [
    {
     "ename": "NameError",
     "evalue": "name 'hello' is not defined",
     "output_type": "error",
     "traceback": [
      "\u001b[1;31m---------------------------------------------------------------------------\u001b[0m",
      "\u001b[1;31mNameError\u001b[0m                                 Traceback (most recent call last)",
      "Input \u001b[1;32mIn [22]\u001b[0m, in \u001b[0;36m<cell line: 1>\u001b[1;34m()\u001b[0m\n\u001b[1;32m----> 1\u001b[0m \u001b[43mhello\u001b[49m()\n",
      "\u001b[1;31mNameError\u001b[0m: name 'hello' is not defined"
     ]
    }
   ],
   "source": [
    "hello()"
   ]
  },
  {
   "cell_type": "code",
   "execution_count": 3,
   "id": "08d5eca0",
   "metadata": {},
   "outputs": [],
   "source": [
    "def outer():\n",
    "\t\n",
    "    name = 'bear2kery'\n",
    "    def inner():\n",
    "    \tprint('good night_' + name)\n",
    "    \n",
    "    inner()"
   ]
  },
  {
   "cell_type": "code",
   "execution_count": 4,
   "id": "76b8e3d0",
   "metadata": {},
   "outputs": [
    {
     "name": "stdout",
     "output_type": "stream",
     "text": [
      "good night_bear2kery\n"
     ]
    }
   ],
   "source": [
    "outer()"
   ]
  },
  {
   "cell_type": "code",
   "execution_count": 5,
   "id": "de356fc2",
   "metadata": {},
   "outputs": [
    {
     "ename": "NameError",
     "evalue": "name 'inner' is not defined",
     "output_type": "error",
     "traceback": [
      "\u001b[1;31m---------------------------------------------------------------------------\u001b[0m",
      "\u001b[1;31mNameError\u001b[0m                                 Traceback (most recent call last)",
      "Input \u001b[1;32mIn [5]\u001b[0m, in \u001b[0;36m<cell line: 1>\u001b[1;34m()\u001b[0m\n\u001b[1;32m----> 1\u001b[0m \u001b[43minner\u001b[49m()\n",
      "\u001b[1;31mNameError\u001b[0m: name 'inner' is not defined"
     ]
    }
   ],
   "source": [
    "inner()"
   ]
  },
  {
   "cell_type": "code",
   "execution_count": null,
   "id": "6a108b0f",
   "metadata": {},
   "outputs": [],
   "source": []
  }
 ],
 "metadata": {
  "kernelspec": {
   "display_name": "Python 3 (ipykernel)",
   "language": "python",
   "name": "python3"
  },
  "language_info": {
   "codemirror_mode": {
    "name": "ipython",
    "version": 3
   },
   "file_extension": ".py",
   "mimetype": "text/x-python",
   "name": "python",
   "nbconvert_exporter": "python",
   "pygments_lexer": "ipython3",
   "version": "3.9.12"
  }
 },
 "nbformat": 4,
 "nbformat_minor": 5
}
